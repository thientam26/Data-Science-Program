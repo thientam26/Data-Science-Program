{
 "cells": [
  {
   "cell_type": "code",
   "execution_count": 132,
   "metadata": {},
   "outputs": [],
   "source": [
    "import numpy as np\n",
    "import pandas as pd\n",
    "import math"
   ]
  },
  {
   "cell_type": "markdown",
   "metadata": {},
   "source": [
    "### 1.\tGiven a number N, check if N is a prime number"
   ]
  },
  {
   "cell_type": "markdown",
   "metadata": {},
   "source": [
    "#### Cách 1: Viết hàm theo định nghĩa số nguyên tố"
   ]
  },
  {
   "cell_type": "code",
   "execution_count": 392,
   "metadata": {},
   "outputs": [],
   "source": [
    "def prime_num(num):\n",
    "    # Count variable for divisible number\n",
    "    count_div = 0 \n",
    "    # Check for all different number\n",
    "    # Check for negative number and float\n",
    "    if (num < 2) or (type(num)!= int): \n",
    "        print('Số',num,' không phải là số nguyên tố')\n",
    "    else:\n",
    "        for i in range(1,num+1):\n",
    "            if num%i == 0:\n",
    "                count_div = count_div + 1\n",
    "        if count_div > 2 : #\n",
    "            print('Số',num,' không phải là số nguyên tố')\n",
    "        else:\n",
    "            print('Số',num,' là số nguyên tố')\n",
    "    return"
   ]
  },
  {
   "cell_type": "code",
   "execution_count": 396,
   "metadata": {},
   "outputs": [
    {
     "name": "stdout",
     "output_type": "stream",
     "text": [
      "Số 2  là số nguyên tố\n",
      "Số 3  là số nguyên tố\n",
      "Số 5  là số nguyên tố\n",
      "Số 7  là số nguyên tố\n",
      "Số 11  là số nguyên tố\n",
      "Số 13  là số nguyên tố\n",
      "Số 17  là số nguyên tố\n",
      "Số 19  là số nguyên tố\n",
      "Số 23  là số nguyên tố\n",
      "Số 29  là số nguyên tố\n",
      "Số 31  là số nguyên tố\n",
      "Số 37  là số nguyên tố\n",
      "Số 41  là số nguyên tố\n",
      "Số 43  là số nguyên tố\n",
      "Số 47  là số nguyên tố\n",
      "Số 53  là số nguyên tố\n",
      "Số 59  là số nguyên tố\n",
      "Số 61  là số nguyên tố\n",
      "Số 67  là số nguyên tố\n",
      "Số 71  là số nguyên tố\n",
      "Số 73  là số nguyên tố\n",
      "Số 79  là số nguyên tố\n",
      "Số 83  là số nguyên tố\n",
      "Số 89  là số nguyên tố\n",
      "Số 97  là số nguyên tố\n",
      "Số 769  là số nguyên tố\n"
     ]
    }
   ],
   "source": [
    "# Checking fuction\n",
    "#List of prime number\n",
    "lst_prime_num = [2, 3, 5, 7, 11, 13, 17, 19, 23, 29, 31, 37, 41, 43, 47, 53, 59, 61, 67, 71, 73, 79, 83, 89, 97]\n",
    "for i in lst_prime_num:\n",
    "    prime_num(i)\n",
    "#Checking for a number\n",
    "prime_num(769)"
   ]
  },
  {
   "cell_type": "markdown",
   "metadata": {},
   "source": [
    "#### Cách 2: Lấy căn bậc 2 của số nhập vào rồi xét điều kiện"
   ]
  },
  {
   "cell_type": "code",
   "execution_count": 405,
   "metadata": {},
   "outputs": [],
   "source": [
    "def prime_num_ver1(num):\n",
    "    # Count variable for divisible number\n",
    "    count_div = 0 \n",
    "    # Check for all different number\n",
    "    # Check for negative number and float\n",
    "    # Check for number 1 \n",
    "    if (num < 2) or (type(num)!= int): \n",
    "        print('Số',num,' không phải là số nguyên tố')\n",
    "    elif (num>1) and (num<4):\n",
    "        print('Số',num,' là số nguyên tố')\n",
    "    else:\n",
    "        sqt_num = math.sqrt(num)\n",
    "        i = 2\n",
    "        while i <= sqt_num:\n",
    "            if num%i == 0:\n",
    "                print('Số',num,'không phải là số nguyên tố')\n",
    "                count_div = count_div + 1\n",
    "                break\n",
    "            else:\n",
    "                count_div = 0\n",
    "            i+=1\n",
    "        if count_div == 0:\n",
    "            print('Số',num,' là số nguyên tố')\n",
    "    return"
   ]
  },
  {
   "cell_type": "code",
   "execution_count": 407,
   "metadata": {},
   "outputs": [
    {
     "name": "stdout",
     "output_type": "stream",
     "text": [
      "Số 2  là số nguyên tố\n",
      "Số 3  là số nguyên tố\n",
      "Số 5  là số nguyên tố\n",
      "Số 7  là số nguyên tố\n",
      "Số 11  là số nguyên tố\n",
      "Số 13  là số nguyên tố\n",
      "Số 17  là số nguyên tố\n",
      "Số 19  là số nguyên tố\n",
      "Số 23  là số nguyên tố\n",
      "Số 29  là số nguyên tố\n",
      "Số 31  là số nguyên tố\n",
      "Số 37  là số nguyên tố\n",
      "Số 41  là số nguyên tố\n",
      "Số 43  là số nguyên tố\n",
      "Số 47  là số nguyên tố\n",
      "Số 53  là số nguyên tố\n",
      "Số 59  là số nguyên tố\n",
      "Số 61  là số nguyên tố\n",
      "Số 67  là số nguyên tố\n",
      "Số 71  là số nguyên tố\n",
      "Số 73  là số nguyên tố\n",
      "Số 79  là số nguyên tố\n",
      "Số 83  là số nguyên tố\n",
      "Số 89  là số nguyên tố\n",
      "Số 97  là số nguyên tố\n"
     ]
    }
   ],
   "source": [
    "lst_prime_num = [2, 3, 5, 7, 11, 13, 17, 19, 23, 29, 31, 37, 41, 43, 47, 53, 59, 61, 67, 71, 73, 79, 83, 89, 97]\n",
    "for i in lst_prime_num:\n",
    "    prime_num_ver1(i)\n",
    "#prime_num_ver1(11)"
   ]
  },
  {
   "cell_type": "markdown",
   "metadata": {},
   "source": [
    "### 2.\tGiven a number N, print all prime numbers less than or equal to N"
   ]
  },
  {
   "cell_type": "markdown",
   "metadata": {},
   "source": [
    "#### Cách 1:"
   ]
  },
  {
   "cell_type": "code",
   "execution_count": 150,
   "metadata": {},
   "outputs": [],
   "source": [
    "def prime_num_ver2(num):\n",
    "    # Count divisible variable\n",
    "    count_div = 0 \n",
    "    # Check for number 1 \n",
    "    for i in range(1,num+1):\n",
    "        if num%i == 0:\n",
    "            count_div = count_div + 1\n",
    "    if count_div == 2 :\n",
    "        print('Số',num,' là số nguyên tố')\n",
    "    return"
   ]
  },
  {
   "cell_type": "code",
   "execution_count": 408,
   "metadata": {},
   "outputs": [],
   "source": [
    "def find_prime_num(num):\n",
    "    # Check for number 1 \n",
    "    # Check for negative number\n",
    "    # Check for all different number\n",
    "    if num < 2:\n",
    "        print('Số',num,' không hợp lệ để tìm số nguyên tố nhỏ hơn hoặc bằng')\n",
    "    else:\n",
    "        num_in = math.floor(num)\n",
    "        for i in range(1,num_in+1):\n",
    "            prime_num_ver2(i)\n",
    "    return "
   ]
  },
  {
   "cell_type": "code",
   "execution_count": 409,
   "metadata": {},
   "outputs": [
    {
     "name": "stdout",
     "output_type": "stream",
     "text": [
      "Số 2  là số nguyên tố\n",
      "Số 3  là số nguyên tố\n",
      "Số 5  là số nguyên tố\n",
      "Số 7  là số nguyên tố\n"
     ]
    }
   ],
   "source": [
    "# Checking function\n",
    "find_prime_num(9)"
   ]
  },
  {
   "cell_type": "markdown",
   "metadata": {},
   "source": [
    "### 3.\tGiven a number N, find the sum of digits of that number at even and odd places"
   ]
  },
  {
   "cell_type": "markdown",
   "metadata": {},
   "source": [
    "#### Cách 1: "
   ]
  },
  {
   "cell_type": "code",
   "execution_count": 224,
   "metadata": {},
   "outputs": [],
   "source": [
    "def sum_digits_num(num):\n",
    "    # Convert to string\n",
    "    num_in = math.floor(num)\n",
    "    num_str = [int(i) for i in str(num_in)]\n",
    "    # Legnth of number\n",
    "    len_num = len(num_str)\n",
    "    # Sum of digits at even index\n",
    "    sum_even = 0\n",
    "    # Sum of digits at odd index\n",
    "    sum_odd = 0\n",
    "    for i in range(len_num):\n",
    "        if i%2 == 0:\n",
    "            sum_even = sum_even+num_str[i]\n",
    "        else:\n",
    "            sum_odd = sum_odd+num_str[i]\n",
    "    print('Sum of digits at even index',sum_even)\n",
    "    print('Sum of digits at odd index',sum_odd)\n",
    "    return"
   ]
  },
  {
   "cell_type": "code",
   "execution_count": 229,
   "metadata": {},
   "outputs": [
    {
     "name": "stdout",
     "output_type": "stream",
     "text": [
      "[0]\n",
      "Sum of digits at even index 0\n",
      "Sum of digits at odd index 0\n"
     ]
    }
   ],
   "source": [
    "# Checking for function\n",
    "sum_digits_num(0)"
   ]
  },
  {
   "cell_type": "markdown",
   "metadata": {},
   "source": [
    "### 4.\tGiven an integer N containing the digit 6 at least once. The task is to divide the number into two parts x1 and x2 such that:\n",
    "+ x1 + x2 = N.\n",
    "+ And none of the parts contain the digit 6.\n"
   ]
  },
  {
   "cell_type": "markdown",
   "metadata": {},
   "source": [
    "#### Cách 1"
   ]
  },
  {
   "cell_type": "code",
   "execution_count": 256,
   "metadata": {},
   "outputs": [],
   "source": [
    "# Firstly, I don't pay attention for conditions of question\n",
    "def separate_num(num):\n",
    "    if (str(num).count('6')== 0) or (type(num)!= int) or (num <0):\n",
    "        print('Số này không hợp lệ')\n",
    "    else:\n",
    "        for i in range(num+1):\n",
    "            x1 = i \n",
    "            x2 = num-i\n",
    "            if (str(x1).count('6') ==0) and(str(x2).count('6')==0):\n",
    "                print('x1 = ',x1)\n",
    "                print('x2 = ',x2)\n",
    "                print(x1,'+',x2,'=',x1+x2)\n",
    "    return "
   ]
  },
  {
   "cell_type": "code",
   "execution_count": 257,
   "metadata": {},
   "outputs": [
    {
     "name": "stdout",
     "output_type": "stream",
     "text": [
      "Số này không hợp lệ\n"
     ]
    }
   ],
   "source": [
    "# Checking for function\n",
    "separate_num(-6)"
   ]
  },
  {
   "cell_type": "code",
   "execution_count": 285,
   "metadata": {},
   "outputs": [],
   "source": [
    "# After, improve for all number\n",
    "def div_num(num):\n",
    "    if (str(num).count('6')== 0) or (type(num)!= int):\n",
    "        print('Số này không hợp lệ')\n",
    "    elif (num >= 0):\n",
    "        for i in range(num+1):\n",
    "                x1 = i \n",
    "                x2 = num-i\n",
    "                if (str(x1).count('6') ==0) and(str(x2).count('6')==0):\n",
    "                    print('Các cặp giá trị là: x1 = ',x1,'x2 =',x2)\n",
    "    else:\n",
    "        for i in range(abs(num)+1):\n",
    "                x1 = i \n",
    "                x2 = num-x1\n",
    "                if (str(x1).count('6') ==0) and(str(x2).count('6')==0):\n",
    "                    print('Các cặp giá trị là: x1 = ',x1,';x2 =',x2)\n",
    "                    print('Các cặp giá trị là: x1 = ',(-1)*x1,';x2 =',(-1)*(abs(num)-x1))\n",
    "    return"
   ]
  },
  {
   "cell_type": "code",
   "execution_count": 290,
   "metadata": {},
   "outputs": [
    {
     "name": "stdout",
     "output_type": "stream",
     "text": [
      "Các cặp giá trị là: x1 =  1 x2 = 5\n",
      "Các cặp giá trị là: x1 =  2 x2 = 4\n",
      "Các cặp giá trị là: x1 =  3 x2 = 3\n",
      "Các cặp giá trị là: x1 =  4 x2 = 2\n",
      "Các cặp giá trị là: x1 =  5 x2 = 1\n"
     ]
    }
   ],
   "source": [
    "# Checking for function\n",
    "div_num(6)"
   ]
  }
 ],
 "metadata": {
  "kernelspec": {
   "display_name": "Python 3",
   "language": "python",
   "name": "python3"
  },
  "language_info": {
   "codemirror_mode": {
    "name": "ipython",
    "version": 3
   },
   "file_extension": ".py",
   "mimetype": "text/x-python",
   "name": "python",
   "nbconvert_exporter": "python",
   "pygments_lexer": "ipython3",
   "version": "3.6.8"
  }
 },
 "nbformat": 4,
 "nbformat_minor": 2
}
