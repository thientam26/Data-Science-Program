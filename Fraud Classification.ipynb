{
 "cells": [
  {
   "cell_type": "markdown",
   "metadata": {
    "button": false,
    "new_sheet": false,
    "run_control": {
     "read_only": false
    }
   },
   "source": [
    "\n",
    "<h1 align=\"center\"><font size=\"5\">Project: Fraud Classification</font></h1>\n",
    "<h2 align=\"center\"><font size=\"5\">Deadline: </font></h2>\n",
    "<h3 align=\"center\"><font size=\"5\"> Total marks: </font></h3>"
   ]
  },
  {
   "cell_type": "code",
   "execution_count": 2,
   "metadata": {
    "button": false,
    "new_sheet": false,
    "run_control": {
     "read_only": false
    }
   },
   "outputs": [],
   "source": [
    "import itertools\n",
    "import numpy as np\n",
    "import matplotlib.pyplot as plt\n",
    "from matplotlib.ticker import NullFormatter\n",
    "import pandas as pd\n",
    "import numpy as np\n",
    "import matplotlib.ticker as ticker\n",
    "from sklearn import preprocessing\n",
    "import seaborn as sns\n",
    "import scipy\n",
    "from geolite2 import geolite2\n",
    "import ipaddress\n",
    "import socket\n",
    "import struct\n",
    "%matplotlib inline"
   ]
  },
  {
   "cell_type": "markdown",
   "metadata": {
    "button": false,
    "new_sheet": false,
    "run_control": {
     "read_only": false
    }
   },
   "source": [
    "### About dataset"
   ]
  },
  {
   "cell_type": "markdown",
   "metadata": {
    "button": false,
    "new_sheet": false,
    "run_control": {
     "read_only": false
    }
   },
   "source": [
    "Company XYZ is an e-commerce site that sells hand-made clothes. You have to build a model that predicts whether a user has a high probability of using the site to perform some illegal activity or not. This is a super common task for data scientists. \n",
    "\n",
    "You only have information about the user first transaction on the site and based on that you have to make your classification (\"fraud/no fraud\"). \n",
    "\n",
    "These are the tasks you are asked to do: \n",
    "\n",
    "For each user, determine her country based on the numeric IP address. \n",
    "\n",
    "Build a model to predict whether an activity is fraudulent or not. Explain how different assumptions about the cost of false positives vs false negatives would impact the model. \n",
    "\n",
    "Your boss is a bit worried about using a model she doesn't understand for something as important as fraud detection. How would you explain her how the model is making the predictions? Not from a mathematical perspective (she couldn't care less about that), but from a user perspective. What kinds of users are more likely to be classified as at risk? What are their characteristics? \n",
    "\n",
    "Let's say you now have this model which can be used live to predict in real time if an activity is fraudulent or not. From a product perspective, how would you use it? That is, what kind of different user experiences would you build based on the model output?\n",
    "\n",
    "\n",
    "This dataset is about past transactions. The __Fraud-Data.csv__ data set includes details of 151112 customers whose transaction is fraudulent or not. It includes following fields:\n",
    "\n",
    "\n",
    "\n",
    "| Field          | Description                                                                                          |\n",
    "|----------------|------------------------------------------------------------------------------------------------------|\n",
    "| user_id        | Id of user. Unique by user                                                                           |\n",
    "| signup_time    | The time when user created her account(GMT time)                                                     |\n",
    "| purchase_time  | The time when the user bought the item(GMT time)                                                     |\n",
    "| purchase_value | The cost of the item purchased (USD)                                                                 |\n",
    "| device_id      | The devide ID. You can assume that it is unique by divice.I.e., 2 transactions with the same divice Id means that the same physical device was used to buy              |\n",
    "| source         | User marketing channel: ads, SEO, Direct(i.e.came to the site by directly typing the site address on the browser)                                                                |\n",
    "| browser        | The browser used by the user                                                                         |\n",
    "| sex            | User sex: male/Female                                                               \n",
    "| age            | User age                                                                                             |\n",
    "| ip_address     | User numeric ip address                                                                              |\n",
    "| class          | This is what we are trying to predict: wheather the activity was fraudulent(1) or not(0)             |"
   ]
  },
  {
   "cell_type": "markdown",
   "metadata": {},
   "source": [
    "# 1. Data Exploration"
   ]
  },
  {
   "cell_type": "markdown",
   "metadata": {},
   "source": [
    "### *** To predict \"Whether an activity is fraudulent or not\", we need some fields: ' ', ' ', ' ', ' ', ' ' \n",
    "### The first things we need to do:\n",
    "- Identify Variables \n",
    "- Univariate Analysis    \n",
    "- Bi-variate Analysis\n",
    "- Handle the Missing Values\n",
    "- Handle Outlier Values"
   ]
  },
  {
   "cell_type": "markdown",
   "metadata": {
    "button": false,
    "new_sheet": false,
    "run_control": {
     "read_only": false
    }
   },
   "source": [
    "### 1.1 Load Data From CSV File  "
   ]
  },
  {
   "cell_type": "code",
   "execution_count": 3,
   "metadata": {},
   "outputs": [],
   "source": [
    "# Read CSV file: loan_train.csv\n",
    "data_train = pd.read_csv('Fraud_Data.csv')"
   ]
  },
  {
   "cell_type": "code",
   "execution_count": 4,
   "metadata": {},
   "outputs": [
    {
     "data": {
      "text/plain": [
       "(151112, 11)"
      ]
     },
     "execution_count": 4,
     "metadata": {},
     "output_type": "execute_result"
    }
   ],
   "source": [
    "# Understanding to dataset\n",
    "# Shape\n",
    "data_train.shape"
   ]
  },
  {
   "cell_type": "code",
   "execution_count": 5,
   "metadata": {},
   "outputs": [
    {
     "data": {
      "text/html": [
       "<div>\n",
       "<style scoped>\n",
       "    .dataframe tbody tr th:only-of-type {\n",
       "        vertical-align: middle;\n",
       "    }\n",
       "\n",
       "    .dataframe tbody tr th {\n",
       "        vertical-align: top;\n",
       "    }\n",
       "\n",
       "    .dataframe thead th {\n",
       "        text-align: right;\n",
       "    }\n",
       "</style>\n",
       "<table border=\"1\" class=\"dataframe\">\n",
       "  <thead>\n",
       "    <tr style=\"text-align: right;\">\n",
       "      <th></th>\n",
       "      <th>user_id</th>\n",
       "      <th>signup_time</th>\n",
       "      <th>purchase_time</th>\n",
       "      <th>purchase_value</th>\n",
       "      <th>device_id</th>\n",
       "      <th>source</th>\n",
       "      <th>browser</th>\n",
       "      <th>sex</th>\n",
       "      <th>age</th>\n",
       "      <th>ip_address</th>\n",
       "      <th>class</th>\n",
       "    </tr>\n",
       "  </thead>\n",
       "  <tbody>\n",
       "    <tr>\n",
       "      <th>0</th>\n",
       "      <td>22058</td>\n",
       "      <td>2015-02-24 22:55:49</td>\n",
       "      <td>2015-04-18 02:47:11</td>\n",
       "      <td>34</td>\n",
       "      <td>QVPSPJUOCKZAR</td>\n",
       "      <td>SEO</td>\n",
       "      <td>Chrome</td>\n",
       "      <td>M</td>\n",
       "      <td>39</td>\n",
       "      <td>7.327584e+08</td>\n",
       "      <td>0</td>\n",
       "    </tr>\n",
       "    <tr>\n",
       "      <th>1</th>\n",
       "      <td>333320</td>\n",
       "      <td>2015-06-07 20:39:50</td>\n",
       "      <td>2015-06-08 01:38:54</td>\n",
       "      <td>16</td>\n",
       "      <td>EOGFQPIZPYXFZ</td>\n",
       "      <td>Ads</td>\n",
       "      <td>Chrome</td>\n",
       "      <td>F</td>\n",
       "      <td>53</td>\n",
       "      <td>3.503114e+08</td>\n",
       "      <td>0</td>\n",
       "    </tr>\n",
       "    <tr>\n",
       "      <th>2</th>\n",
       "      <td>1359</td>\n",
       "      <td>2015-01-01 18:52:44</td>\n",
       "      <td>2015-01-01 18:52:45</td>\n",
       "      <td>15</td>\n",
       "      <td>YSSKYOSJHPPLJ</td>\n",
       "      <td>SEO</td>\n",
       "      <td>Opera</td>\n",
       "      <td>M</td>\n",
       "      <td>53</td>\n",
       "      <td>2.621474e+09</td>\n",
       "      <td>1</td>\n",
       "    </tr>\n",
       "    <tr>\n",
       "      <th>3</th>\n",
       "      <td>150084</td>\n",
       "      <td>2015-04-28 21:13:25</td>\n",
       "      <td>2015-05-04 13:54:50</td>\n",
       "      <td>44</td>\n",
       "      <td>ATGTXKYKUDUQN</td>\n",
       "      <td>SEO</td>\n",
       "      <td>Safari</td>\n",
       "      <td>M</td>\n",
       "      <td>41</td>\n",
       "      <td>3.840542e+09</td>\n",
       "      <td>0</td>\n",
       "    </tr>\n",
       "    <tr>\n",
       "      <th>4</th>\n",
       "      <td>221365</td>\n",
       "      <td>2015-07-21 07:09:52</td>\n",
       "      <td>2015-09-09 18:40:53</td>\n",
       "      <td>39</td>\n",
       "      <td>NAUITBZFJKHWW</td>\n",
       "      <td>Ads</td>\n",
       "      <td>Safari</td>\n",
       "      <td>M</td>\n",
       "      <td>45</td>\n",
       "      <td>4.155831e+08</td>\n",
       "      <td>0</td>\n",
       "    </tr>\n",
       "  </tbody>\n",
       "</table>\n",
       "</div>"
      ],
      "text/plain": [
       "   user_id          signup_time        purchase_time  purchase_value  \\\n",
       "0    22058  2015-02-24 22:55:49  2015-04-18 02:47:11              34   \n",
       "1   333320  2015-06-07 20:39:50  2015-06-08 01:38:54              16   \n",
       "2     1359  2015-01-01 18:52:44  2015-01-01 18:52:45              15   \n",
       "3   150084  2015-04-28 21:13:25  2015-05-04 13:54:50              44   \n",
       "4   221365  2015-07-21 07:09:52  2015-09-09 18:40:53              39   \n",
       "\n",
       "       device_id source browser sex  age    ip_address  class  \n",
       "0  QVPSPJUOCKZAR    SEO  Chrome   M   39  7.327584e+08      0  \n",
       "1  EOGFQPIZPYXFZ    Ads  Chrome   F   53  3.503114e+08      0  \n",
       "2  YSSKYOSJHPPLJ    SEO   Opera   M   53  2.621474e+09      1  \n",
       "3  ATGTXKYKUDUQN    SEO  Safari   M   41  3.840542e+09      0  \n",
       "4  NAUITBZFJKHWW    Ads  Safari   M   45  4.155831e+08      0  "
      ]
     },
     "execution_count": 5,
     "metadata": {},
     "output_type": "execute_result"
    }
   ],
   "source": [
    "# head()\n",
    "data_train.head()"
   ]
  },
  {
   "cell_type": "code",
   "execution_count": 6,
   "metadata": {},
   "outputs": [
    {
     "data": {
      "text/html": [
       "<div>\n",
       "<style scoped>\n",
       "    .dataframe tbody tr th:only-of-type {\n",
       "        vertical-align: middle;\n",
       "    }\n",
       "\n",
       "    .dataframe tbody tr th {\n",
       "        vertical-align: top;\n",
       "    }\n",
       "\n",
       "    .dataframe thead th {\n",
       "        text-align: right;\n",
       "    }\n",
       "</style>\n",
       "<table border=\"1\" class=\"dataframe\">\n",
       "  <thead>\n",
       "    <tr style=\"text-align: right;\">\n",
       "      <th></th>\n",
       "      <th>user_id</th>\n",
       "      <th>signup_time</th>\n",
       "      <th>purchase_time</th>\n",
       "      <th>purchase_value</th>\n",
       "      <th>device_id</th>\n",
       "      <th>source</th>\n",
       "      <th>browser</th>\n",
       "      <th>sex</th>\n",
       "      <th>age</th>\n",
       "      <th>ip_address</th>\n",
       "      <th>class</th>\n",
       "    </tr>\n",
       "  </thead>\n",
       "  <tbody>\n",
       "    <tr>\n",
       "      <th>151107</th>\n",
       "      <td>345170</td>\n",
       "      <td>2015-01-27 03:03:34</td>\n",
       "      <td>2015-03-29 00:30:47</td>\n",
       "      <td>43</td>\n",
       "      <td>XPSKTWGPWINLR</td>\n",
       "      <td>SEO</td>\n",
       "      <td>Chrome</td>\n",
       "      <td>M</td>\n",
       "      <td>28</td>\n",
       "      <td>3.451155e+09</td>\n",
       "      <td>1</td>\n",
       "    </tr>\n",
       "    <tr>\n",
       "      <th>151108</th>\n",
       "      <td>274471</td>\n",
       "      <td>2015-05-15 17:43:29</td>\n",
       "      <td>2015-05-26 12:24:39</td>\n",
       "      <td>35</td>\n",
       "      <td>LYSFABUCPCGBA</td>\n",
       "      <td>SEO</td>\n",
       "      <td>Safari</td>\n",
       "      <td>M</td>\n",
       "      <td>32</td>\n",
       "      <td>2.439047e+09</td>\n",
       "      <td>0</td>\n",
       "    </tr>\n",
       "    <tr>\n",
       "      <th>151109</th>\n",
       "      <td>368416</td>\n",
       "      <td>2015-03-03 23:07:31</td>\n",
       "      <td>2015-05-20 07:07:47</td>\n",
       "      <td>40</td>\n",
       "      <td>MEQHCSJUBRBFE</td>\n",
       "      <td>SEO</td>\n",
       "      <td>IE</td>\n",
       "      <td>F</td>\n",
       "      <td>26</td>\n",
       "      <td>2.748471e+09</td>\n",
       "      <td>0</td>\n",
       "    </tr>\n",
       "    <tr>\n",
       "      <th>151110</th>\n",
       "      <td>207709</td>\n",
       "      <td>2015-07-09 20:06:07</td>\n",
       "      <td>2015-09-07 09:34:46</td>\n",
       "      <td>46</td>\n",
       "      <td>CMCXFGRHYSTVJ</td>\n",
       "      <td>SEO</td>\n",
       "      <td>Chrome</td>\n",
       "      <td>M</td>\n",
       "      <td>37</td>\n",
       "      <td>3.601175e+09</td>\n",
       "      <td>0</td>\n",
       "    </tr>\n",
       "    <tr>\n",
       "      <th>151111</th>\n",
       "      <td>138208</td>\n",
       "      <td>2015-06-10 07:02:20</td>\n",
       "      <td>2015-07-21 02:03:53</td>\n",
       "      <td>20</td>\n",
       "      <td>ZINIADFCLHYPG</td>\n",
       "      <td>Direct</td>\n",
       "      <td>IE</td>\n",
       "      <td>M</td>\n",
       "      <td>38</td>\n",
       "      <td>4.103825e+09</td>\n",
       "      <td>0</td>\n",
       "    </tr>\n",
       "  </tbody>\n",
       "</table>\n",
       "</div>"
      ],
      "text/plain": [
       "        user_id          signup_time        purchase_time  purchase_value  \\\n",
       "151107   345170  2015-01-27 03:03:34  2015-03-29 00:30:47              43   \n",
       "151108   274471  2015-05-15 17:43:29  2015-05-26 12:24:39              35   \n",
       "151109   368416  2015-03-03 23:07:31  2015-05-20 07:07:47              40   \n",
       "151110   207709  2015-07-09 20:06:07  2015-09-07 09:34:46              46   \n",
       "151111   138208  2015-06-10 07:02:20  2015-07-21 02:03:53              20   \n",
       "\n",
       "            device_id  source browser sex  age    ip_address  class  \n",
       "151107  XPSKTWGPWINLR     SEO  Chrome   M   28  3.451155e+09      1  \n",
       "151108  LYSFABUCPCGBA     SEO  Safari   M   32  2.439047e+09      0  \n",
       "151109  MEQHCSJUBRBFE     SEO      IE   F   26  2.748471e+09      0  \n",
       "151110  CMCXFGRHYSTVJ     SEO  Chrome   M   37  3.601175e+09      0  \n",
       "151111  ZINIADFCLHYPG  Direct      IE   M   38  4.103825e+09      0  "
      ]
     },
     "execution_count": 6,
     "metadata": {},
     "output_type": "execute_result"
    }
   ],
   "source": [
    "# tail\n",
    "data_train.tail()"
   ]
  },
  {
   "cell_type": "code",
   "execution_count": 7,
   "metadata": {},
   "outputs": [
    {
     "name": "stdout",
     "output_type": "stream",
     "text": [
      "<class 'pandas.core.frame.DataFrame'>\n",
      "RangeIndex: 151112 entries, 0 to 151111\n",
      "Data columns (total 11 columns):\n",
      "user_id           151112 non-null int64\n",
      "signup_time       151112 non-null object\n",
      "purchase_time     151112 non-null object\n",
      "purchase_value    151112 non-null int64\n",
      "device_id         151112 non-null object\n",
      "source            151112 non-null object\n",
      "browser           151112 non-null object\n",
      "sex               151112 non-null object\n",
      "age               151112 non-null int64\n",
      "ip_address        151112 non-null float64\n",
      "class             151112 non-null int64\n",
      "dtypes: float64(1), int64(4), object(6)\n",
      "memory usage: 12.7+ MB\n"
     ]
    }
   ],
   "source": [
    "# info\n",
    "data_train.info()"
   ]
  },
  {
   "cell_type": "code",
   "execution_count": 8,
   "metadata": {},
   "outputs": [
    {
     "data": {
      "text/plain": [
       "Index(['user_id', 'signup_time', 'purchase_time', 'purchase_value',\n",
       "       'device_id', 'source', 'browser', 'sex', 'age', 'ip_address', 'class'],\n",
       "      dtype='object')"
      ]
     },
     "execution_count": 8,
     "metadata": {},
     "output_type": "execute_result"
    }
   ],
   "source": [
    "data_train.columns"
   ]
  },
  {
   "cell_type": "code",
   "execution_count": 9,
   "metadata": {},
   "outputs": [
    {
     "data": {
      "text/html": [
       "<div>\n",
       "<style scoped>\n",
       "    .dataframe tbody tr th:only-of-type {\n",
       "        vertical-align: middle;\n",
       "    }\n",
       "\n",
       "    .dataframe tbody tr th {\n",
       "        vertical-align: top;\n",
       "    }\n",
       "\n",
       "    .dataframe thead th {\n",
       "        text-align: right;\n",
       "    }\n",
       "</style>\n",
       "<table border=\"1\" class=\"dataframe\">\n",
       "  <thead>\n",
       "    <tr style=\"text-align: right;\">\n",
       "      <th></th>\n",
       "      <th>user_id</th>\n",
       "      <th>purchase_value</th>\n",
       "      <th>age</th>\n",
       "      <th>ip_address</th>\n",
       "      <th>class</th>\n",
       "    </tr>\n",
       "  </thead>\n",
       "  <tbody>\n",
       "    <tr>\n",
       "      <th>count</th>\n",
       "      <td>151112.000000</td>\n",
       "      <td>151112.000000</td>\n",
       "      <td>151112.000000</td>\n",
       "      <td>1.511120e+05</td>\n",
       "      <td>151112.000000</td>\n",
       "    </tr>\n",
       "    <tr>\n",
       "      <th>mean</th>\n",
       "      <td>200171.040970</td>\n",
       "      <td>36.935372</td>\n",
       "      <td>33.140704</td>\n",
       "      <td>2.152145e+09</td>\n",
       "      <td>0.093646</td>\n",
       "    </tr>\n",
       "    <tr>\n",
       "      <th>std</th>\n",
       "      <td>115369.285024</td>\n",
       "      <td>18.322762</td>\n",
       "      <td>8.617733</td>\n",
       "      <td>1.248497e+09</td>\n",
       "      <td>0.291336</td>\n",
       "    </tr>\n",
       "    <tr>\n",
       "      <th>min</th>\n",
       "      <td>2.000000</td>\n",
       "      <td>9.000000</td>\n",
       "      <td>18.000000</td>\n",
       "      <td>5.209350e+04</td>\n",
       "      <td>0.000000</td>\n",
       "    </tr>\n",
       "    <tr>\n",
       "      <th>25%</th>\n",
       "      <td>100642.500000</td>\n",
       "      <td>22.000000</td>\n",
       "      <td>27.000000</td>\n",
       "      <td>1.085934e+09</td>\n",
       "      <td>0.000000</td>\n",
       "    </tr>\n",
       "    <tr>\n",
       "      <th>50%</th>\n",
       "      <td>199958.000000</td>\n",
       "      <td>35.000000</td>\n",
       "      <td>33.000000</td>\n",
       "      <td>2.154770e+09</td>\n",
       "      <td>0.000000</td>\n",
       "    </tr>\n",
       "    <tr>\n",
       "      <th>75%</th>\n",
       "      <td>300054.000000</td>\n",
       "      <td>49.000000</td>\n",
       "      <td>39.000000</td>\n",
       "      <td>3.243258e+09</td>\n",
       "      <td>0.000000</td>\n",
       "    </tr>\n",
       "    <tr>\n",
       "      <th>max</th>\n",
       "      <td>400000.000000</td>\n",
       "      <td>154.000000</td>\n",
       "      <td>76.000000</td>\n",
       "      <td>4.294850e+09</td>\n",
       "      <td>1.000000</td>\n",
       "    </tr>\n",
       "  </tbody>\n",
       "</table>\n",
       "</div>"
      ],
      "text/plain": [
       "             user_id  purchase_value            age    ip_address  \\\n",
       "count  151112.000000   151112.000000  151112.000000  1.511120e+05   \n",
       "mean   200171.040970       36.935372      33.140704  2.152145e+09   \n",
       "std    115369.285024       18.322762       8.617733  1.248497e+09   \n",
       "min         2.000000        9.000000      18.000000  5.209350e+04   \n",
       "25%    100642.500000       22.000000      27.000000  1.085934e+09   \n",
       "50%    199958.000000       35.000000      33.000000  2.154770e+09   \n",
       "75%    300054.000000       49.000000      39.000000  3.243258e+09   \n",
       "max    400000.000000      154.000000      76.000000  4.294850e+09   \n",
       "\n",
       "               class  \n",
       "count  151112.000000  \n",
       "mean        0.093646  \n",
       "std         0.291336  \n",
       "min         0.000000  \n",
       "25%         0.000000  \n",
       "50%         0.000000  \n",
       "75%         0.000000  \n",
       "max         1.000000  "
      ]
     },
     "execution_count": 9,
     "metadata": {},
     "output_type": "execute_result"
    }
   ],
   "source": [
    "# describe()\n",
    "data_train.describe()"
   ]
  },
  {
   "cell_type": "markdown",
   "metadata": {},
   "source": [
    "### 1.2 Getting country"
   ]
  },
  {
   "cell_type": "code",
   "execution_count": 10,
   "metadata": {},
   "outputs": [],
   "source": [
    "# function that takes an IP address as argument and returns country associated based on ip_address\n",
    "def get_country(ip):\n",
    "    try:\n",
    "        x = geo.get(ip)\n",
    "    except ValueError:\n",
    "        return pd.np.nan\n",
    "    try:\n",
    "        return x['country']['names']['en'] if x else pd.np.nan\n",
    "    except KeyError:\n",
    "        return pd.np.nan"
   ]
  },
  {
   "cell_type": "code",
   "execution_count": 11,
   "metadata": {},
   "outputs": [
    {
     "data": {
      "text/html": [
       "<div>\n",
       "<style scoped>\n",
       "    .dataframe tbody tr th:only-of-type {\n",
       "        vertical-align: middle;\n",
       "    }\n",
       "\n",
       "    .dataframe tbody tr th {\n",
       "        vertical-align: top;\n",
       "    }\n",
       "\n",
       "    .dataframe thead th {\n",
       "        text-align: right;\n",
       "    }\n",
       "</style>\n",
       "<table border=\"1\" class=\"dataframe\">\n",
       "  <thead>\n",
       "    <tr style=\"text-align: right;\">\n",
       "      <th></th>\n",
       "      <th>user_id</th>\n",
       "      <th>signup_time</th>\n",
       "      <th>purchase_time</th>\n",
       "      <th>purchase_value</th>\n",
       "      <th>device_id</th>\n",
       "      <th>source</th>\n",
       "      <th>browser</th>\n",
       "      <th>sex</th>\n",
       "      <th>age</th>\n",
       "      <th>ip_address</th>\n",
       "      <th>class</th>\n",
       "      <th>country</th>\n",
       "    </tr>\n",
       "  </thead>\n",
       "  <tbody>\n",
       "    <tr>\n",
       "      <th>0</th>\n",
       "      <td>22058</td>\n",
       "      <td>2015-02-24 22:55:49</td>\n",
       "      <td>2015-04-18 02:47:11</td>\n",
       "      <td>34</td>\n",
       "      <td>QVPSPJUOCKZAR</td>\n",
       "      <td>SEO</td>\n",
       "      <td>Chrome</td>\n",
       "      <td>M</td>\n",
       "      <td>39</td>\n",
       "      <td>43.173.1.96</td>\n",
       "      <td>0</td>\n",
       "      <td>Japan</td>\n",
       "    </tr>\n",
       "    <tr>\n",
       "      <th>1</th>\n",
       "      <td>333320</td>\n",
       "      <td>2015-06-07 20:39:50</td>\n",
       "      <td>2015-06-08 01:38:54</td>\n",
       "      <td>16</td>\n",
       "      <td>EOGFQPIZPYXFZ</td>\n",
       "      <td>Ads</td>\n",
       "      <td>Chrome</td>\n",
       "      <td>F</td>\n",
       "      <td>53</td>\n",
       "      <td>20.225.83.219</td>\n",
       "      <td>0</td>\n",
       "      <td>United States</td>\n",
       "    </tr>\n",
       "    <tr>\n",
       "      <th>2</th>\n",
       "      <td>1359</td>\n",
       "      <td>2015-01-01 18:52:44</td>\n",
       "      <td>2015-01-01 18:52:45</td>\n",
       "      <td>15</td>\n",
       "      <td>YSSKYOSJHPPLJ</td>\n",
       "      <td>SEO</td>\n",
       "      <td>Opera</td>\n",
       "      <td>M</td>\n",
       "      <td>53</td>\n",
       "      <td>156.64.132.28</td>\n",
       "      <td>1</td>\n",
       "      <td>United States</td>\n",
       "    </tr>\n",
       "    <tr>\n",
       "      <th>3</th>\n",
       "      <td>150084</td>\n",
       "      <td>2015-04-28 21:13:25</td>\n",
       "      <td>2015-05-04 13:54:50</td>\n",
       "      <td>44</td>\n",
       "      <td>ATGTXKYKUDUQN</td>\n",
       "      <td>SEO</td>\n",
       "      <td>Safari</td>\n",
       "      <td>M</td>\n",
       "      <td>41</td>\n",
       "      <td>228.234.6.235</td>\n",
       "      <td>0</td>\n",
       "      <td>NaN</td>\n",
       "    </tr>\n",
       "    <tr>\n",
       "      <th>4</th>\n",
       "      <td>221365</td>\n",
       "      <td>2015-07-21 07:09:52</td>\n",
       "      <td>2015-09-09 18:40:53</td>\n",
       "      <td>39</td>\n",
       "      <td>NAUITBZFJKHWW</td>\n",
       "      <td>Ads</td>\n",
       "      <td>Safari</td>\n",
       "      <td>M</td>\n",
       "      <td>45</td>\n",
       "      <td>24.197.75.141</td>\n",
       "      <td>0</td>\n",
       "      <td>United States</td>\n",
       "    </tr>\n",
       "  </tbody>\n",
       "</table>\n",
       "</div>"
      ],
      "text/plain": [
       "   user_id          signup_time        purchase_time  purchase_value  \\\n",
       "0    22058  2015-02-24 22:55:49  2015-04-18 02:47:11              34   \n",
       "1   333320  2015-06-07 20:39:50  2015-06-08 01:38:54              16   \n",
       "2     1359  2015-01-01 18:52:44  2015-01-01 18:52:45              15   \n",
       "3   150084  2015-04-28 21:13:25  2015-05-04 13:54:50              44   \n",
       "4   221365  2015-07-21 07:09:52  2015-09-09 18:40:53              39   \n",
       "\n",
       "       device_id source browser sex  age     ip_address  class        country  \n",
       "0  QVPSPJUOCKZAR    SEO  Chrome   M   39    43.173.1.96      0          Japan  \n",
       "1  EOGFQPIZPYXFZ    Ads  Chrome   F   53  20.225.83.219      0  United States  \n",
       "2  YSSKYOSJHPPLJ    SEO   Opera   M   53  156.64.132.28      1  United States  \n",
       "3  ATGTXKYKUDUQN    SEO  Safari   M   41  228.234.6.235      0            NaN  \n",
       "4  NAUITBZFJKHWW    Ads  Safari   M   45  24.197.75.141      0  United States  "
      ]
     },
     "execution_count": 11,
     "metadata": {},
     "output_type": "execute_result"
    }
   ],
   "source": [
    "# We will get country related to each IP address from geolite2 library \n",
    "geo = geolite2.reader()\n",
    "# Astype data\n",
    "data_train.ip_address=[int(x) for x in data_train.ip_address]\n",
    "data_train.ip_address=[str(ipaddress.IPv4Address(x)) for x in data_train.ip_address]\n",
    "# To affect a country to each IP :\n",
    "data_train['country'] = data_train.apply(lambda x: get_country(x.ip_address), axis=1)\n",
    "data_train.head()"
   ]
  },
  {
   "cell_type": "code",
   "execution_count": null,
   "metadata": {},
   "outputs": [],
   "source": [
    "data_train.head()"
   ]
  },
  {
   "cell_type": "markdown",
   "metadata": {
    "button": false,
    "new_sheet": false,
    "run_control": {
     "read_only": false
    }
   },
   "source": [
    "### 1.3 Convert 'signup_time', 'purchase_time' to date time object "
   ]
  },
  {
   "cell_type": "code",
   "execution_count": 12,
   "metadata": {},
   "outputs": [
    {
     "name": "stdout",
     "output_type": "stream",
     "text": [
      "<class 'str'>\n"
     ]
    },
    {
     "data": {
      "text/plain": [
       "str"
      ]
     },
     "execution_count": 12,
     "metadata": {},
     "output_type": "execute_result"
    }
   ],
   "source": [
    "# The type of 'signup_time', 'purchase_time' object\n",
    "print(type(data_train.signup_time[1]))\n",
    "type(data_train.purchase_time[1])"
   ]
  },
  {
   "cell_type": "code",
   "execution_count": 13,
   "metadata": {},
   "outputs": [],
   "source": [
    "#datetime.strptime(data_train.signup_time, '%m/%d/%y %H:%M:%S')"
   ]
  },
  {
   "cell_type": "code",
   "execution_count": 14,
   "metadata": {},
   "outputs": [],
   "source": [
    "# Convert 'signup_time', 'purchase_time' to date time object\n",
    "data_train.signup_time = pd.to_datetime(data_train['signup_time'])\n",
    "data_train.purchase_time = pd.to_datetime(data_train['purchase_time'])"
   ]
  },
  {
   "cell_type": "code",
   "execution_count": 15,
   "metadata": {},
   "outputs": [
    {
     "data": {
      "text/plain": [
       "pandas._libs.tslibs.timestamps.Timestamp"
      ]
     },
     "execution_count": 15,
     "metadata": {},
     "output_type": "execute_result"
    }
   ],
   "source": [
    "# Checking type of 'signup_time', 'purchase_time' object\n",
    "type(data_train.signup_time[1])\n",
    "type(data_train.purchase_time[1])"
   ]
  },
  {
   "cell_type": "code",
   "execution_count": 16,
   "metadata": {},
   "outputs": [
    {
     "name": "stdout",
     "output_type": "stream",
     "text": [
      "<class 'pandas.core.frame.DataFrame'>\n",
      "RangeIndex: 151112 entries, 0 to 151111\n",
      "Data columns (total 12 columns):\n",
      "user_id           151112 non-null int64\n",
      "signup_time       151112 non-null datetime64[ns]\n",
      "purchase_time     151112 non-null datetime64[ns]\n",
      "purchase_value    151112 non-null int64\n",
      "device_id         151112 non-null object\n",
      "source            151112 non-null object\n",
      "browser           151112 non-null object\n",
      "sex               151112 non-null object\n",
      "age               151112 non-null int64\n",
      "ip_address        151112 non-null object\n",
      "class             151112 non-null int64\n",
      "country           129158 non-null object\n",
      "dtypes: datetime64[ns](2), int64(4), object(6)\n",
      "memory usage: 13.8+ MB\n"
     ]
    }
   ],
   "source": [
    "data_train.info()"
   ]
  },
  {
   "cell_type": "markdown",
   "metadata": {},
   "source": [
    "### 1.4 Data exploration"
   ]
  },
  {
   "cell_type": "markdown",
   "metadata": {},
   "source": [
    "#### 1.4.1 Determin attributive variable\n",
    "\n",
    "1. Input: <> class\n",
    "2. Output: class\n",
    "3. Type of variable:\n",
    "    + Pridictor: <> class\n",
    "    + Target: class\n",
    "4. Data type:\n",
    "    + Datetime\n",
    "        + signup_time\n",
    "        + purchase_time\n",
    "    + Numeric\n",
    "        + purchase_value\n",
    "        + age\n",
    "5. Variable Categoy:\n",
    "    + user_id\n",
    "    + device_id\n",
    "    + source\n",
    "    + browser\n",
    "    + sex \n",
    "    + ip_address\n",
    "    + country"
   ]
  },
  {
   "cell_type": "markdown",
   "metadata": {},
   "source": [
    "### Các vấn đề cần tìm hiểu\n",
    "\n",
    "+ Địa chỉ giao dịch từ các quốc gia không thường xuyên đặt đơn hàng.\n",
    "+ Địa chỉ đặt hàng và nhận hàng có khớp với Ip_address\n",
    "+ Thời gian giao dịch: \n",
    "    + Bao lâu cho một giao dịch?\n",
    "    + Thời điểm trong ngày? ( sáng, trưa, chiều, tối)\n",
    "    + Thời điểm trong tháng, trong năm:\n",
    "        + Đầu, giữa, cuối tháng.\n",
    "        + Ngày thuộc tháng nào, mùa nào trong năm (ngày nghỉ, ngày lễ...)\n",
    "+ Số lượng sản phẩm nhỏ/ lớn cho cùng 1 loại sản phẩm?\n",
    "+ Nhiều giao dịch từ 1 thiết bị?"
   ]
  },
  {
   "cell_type": "code",
   "execution_count": 17,
   "metadata": {},
   "outputs": [
    {
     "data": {
      "text/plain": [
       "['user_id', 'signup_time', 'purchase_time', 'purchase_value', 'age', 'class']"
      ]
     },
     "execution_count": 17,
     "metadata": {},
     "output_type": "execute_result"
    }
   ],
   "source": [
    "# Check types of variable\n",
    "# Numeric variable\n",
    "number = [f for f in data_train.columns if data_train.dtypes[f] != 'object']\n",
    "number"
   ]
  },
  {
   "cell_type": "code",
   "execution_count": 18,
   "metadata": {},
   "outputs": [
    {
     "data": {
      "text/plain": [
       "['device_id', 'source', 'browser', 'sex', 'ip_address', 'country']"
      ]
     },
     "execution_count": 18,
     "metadata": {},
     "output_type": "execute_result"
    }
   ],
   "source": [
    "# Object variable\n",
    "objects = [f for f in data_train.columns if data_train.dtypes[f] == 'object']\n",
    "objects"
   ]
  },
  {
   "cell_type": "code",
   "execution_count": 19,
   "metadata": {},
   "outputs": [
    {
     "name": "stdout",
     "output_type": "stream",
     "text": [
      "1 / user_id \t 151112 : [ 22058 333320   1359 ... 368416 207709 138208]\n",
      "2 / signup_time \t 151112 : ['2015-02-24T22:55:49.000000000' '2015-06-07T20:39:50.000000000'\n",
      " '2015-01-01T18:52:44.000000000' ... '2015-03-03T23:07:31.000000000'\n",
      " '2015-07-09T20:06:07.000000000' '2015-06-10T07:02:20.000000000']\n",
      "3 / purchase_time \t 150679 : ['2015-04-18T02:47:11.000000000' '2015-06-08T01:38:54.000000000'\n",
      " '2015-01-01T18:52:45.000000000' ... '2015-05-20T07:07:47.000000000'\n",
      " '2015-09-07T09:34:46.000000000' '2015-07-21T02:03:53.000000000']\n",
      "4 / purchase_value \t 122 : [ 34  16  15  44  39  42  11  27  30  62  13  58  18  50  57  55  40  46\n",
      "  24  47  25  52  31  37  54  12  48  56  72  38  33  53  35  60  91  26\n",
      "  75  51  81  69  36  10  14  29  21  61  41  19  28  65   9  79  23  73\n",
      "  45  20  78  22  32  68  43  82  59  70  63  86  80  66  49  17  64 107\n",
      "  87  67  76  90  88  92  77  85  71  74 101  96  93  98 123  89  84  94\n",
      "  83  99 118 103 112 105  97 120 100 109  95 106 110 102 115 119 111 108\n",
      " 129 154 116 104 113 117 121 128 127 122 114 132 140 125]\n",
      "5 / age \t 58 : [39 53 41 45 18 19 34 43 31 35 32 33 38 24 23 28 36 27 56 21 22 30 57 44\n",
      " 40 55 37 20 48 25 46 29 26 47 60 52 42 49 50 58 51 59 62 54 68 64 61 63\n",
      " 72 67 65 69 66 73 70 71 74 76]\n",
      "6 / class \t 2 : [0 1]\n"
     ]
    }
   ],
   "source": [
    "# Determine the number of different value of variable\n",
    "# Numeric variable\n",
    "i = 1\n",
    "for obj in number:\n",
    "    print(i,'/',obj,'\\t',len(data_train[obj].unique()),':',data_train[obj].unique()) \n",
    "    i = i + 1"
   ]
  },
  {
   "cell_type": "code",
   "execution_count": 20,
   "metadata": {},
   "outputs": [
    {
     "name": "stdout",
     "output_type": "stream",
     "text": [
      "1 / device_id \t 137956 : ['QVPSPJUOCKZAR' 'EOGFQPIZPYXFZ' 'YSSKYOSJHPPLJ' ... 'LYSFABUCPCGBA'\n",
      " 'MEQHCSJUBRBFE' 'ZINIADFCLHYPG']\n",
      "2 / source \t 3 : ['SEO' 'Ads' 'Direct']\n",
      "3 / browser \t 5 : ['Chrome' 'Opera' 'Safari' 'IE' 'FireFox']\n",
      "4 / sex \t 2 : ['M' 'F']\n",
      "5 / ip_address \t 143510 : ['43.173.1.96' '20.225.83.219' '156.64.132.28' ... '163.210.84.251'\n",
      " '214.165.144.180' '244.155.100.126']\n",
      "6 / country \t 197 : ['Japan' 'United States' nan 'Canada' 'China' 'Brazil' 'India' 'Argentina'\n",
      " 'United Kingdom' 'Netherlands' 'South Africa' 'Germany' 'Mexico' 'Sweden'\n",
      " 'Republic of Korea' 'Peru' 'Portugal' 'Bangladesh' 'France' 'Taiwan'\n",
      " 'Russia' 'Belgium' 'Denmark' 'Iran' 'Spain' 'Gabon' 'Saudi Arabia'\n",
      " 'Hong Kong' 'Georgia' 'Syria' 'Turkey' 'Singapore' 'New Zealand'\n",
      " 'Australia' 'Ukraine' 'Austria' 'Israel' 'Malaysia' 'Greece' 'Italy'\n",
      " 'Norway' 'Poland' 'Venezuela' 'Thailand' 'Chile' 'Morocco' 'Finland'\n",
      " 'Hungary' 'Indonesia' 'Colombia' 'Ecuador' 'Republic of Lithuania'\n",
      " 'Switzerland' 'Vietnam' 'Nigeria' 'Egypt' 'Kazakhstan' 'Kenya'\n",
      " 'Republic of Moldova' 'Trinidad and Tobago' 'Qatar' 'Bolivia' 'Romania'\n",
      " 'Croatia' 'Cyprus' 'Czechia' 'Algeria' 'Seychelles' 'Kyrgyzstan'\n",
      " 'Ireland' 'Guam' 'United Arab Emirates' 'Luxembourg' 'Paraguay'\n",
      " 'Bulgaria' 'Tunisia' 'Dominican Republic' 'Pakistan' 'Malta' 'Nicaragua'\n",
      " 'Mozambique' 'Namibia' 'Macedonia' 'Costa Rica' 'Cuba' 'Albania' 'Oman'\n",
      " 'Uruguay' 'Lebanon' 'Isle of Man' 'Puerto Rico' 'Maldives' 'Turkmenistan'\n",
      " 'Barbados' 'Iceland' 'Philippines' 'Kuwait' 'Panama' 'New Caledonia'\n",
      " 'Guatemala' 'Ghana' 'Latvia' 'Malawi' 'Slovenia' 'Senegal' 'Libya'\n",
      " 'Mauritius' 'Belize' 'Guadeloupe' 'Slovakia' 'Iraq' 'El Salvador'\n",
      " 'Bosnia and Herzegovina' 'Serbia' 'Belarus' 'Ivory Coast' 'Djibouti'\n",
      " 'Sri Lanka' 'Sudan' 'Rwanda' 'Uzbekistan' 'Hashemite Kingdom of Jordan'\n",
      " 'Armenia' 'Bahrain' 'Martinique' 'Estonia' 'Azerbaijan' 'South Sudan'\n",
      " 'U.S. Virgin Islands' 'Republic of the Congo' 'Angola' 'Afghanistan'\n",
      " 'Uganda' 'Jamaica' 'Zimbabwe' 'Haiti' 'Papua New Guinea' 'Gibraltar'\n",
      " 'Cameroon' 'Palestine' 'Myanmar [Burma]' 'Nepal' 'Brunei' 'Réunion'\n",
      " 'Zambia' 'St Kitts and Nevis' 'Botswana' 'Cambodia' 'Burkina Faso'\n",
      " 'Grenada' 'Macao' 'Åland' 'Tanzania' 'Montenegro' 'Faroe Islands'\n",
      " 'Guyana' 'Andorra' 'Honduras' 'Congo' 'Cayman Islands' 'Niger' 'Bermuda'\n",
      " 'Dominica' 'Lesotho' 'Fiji' 'Mongolia' 'Saint Martin' 'Monaco' 'Bhutan'\n",
      " 'Curaçao' 'Ethiopia' 'Vanuatu' 'Laos' 'Mali'\n",
      " 'British Indian Ocean Territory' 'Bahamas'\n",
      " 'Saint Vincent and the Grenadines' 'Madagascar' 'Yemen'\n",
      " 'Bonaire, Sint Eustatius, and Saba' 'Liechtenstein' 'Gambia' 'Benin'\n",
      " 'Somalia' 'Anguilla' 'Tajikistan' 'British Virgin Islands'\n",
      " 'French Guiana' 'Jersey' 'Cabo Verde' 'Saint Pierre and Miquelon'\n",
      " 'San Marino' 'Burundi' 'Nauru' 'Saint Helena' 'Kosovo' 'Mayotte']\n"
     ]
    }
   ],
   "source": [
    "# Categorical variable\n",
    "i = 1\n",
    "for obj in objects:\n",
    "    print(i,'/',obj,'\\t',len(data_train[obj].unique()),':',data_train[obj].unique()) \n",
    "    i = i + 1"
   ]
  },
  {
   "cell_type": "code",
   "execution_count": 21,
   "metadata": {},
   "outputs": [
    {
     "name": "stdout",
     "output_type": "stream",
     "text": [
      "The user_id column includes 0 duplicates\n"
     ]
    }
   ],
   "source": [
    "# Are there multiple lines with the same user_id ?\n",
    "print(\"The user_id column includes {} duplicates\".format(data_train.duplicated(subset = \"user_id\", keep =False).sum()))"
   ]
  },
  {
   "cell_type": "code",
   "execution_count": 22,
   "metadata": {},
   "outputs": [
    {
     "name": "stdout",
     "output_type": "stream",
     "text": [
      "8.7% of the dataset is comprised of transactions from a decice_id that had been previously used\n"
     ]
    }
   ],
   "source": [
    "# Let's see if the same device_id is sometimes used several times\n",
    "dup_values = pd.DataFrame(data_train.duplicated(subset = 'device_id'))\n",
    "dup_rate = round(dup_values.mean(),3)\n",
    "print('{}% of the dataset is comprised of transactions from a decice_id that had been previously used'.format(float(dup_rate*100)))"
   ]
  },
  {
   "cell_type": "code",
   "execution_count": 23,
   "metadata": {},
   "outputs": [
    {
     "data": {
      "text/html": [
       "<div>\n",
       "<style scoped>\n",
       "    .dataframe tbody tr th:only-of-type {\n",
       "        vertical-align: middle;\n",
       "    }\n",
       "\n",
       "    .dataframe tbody tr th {\n",
       "        vertical-align: top;\n",
       "    }\n",
       "\n",
       "    .dataframe thead th {\n",
       "        text-align: right;\n",
       "    }\n",
       "</style>\n",
       "<table border=\"1\" class=\"dataframe\">\n",
       "  <thead>\n",
       "    <tr style=\"text-align: right;\">\n",
       "      <th></th>\n",
       "      <th>freq_device</th>\n",
       "    </tr>\n",
       "    <tr>\n",
       "      <th>device_id</th>\n",
       "      <th></th>\n",
       "    </tr>\n",
       "  </thead>\n",
       "  <tbody>\n",
       "    <tr>\n",
       "      <th>AAAXXOZJRZRAO</th>\n",
       "      <td>11</td>\n",
       "    </tr>\n",
       "    <tr>\n",
       "      <th>AAEWGRKQJJMVI</th>\n",
       "      <td>2</td>\n",
       "    </tr>\n",
       "    <tr>\n",
       "      <th>AAFBODGQYEMVK</th>\n",
       "      <td>2</td>\n",
       "    </tr>\n",
       "    <tr>\n",
       "      <th>AAIGAICKBXPSW</th>\n",
       "      <td>2</td>\n",
       "    </tr>\n",
       "    <tr>\n",
       "      <th>AAJCSUCPHKORJ</th>\n",
       "      <td>2</td>\n",
       "    </tr>\n",
       "  </tbody>\n",
       "</table>\n",
       "</div>"
      ],
      "text/plain": [
       "               freq_device\n",
       "device_id                 \n",
       "AAAXXOZJRZRAO           11\n",
       "AAEWGRKQJJMVI            2\n",
       "AAFBODGQYEMVK            2\n",
       "AAIGAICKBXPSW            2\n",
       "AAJCSUCPHKORJ            2"
      ]
     },
     "execution_count": 23,
     "metadata": {},
     "output_type": "execute_result"
    }
   ],
   "source": [
    "# thống kê số lần giao dịch của 1 thiết bị\n",
    "freq_devices = pd.DataFrame(data_train.groupby('device_id').device_id.count())\n",
    "freq_devices.rename(columns = {'device_id' : 'freq_device'}, inplace = True)\n",
    "dup_devices = freq_devices[freq_devices['freq_device']>1]\n",
    "dup_devices.head()"
   ]
  },
  {
   "cell_type": "code",
   "execution_count": 24,
   "metadata": {},
   "outputs": [
    {
     "data": {
      "text/plain": [
       "(6175, 1)"
      ]
     },
     "execution_count": 24,
     "metadata": {},
     "output_type": "execute_result"
    }
   ],
   "source": [
    "dup_devices.shape"
   ]
  },
  {
   "cell_type": "markdown",
   "metadata": {},
   "source": [
    "#### There are 6175 divices which have upward 2 transactions"
   ]
  },
  {
   "cell_type": "code",
   "execution_count": 25,
   "metadata": {},
   "outputs": [
    {
     "data": {
      "text/plain": [
       "(151112, 13)"
      ]
     },
     "execution_count": 25,
     "metadata": {},
     "output_type": "execute_result"
    }
   ],
   "source": [
    "# finally we merge with dataset\n",
    "data_train = data_train.merge(freq_devices, on= \"device_id\")\n",
    "data_train.shape"
   ]
  },
  {
   "cell_type": "code",
   "execution_count": 26,
   "metadata": {},
   "outputs": [
    {
     "data": {
      "text/html": [
       "<div>\n",
       "<style scoped>\n",
       "    .dataframe tbody tr th:only-of-type {\n",
       "        vertical-align: middle;\n",
       "    }\n",
       "\n",
       "    .dataframe tbody tr th {\n",
       "        vertical-align: top;\n",
       "    }\n",
       "\n",
       "    .dataframe thead th {\n",
       "        text-align: right;\n",
       "    }\n",
       "</style>\n",
       "<table border=\"1\" class=\"dataframe\">\n",
       "  <thead>\n",
       "    <tr style=\"text-align: right;\">\n",
       "      <th></th>\n",
       "      <th>user_id</th>\n",
       "      <th>signup_time</th>\n",
       "      <th>purchase_time</th>\n",
       "      <th>purchase_value</th>\n",
       "      <th>device_id</th>\n",
       "      <th>source</th>\n",
       "      <th>browser</th>\n",
       "      <th>sex</th>\n",
       "      <th>age</th>\n",
       "      <th>ip_address</th>\n",
       "      <th>class</th>\n",
       "      <th>country</th>\n",
       "      <th>freq_device</th>\n",
       "    </tr>\n",
       "  </thead>\n",
       "  <tbody>\n",
       "    <tr>\n",
       "      <th>0</th>\n",
       "      <td>22058</td>\n",
       "      <td>2015-02-24 22:55:49</td>\n",
       "      <td>2015-04-18 02:47:11</td>\n",
       "      <td>34</td>\n",
       "      <td>QVPSPJUOCKZAR</td>\n",
       "      <td>SEO</td>\n",
       "      <td>Chrome</td>\n",
       "      <td>M</td>\n",
       "      <td>39</td>\n",
       "      <td>43.173.1.96</td>\n",
       "      <td>0</td>\n",
       "      <td>Japan</td>\n",
       "      <td>1</td>\n",
       "    </tr>\n",
       "    <tr>\n",
       "      <th>1</th>\n",
       "      <td>333320</td>\n",
       "      <td>2015-06-07 20:39:50</td>\n",
       "      <td>2015-06-08 01:38:54</td>\n",
       "      <td>16</td>\n",
       "      <td>EOGFQPIZPYXFZ</td>\n",
       "      <td>Ads</td>\n",
       "      <td>Chrome</td>\n",
       "      <td>F</td>\n",
       "      <td>53</td>\n",
       "      <td>20.225.83.219</td>\n",
       "      <td>0</td>\n",
       "      <td>United States</td>\n",
       "      <td>1</td>\n",
       "    </tr>\n",
       "    <tr>\n",
       "      <th>2</th>\n",
       "      <td>1359</td>\n",
       "      <td>2015-01-01 18:52:44</td>\n",
       "      <td>2015-01-01 18:52:45</td>\n",
       "      <td>15</td>\n",
       "      <td>YSSKYOSJHPPLJ</td>\n",
       "      <td>SEO</td>\n",
       "      <td>Opera</td>\n",
       "      <td>M</td>\n",
       "      <td>53</td>\n",
       "      <td>156.64.132.28</td>\n",
       "      <td>1</td>\n",
       "      <td>United States</td>\n",
       "      <td>12</td>\n",
       "    </tr>\n",
       "    <tr>\n",
       "      <th>3</th>\n",
       "      <td>48288</td>\n",
       "      <td>2015-01-01 18:52:41</td>\n",
       "      <td>2015-01-01 18:52:42</td>\n",
       "      <td>15</td>\n",
       "      <td>YSSKYOSJHPPLJ</td>\n",
       "      <td>SEO</td>\n",
       "      <td>Opera</td>\n",
       "      <td>M</td>\n",
       "      <td>53</td>\n",
       "      <td>156.64.132.28</td>\n",
       "      <td>1</td>\n",
       "      <td>United States</td>\n",
       "      <td>12</td>\n",
       "    </tr>\n",
       "    <tr>\n",
       "      <th>4</th>\n",
       "      <td>128706</td>\n",
       "      <td>2015-01-01 18:52:40</td>\n",
       "      <td>2015-01-01 18:52:41</td>\n",
       "      <td>15</td>\n",
       "      <td>YSSKYOSJHPPLJ</td>\n",
       "      <td>SEO</td>\n",
       "      <td>Opera</td>\n",
       "      <td>M</td>\n",
       "      <td>53</td>\n",
       "      <td>156.64.132.28</td>\n",
       "      <td>1</td>\n",
       "      <td>United States</td>\n",
       "      <td>12</td>\n",
       "    </tr>\n",
       "  </tbody>\n",
       "</table>\n",
       "</div>"
      ],
      "text/plain": [
       "   user_id         signup_time       purchase_time  purchase_value  \\\n",
       "0    22058 2015-02-24 22:55:49 2015-04-18 02:47:11              34   \n",
       "1   333320 2015-06-07 20:39:50 2015-06-08 01:38:54              16   \n",
       "2     1359 2015-01-01 18:52:44 2015-01-01 18:52:45              15   \n",
       "3    48288 2015-01-01 18:52:41 2015-01-01 18:52:42              15   \n",
       "4   128706 2015-01-01 18:52:40 2015-01-01 18:52:41              15   \n",
       "\n",
       "       device_id source browser sex  age     ip_address  class        country  \\\n",
       "0  QVPSPJUOCKZAR    SEO  Chrome   M   39    43.173.1.96      0          Japan   \n",
       "1  EOGFQPIZPYXFZ    Ads  Chrome   F   53  20.225.83.219      0  United States   \n",
       "2  YSSKYOSJHPPLJ    SEO   Opera   M   53  156.64.132.28      1  United States   \n",
       "3  YSSKYOSJHPPLJ    SEO   Opera   M   53  156.64.132.28      1  United States   \n",
       "4  YSSKYOSJHPPLJ    SEO   Opera   M   53  156.64.132.28      1  United States   \n",
       "\n",
       "   freq_device  \n",
       "0            1  \n",
       "1            1  \n",
       "2           12  \n",
       "3           12  \n",
       "4           12  "
      ]
     },
     "execution_count": 26,
     "metadata": {},
     "output_type": "execute_result"
    }
   ],
   "source": [
    "data_train.head()"
   ]
  },
  {
   "cell_type": "code",
   "execution_count": 27,
   "metadata": {},
   "outputs": [
    {
     "data": {
      "text/plain": [
       "array([11,  2,  8, 14,  7, 12,  9, 13, 10,  3, 15,  6,  4, 17, 19, 16, 20,\n",
       "        5, 18], dtype=int64)"
      ]
     },
     "execution_count": 27,
     "metadata": {},
     "output_type": "execute_result"
    }
   ],
   "source": [
    "# Determine the number of different value of variable\n",
    "dup_devices.freq_device.unique()"
   ]
  },
  {
   "cell_type": "code",
   "execution_count": 28,
   "metadata": {},
   "outputs": [
    {
     "data": {
      "text/plain": [
       "3.130526315789474"
      ]
     },
     "execution_count": 28,
     "metadata": {},
     "output_type": "execute_result"
    }
   ],
   "source": [
    "dup_devices.freq_device.mean()"
   ]
  },
  {
   "cell_type": "code",
   "execution_count": 29,
   "metadata": {},
   "outputs": [
    {
     "name": "stderr",
     "output_type": "stream",
     "text": [
      "c:\\python\\lib\\site-packages\\scipy\\stats\\stats.py:1713: FutureWarning: Using a non-tuple sequence for multidimensional indexing is deprecated; use `arr[tuple(seq)]` instead of `arr[seq]`. In the future this will be interpreted as an array index, `arr[np.array(seq)]`, which will result either in an error or a different result.\n",
      "  return np.add.reduce(sorted[indexer] * weights, axis=axis) / sumval\n"
     ]
    },
    {
     "data": {
      "text/plain": [
       "<matplotlib.axes._subplots.AxesSubplot at 0x236cbf60>"
      ]
     },
     "execution_count": 29,
     "metadata": {},
     "output_type": "execute_result"
    },
    {
     "data": {
      "image/png": "[encoded data removed]",
      "text/plain": [
       "<Figure size 864x432 with 1 Axes>"
      ]
     },
     "metadata": {
      "needs_background": "light"
     },
     "output_type": "display_data"
    }
   ],
   "source": [
    "# Plot histogram\n",
    "plt.figure(figsize = (12,6))\n",
    "#plt.subplot(1,2,1)\n",
    "sns.distplot(dup_devices.freq_device)\n",
    "# plt.subplot(1,2,2)\n",
    "# plt.hist(dup_devices.freq_device)\n",
    "# plt.show()"
   ]
  },
  {
   "cell_type": "code",
   "execution_count": 214,
   "metadata": {},
   "outputs": [
    {
     "data": {
      "image/png": "[encoded data removed]",
      "text/plain": [
       "<Figure size 1728x1296 with 1 Axes>"
      ]
     },
     "metadata": {},
     "output_type": "display_data"
    }
   ],
   "source": [
    "# Xét khả năng gian lận trên các feature\n",
    "plt.figure(figsize = (24,18))\n",
    "sns.set(style=\"darkgrid\")\n",
    "sns.pointplot(x = \"purchase_value\",y = 'class', data = data_train,logistic= True, ci=None)\n",
    "plt.show()"
   ]
  },
  {
   "cell_type": "code",
   "execution_count": 31,
   "metadata": {},
   "outputs": [
    {
     "data": {
      "image/png": "[encoded data removed]",
      "text/plain": [
       "<Figure size 1728x1296 with 1 Axes>"
      ]
     },
     "metadata": {},
     "output_type": "display_data"
    }
   ],
   "source": [
    "plt.figure(figsize = (24,18))\n",
    "sns.pointplot(x = \"age\", y= \"class\", data = data_train, logistic=True, ci=None)\n",
    "plt.show()"
   ]
  },
  {
   "cell_type": "code",
   "execution_count": 223,
   "metadata": {},
   "outputs": [
    {
     "data": {
      "text/html": [
       "<div>\n",
       "<style scoped>\n",
       "    .dataframe tbody tr th:only-of-type {\n",
       "        vertical-align: middle;\n",
       "    }\n",
       "\n",
       "    .dataframe tbody tr th {\n",
       "        vertical-align: top;\n",
       "    }\n",
       "\n",
       "    .dataframe thead th {\n",
       "        text-align: right;\n",
       "    }\n",
       "</style>\n",
       "<table border=\"1\" class=\"dataframe\">\n",
       "  <thead>\n",
       "    <tr style=\"text-align: right;\">\n",
       "      <th></th>\n",
       "      <th>class</th>\n",
       "      <th>age</th>\n",
       "    </tr>\n",
       "  </thead>\n",
       "  <tbody>\n",
       "    <tr>\n",
       "      <th>2614</th>\n",
       "      <td>0</td>\n",
       "      <td>68</td>\n",
       "    </tr>\n",
       "    <tr>\n",
       "      <th>67983</th>\n",
       "      <td>0</td>\n",
       "      <td>68</td>\n",
       "    </tr>\n",
       "    <tr>\n",
       "      <th>78818</th>\n",
       "      <td>1</td>\n",
       "      <td>68</td>\n",
       "    </tr>\n",
       "    <tr>\n",
       "      <th>79458</th>\n",
       "      <td>0</td>\n",
       "      <td>68</td>\n",
       "    </tr>\n",
       "    <tr>\n",
       "      <th>92304</th>\n",
       "      <td>0</td>\n",
       "      <td>68</td>\n",
       "    </tr>\n",
       "    <tr>\n",
       "      <th>108221</th>\n",
       "      <td>0</td>\n",
       "      <td>68</td>\n",
       "    </tr>\n",
       "    <tr>\n",
       "      <th>111673</th>\n",
       "      <td>0</td>\n",
       "      <td>68</td>\n",
       "    </tr>\n",
       "    <tr>\n",
       "      <th>131007</th>\n",
       "      <td>0</td>\n",
       "      <td>68</td>\n",
       "    </tr>\n",
       "    <tr>\n",
       "      <th>138724</th>\n",
       "      <td>0</td>\n",
       "      <td>68</td>\n",
       "    </tr>\n",
       "    <tr>\n",
       "      <th>145297</th>\n",
       "      <td>0</td>\n",
       "      <td>68</td>\n",
       "    </tr>\n",
       "  </tbody>\n",
       "</table>\n",
       "</div>"
      ],
      "text/plain": [
       "        class  age\n",
       "2614        0   68\n",
       "67983       0   68\n",
       "78818       1   68\n",
       "79458       0   68\n",
       "92304       0   68\n",
       "108221      0   68\n",
       "111673      0   68\n",
       "131007      0   68\n",
       "138724      0   68\n",
       "145297      0   68"
      ]
     },
     "execution_count": 223,
     "metadata": {},
     "output_type": "execute_result"
    }
   ],
   "source": [
    "s = data_train[['class','age']]\n",
    "s[s['age']== 68]"
   ]
  },
  {
   "cell_type": "code",
   "execution_count": null,
   "metadata": {},
   "outputs": [],
   "source": []
  },
  {
   "cell_type": "code",
   "execution_count": 32,
   "metadata": {},
   "outputs": [
    {
     "data": {
      "text/plain": [
       "<matplotlib.axes._subplots.AxesSubplot at 0x1d743940>"
      ]
     },
     "execution_count": 32,
     "metadata": {},
     "output_type": "execute_result"
    },
    {
     "data": {
      "image/png": "[encoded data removed]",
      "text/plain": [
       "<Figure size 432x288 with 1 Axes>"
      ]
     },
     "metadata": {},
     "output_type": "display_data"
    }
   ],
   "source": [
    "# Thống kê theo quốc gia\n",
    "sns.set()\n",
    "country_count = data_train.groupby('country').size()\n",
    "data_train.country.value_counts()[data_train.country.value_counts() >1000].plot(kind=\"bar\")"
   ]
  },
  {
   "cell_type": "code",
   "execution_count": 33,
   "metadata": {},
   "outputs": [],
   "source": [
    "# Fraudsters often try to mask their IP Address, so you cannot see that they are placing the order from a different state or country. \n",
    "# Utilize technology that can tell you whether the IP address is legitimate."
   ]
  },
  {
   "cell_type": "markdown",
   "metadata": {},
   "source": [
    "### 1.5 Univariate Analysis"
   ]
  },
  {
   "cell_type": "markdown",
   "metadata": {},
   "source": [
    "### Numerical variable"
   ]
  },
  {
   "cell_type": "code",
   "execution_count": 34,
   "metadata": {},
   "outputs": [
    {
     "data": {
      "text/plain": [
       "count    151112.000000\n",
       "mean         33.140704\n",
       "std           8.617733\n",
       "min          18.000000\n",
       "25%          27.000000\n",
       "50%          33.000000\n",
       "75%          39.000000\n",
       "max          76.000000\n",
       "Name: age, dtype: float64"
      ]
     },
     "execution_count": 34,
     "metadata": {},
     "output_type": "execute_result"
    }
   ],
   "source": [
    "# Age\n",
    "data_train['age'].describe(include = 'all')"
   ]
  },
  {
   "cell_type": "code",
   "execution_count": 35,
   "metadata": {},
   "outputs": [
    {
     "data": {
      "text/plain": [
       "33.0"
      ]
     },
     "execution_count": 35,
     "metadata": {},
     "output_type": "execute_result"
    }
   ],
   "source": [
    "age_median = data_train.age.median()\n",
    "age_median"
   ]
  },
  {
   "cell_type": "code",
   "execution_count": 36,
   "metadata": {},
   "outputs": [
    {
     "data": {
      "text/plain": [
       "0    32\n",
       "dtype: int64"
      ]
     },
     "execution_count": 36,
     "metadata": {},
     "output_type": "execute_result"
    }
   ],
   "source": [
    "age_mode = data_train.age.mode()\n",
    "age_mode"
   ]
  },
  {
   "cell_type": "code",
   "execution_count": 37,
   "metadata": {},
   "outputs": [
    {
     "data": {
      "text/plain": [
       "(7.287503111212153, 58.99390405698097)"
      ]
     },
     "execution_count": 37,
     "metadata": {},
     "output_type": "execute_result"
    }
   ],
   "source": [
    "# check min, max co thuoc (mean - 3*std, mean + 3*std) or mean co thuoc 10% median\n",
    "data_train.age.mean()-3*data_train.age.std(), data_train.age.mean()+3*data_train.age.std()  "
   ]
  },
  {
   "cell_type": "code",
   "execution_count": 38,
   "metadata": {},
   "outputs": [
    {
     "data": {
      "text/plain": [
       "(27.0, 39.0)"
      ]
     },
     "execution_count": 38,
     "metadata": {},
     "output_type": "execute_result"
    }
   ],
   "source": [
    "# Q1,Q3\n",
    "Q1_age = np.percentile(data_train.age,25)\n",
    "Q3_age = np.percentile(data_train.age,75)\n",
    "Q1_age, Q3_age"
   ]
  },
  {
   "cell_type": "code",
   "execution_count": 39,
   "metadata": {},
   "outputs": [
    {
     "data": {
      "text/plain": [
       "12.0"
      ]
     },
     "execution_count": 39,
     "metadata": {},
     "output_type": "execute_result"
    }
   ],
   "source": [
    "age_iqr = scipy.stats.iqr(data_train.age)\n",
    "age_iqr"
   ]
  },
  {
   "cell_type": "code",
   "execution_count": 40,
   "metadata": {},
   "outputs": [
    {
     "data": {
      "text/plain": [
       "74.26533052123897"
      ]
     },
     "execution_count": 40,
     "metadata": {},
     "output_type": "execute_result"
    }
   ],
   "source": [
    "age_var = data_train.age.var()\n",
    "age_var"
   ]
  },
  {
   "cell_type": "code",
   "execution_count": 41,
   "metadata": {},
   "outputs": [
    {
     "data": {
      "text/plain": [
       "8.61773349096147"
      ]
     },
     "execution_count": 41,
     "metadata": {},
     "output_type": "execute_result"
    }
   ],
   "source": [
    "age_std = data_train.age.std()\n",
    "age_std"
   ]
  },
  {
   "cell_type": "code",
   "execution_count": 42,
   "metadata": {},
   "outputs": [
    {
     "data": {
      "text/plain": [
       "0.4254805669604524"
      ]
     },
     "execution_count": 42,
     "metadata": {},
     "output_type": "execute_result"
    }
   ],
   "source": [
    "age_skew = data_train.age.skew()\n",
    "age_skew\n",
    "# Phân phối lệch phải rất ít"
   ]
  },
  {
   "cell_type": "code",
   "execution_count": 43,
   "metadata": {},
   "outputs": [
    {
     "data": {
      "text/plain": [
       "0.4254763434533169"
      ]
     },
     "execution_count": 43,
     "metadata": {},
     "output_type": "execute_result"
    }
   ],
   "source": [
    "scipy.stats.skew(data_train.age)"
   ]
  },
  {
   "cell_type": "code",
   "execution_count": 44,
   "metadata": {},
   "outputs": [
    {
     "data": {
      "text/plain": [
       "-0.1733995302366549"
      ]
     },
     "execution_count": 44,
     "metadata": {},
     "output_type": "execute_result"
    }
   ],
   "source": [
    "prin_kur = data_train.age.kurtosis()\n",
    "prin_kur\n",
    "# Phân phối nhọn hơn phân phối chuẩn"
   ]
  },
  {
   "cell_type": "code",
   "execution_count": 45,
   "metadata": {},
   "outputs": [
    {
     "name": "stderr",
     "output_type": "stream",
     "text": [
      "c:\\python\\lib\\site-packages\\scipy\\stats\\stats.py:1713: FutureWarning: Using a non-tuple sequence for multidimensional indexing is deprecated; use `arr[tuple(seq)]` instead of `arr[seq]`. In the future this will be interpreted as an array index, `arr[np.array(seq)]`, which will result either in an error or a different result.\n",
      "  return np.add.reduce(sorted[indexer] * weights, axis=axis) / sumval\n"
     ]
    },
    {
     "data": {
      "image/png": "[encoded data removed]",
      "text/plain": [
       "<Figure size 720x360 with 2 Axes>"
      ]
     },
     "metadata": {},
     "output_type": "display_data"
    }
   ],
   "source": [
    "# Visuallization\n",
    "# Histogram\n",
    "plt.figure(figsize = (10,5))\n",
    "plt.subplot(1,2,1)\n",
    "sns.distplot(data_train.age)\n",
    "plt.subplot(1,2,2)\n",
    "plt.hist(data_train.age)\n",
    "plt.show()"
   ]
  },
  {
   "cell_type": "code",
   "execution_count": 46,
   "metadata": {},
   "outputs": [
    {
     "data": {
      "image/png": "[encoded data removed]",
      "text/plain": [
       "<Figure size 288x576 with 1 Axes>"
      ]
     },
     "metadata": {},
     "output_type": "display_data"
    }
   ],
   "source": [
    "# Boxplot\n",
    "plt.figure(figsize=(4,8))\n",
    "plt.boxplot(data_train.age)\n",
    "plt.show()"
   ]
  },
  {
   "cell_type": "code",
   "execution_count": 47,
   "metadata": {},
   "outputs": [
    {
     "data": {
      "text/plain": [
       "1749"
      ]
     },
     "execution_count": 47,
     "metadata": {},
     "output_type": "execute_result"
    }
   ],
   "source": [
    "# number of upper outliers\n",
    "n_o_upper = data_train[data_train.age > (Q3_age+1.3* age_iqr)].shape[0]\n",
    "n_o_upper"
   ]
  },
  {
   "cell_type": "code",
   "execution_count": 48,
   "metadata": {},
   "outputs": [
    {
     "data": {
      "text/plain": [
       "0.01157419662237281"
      ]
     },
     "execution_count": 48,
     "metadata": {},
     "output_type": "execute_result"
    }
   ],
   "source": [
    "# Percentage od outliers\n",
    "outlier_per_age = n_o_upper/data_train.shape[0]\n",
    "outlier_per_age"
   ]
  },
  {
   "cell_type": "code",
   "execution_count": 49,
   "metadata": {},
   "outputs": [],
   "source": [
    "# from scipy.stats import zscore\n",
    "# data_train[\"age_zscore\"] = zscore(data_train[\"age\"])\n",
    "# data_train[\"is_outlier\"] = data_train[\"age_zscore\"].apply(lambda x: x <= -3 or x >= 3)\n",
    "# data_train[data_train[\"is_outlier\"]]"
   ]
  },
  {
   "cell_type": "code",
   "execution_count": 50,
   "metadata": {},
   "outputs": [
    {
     "data": {
      "text/plain": [
       "151112"
      ]
     },
     "execution_count": 50,
     "metadata": {},
     "output_type": "execute_result"
    }
   ],
   "source": [
    "data_train.age.shape[0]"
   ]
  },
  {
   "cell_type": "code",
   "execution_count": 51,
   "metadata": {},
   "outputs": [],
   "source": [
    "def removeOutliers(x, outlierConstant):\n",
    "    a = np.array(x)\n",
    "    upper_quartile = np.percentile(a, 75)\n",
    "    lower_quartile = np.percentile(a, 25)\n",
    "    IQR = (upper_quartile - lower_quartile) * outlierConstant\n",
    "    quartileSet = (lower_quartile - IQR, upper_quartile + IQR)\n",
    "    \n",
    "    result = a[np.where((a >= quartileSet[0]) & (a <= quartileSet[1]))]\n",
    "    return result.tolist()"
   ]
  },
  {
   "cell_type": "code",
   "execution_count": 52,
   "metadata": {},
   "outputs": [
    {
     "data": {
      "text/plain": [
       "150336"
      ]
     },
     "execution_count": 52,
     "metadata": {},
     "output_type": "execute_result"
    }
   ],
   "source": [
    "len(removeOutliers(data_train.age,1.5))"
   ]
  },
  {
   "cell_type": "code",
   "execution_count": 53,
   "metadata": {},
   "outputs": [],
   "source": [
    "def remove_outliers(col):\n",
    "    Q1, Q3 = col.quantile([0.25, 0.75])\n",
    "    IQR = Q3 - Q1\n",
    "    oa = Q3 +  1.37*IQR\n",
    "    ob = Q1 -  1.37*IQR\n",
    "    return col[(col > ob) & (col < oa)]"
   ]
  },
  {
   "cell_type": "code",
   "execution_count": 54,
   "metadata": {},
   "outputs": [
    {
     "data": {
      "text/plain": [
       "<matplotlib.axes._subplots.AxesSubplot at 0x1cc0c5f8>"
      ]
     },
     "execution_count": 54,
     "metadata": {},
     "output_type": "execute_result"
    },
    {
     "data": {
      "image/png": "[encoded data removed]",
      "text/plain": [
       "<Figure size 432x288 with 1 Axes>"
      ]
     },
     "metadata": {},
     "output_type": "display_data"
    }
   ],
   "source": [
    "age_clean = removeOutliers(data_train.age, 1.5)\n",
    "sns.boxplot(age_clean)"
   ]
  },
  {
   "cell_type": "code",
   "execution_count": 55,
   "metadata": {},
   "outputs": [
    {
     "data": {
      "text/plain": [
       "count                  151112\n",
       "unique                 151112\n",
       "top       2015-06-30 03:58:38\n",
       "freq                        1\n",
       "first     2015-01-01 00:00:42\n",
       "last      2015-08-18 04:40:29\n",
       "Name: signup_time, dtype: object"
      ]
     },
     "execution_count": 55,
     "metadata": {},
     "output_type": "execute_result"
    }
   ],
   "source": [
    "# signup_time\n",
    "data_train[\"signup_time\"].describe(include=all)"
   ]
  },
  {
   "cell_type": "code",
   "execution_count": 56,
   "metadata": {},
   "outputs": [
    {
     "data": {
      "text/plain": [
       "0        2015-01-01 00:00:42\n",
       "1        2015-01-01 00:00:43\n",
       "2        2015-01-01 00:00:44\n",
       "3        2015-01-01 00:00:45\n",
       "4        2015-01-01 00:00:46\n",
       "5        2015-01-01 00:00:47\n",
       "6        2015-01-01 00:00:48\n",
       "7        2015-01-01 00:00:49\n",
       "8        2015-01-01 00:00:50\n",
       "9        2015-01-01 00:00:51\n",
       "10       2015-01-01 00:04:11\n",
       "11       2015-01-01 00:05:19\n",
       "12       2015-01-01 00:07:11\n",
       "13       2015-01-01 00:08:56\n",
       "14       2015-01-01 00:09:55\n",
       "15       2015-01-01 00:12:09\n",
       "16       2015-01-01 00:12:10\n",
       "17       2015-01-01 00:12:11\n",
       "18       2015-01-01 00:12:12\n",
       "19       2015-01-01 00:12:13\n",
       "20       2015-01-01 00:12:14\n",
       "21       2015-01-01 00:12:15\n",
       "22       2015-01-01 00:12:16\n",
       "23       2015-01-01 00:12:17\n",
       "24       2015-01-01 00:12:18\n",
       "25       2015-01-01 00:12:19\n",
       "26       2015-01-01 00:13:54\n",
       "27       2015-01-01 00:18:35\n",
       "28       2015-01-01 00:19:09\n",
       "29       2015-01-01 00:21:35\n",
       "                 ...        \n",
       "151082   2015-08-18 03:41:37\n",
       "151083   2015-08-18 03:42:33\n",
       "151084   2015-08-18 03:43:45\n",
       "151085   2015-08-18 03:47:39\n",
       "151086   2015-08-18 03:48:24\n",
       "151087   2015-08-18 03:49:23\n",
       "151088   2015-08-18 03:50:51\n",
       "151089   2015-08-18 03:52:09\n",
       "151090   2015-08-18 03:54:17\n",
       "151091   2015-08-18 03:56:03\n",
       "151092   2015-08-18 03:57:06\n",
       "151093   2015-08-18 03:58:37\n",
       "151094   2015-08-18 04:00:04\n",
       "151095   2015-08-18 04:01:12\n",
       "151096   2015-08-18 04:03:36\n",
       "151097   2015-08-18 04:04:24\n",
       "151098   2015-08-18 04:05:48\n",
       "151099   2015-08-18 04:07:17\n",
       "151100   2015-08-18 04:09:10\n",
       "151101   2015-08-18 04:12:27\n",
       "151102   2015-08-18 04:14:17\n",
       "151103   2015-08-18 04:16:58\n",
       "151104   2015-08-18 04:19:56\n",
       "151105   2015-08-18 04:20:35\n",
       "151106   2015-08-18 04:25:00\n",
       "151107   2015-08-18 04:29:35\n",
       "151108   2015-08-18 04:31:11\n",
       "151109   2015-08-18 04:31:58\n",
       "151110   2015-08-18 04:37:34\n",
       "151111   2015-08-18 04:40:29\n",
       "Length: 151112, dtype: datetime64[ns]"
      ]
     },
     "execution_count": 56,
     "metadata": {},
     "output_type": "execute_result"
    }
   ],
   "source": [
    "data_train[\"signup_time\"].mode() "
   ]
  },
  {
   "cell_type": "code",
   "execution_count": 57,
   "metadata": {},
   "outputs": [
    {
     "data": {
      "text/plain": [
       "numpy.timedelta64(19802387000000000,'ns')"
      ]
     },
     "execution_count": 57,
     "metadata": {},
     "output_type": "execute_result"
    }
   ],
   "source": [
    "np.array(data_train[\"signup_time\"]).ptp()"
   ]
  },
  {
   "cell_type": "markdown",
   "metadata": {},
   "source": [
    "### Categorical Variable"
   ]
  },
  {
   "cell_type": "markdown",
   "metadata": {},
   "source": [
    "+ user_id\n",
    "+ device_id\n",
    "+ source\n",
    "+ browser\n",
    "+ sex\n",
    "+ ip_address\n",
    "+ country\n"
   ]
  },
  {
   "cell_type": "markdown",
   "metadata": {},
   "source": [
    "### user_id"
   ]
  },
  {
   "cell_type": "code",
   "execution_count": 58,
   "metadata": {},
   "outputs": [],
   "source": [
    "# user_id\n",
    "prin_count = data_train[\"user_id\"].value_counts(dropna=False)\n",
    "#print(prin_count)"
   ]
  },
  {
   "cell_type": "markdown",
   "metadata": {},
   "source": [
    "### device_id"
   ]
  },
  {
   "cell_type": "code",
   "execution_count": 59,
   "metadata": {},
   "outputs": [],
   "source": [
    "# device_id\n",
    "device_id_count = data_train.groupby('device_id').size()"
   ]
  },
  {
   "cell_type": "markdown",
   "metadata": {},
   "source": [
    "### browser"
   ]
  },
  {
   "cell_type": "code",
   "execution_count": 60,
   "metadata": {},
   "outputs": [
    {
     "data": {
      "text/plain": [
       "browser\n",
       "Chrome     61432\n",
       "FireFox    24610\n",
       "IE         36727\n",
       "Opera       3676\n",
       "Safari     24667\n",
       "dtype: int64"
      ]
     },
     "execution_count": 60,
     "metadata": {},
     "output_type": "execute_result"
    }
   ],
   "source": [
    "# education\n",
    "browser_count = data_train.groupby('browser').size()\n",
    "browser_count"
   ]
  },
  {
   "cell_type": "code",
   "execution_count": 61,
   "metadata": {},
   "outputs": [
    {
     "data": {
      "text/plain": [
       "<matplotlib.axes._subplots.AxesSubplot at 0x1c80ba90>"
      ]
     },
     "execution_count": 61,
     "metadata": {},
     "output_type": "execute_result"
    },
    {
     "data": {
      "image/png": "[encoded data removed]",
      "text/plain": [
       "<Figure size 432x288 with 1 Axes>"
      ]
     },
     "metadata": {},
     "output_type": "display_data"
    }
   ],
   "source": [
    "sns.set()\n",
    "browser_count.plot.bar()"
   ]
  },
  {
   "cell_type": "markdown",
   "metadata": {},
   "source": [
    "### source"
   ]
  },
  {
   "cell_type": "code",
   "execution_count": 62,
   "metadata": {},
   "outputs": [
    {
     "data": {
      "text/plain": [
       "source\n",
       "Ads       59881\n",
       "Direct    30616\n",
       "SEO       60615\n",
       "dtype: int64"
      ]
     },
     "execution_count": 62,
     "metadata": {},
     "output_type": "execute_result"
    }
   ],
   "source": [
    "# Gender\n",
    "source_count = data_train.groupby('source').size()\n",
    "source_count"
   ]
  },
  {
   "cell_type": "code",
   "execution_count": 63,
   "metadata": {},
   "outputs": [
    {
     "data": {
      "text/plain": [
       "<matplotlib.axes._subplots.AxesSubplot at 0x1c8d08d0>"
      ]
     },
     "execution_count": 63,
     "metadata": {},
     "output_type": "execute_result"
    },
    {
     "data": {
      "image/png": "[encoded data removed]",
      "text/plain": [
       "<Figure size 432x288 with 1 Axes>"
      ]
     },
     "metadata": {},
     "output_type": "display_data"
    }
   ],
   "source": [
    "sns.set()\n",
    "source_count.plot.bar()"
   ]
  },
  {
   "cell_type": "markdown",
   "metadata": {},
   "source": [
    "### sex"
   ]
  },
  {
   "cell_type": "code",
   "execution_count": 64,
   "metadata": {},
   "outputs": [
    {
     "data": {
      "text/plain": [
       "M    88293\n",
       "F    62819\n",
       "Name: sex, dtype: int64"
      ]
     },
     "execution_count": 64,
     "metadata": {},
     "output_type": "execute_result"
    }
   ],
   "source": [
    "# sex\n",
    "sex_count = data_train[\"sex\"].value_counts(dropna=False)\n",
    "sex_count"
   ]
  },
  {
   "cell_type": "code",
   "execution_count": 65,
   "metadata": {},
   "outputs": [
    {
     "data": {
      "text/plain": [
       "<matplotlib.axes._subplots.AxesSubplot at 0x1c928320>"
      ]
     },
     "execution_count": 65,
     "metadata": {},
     "output_type": "execute_result"
    },
    {
     "data": {
      "image/png": "[encoded data removed]",
      "text/plain": [
       "<Figure size 432x288 with 1 Axes>"
      ]
     },
     "metadata": {},
     "output_type": "display_data"
    }
   ],
   "source": [
    "sns.set()\n",
    "sex_count.plot.bar()"
   ]
  },
  {
   "cell_type": "markdown",
   "metadata": {},
   "source": [
    "### ip_address"
   ]
  },
  {
   "cell_type": "code",
   "execution_count": 66,
   "metadata": {},
   "outputs": [
    {
     "data": {
      "text/plain": [
       "34.85.253.200     20\n",
       "230.244.27.241    20\n",
       "89.147.48.115     20\n",
       "122.63.57.176     20\n",
       "107.29.25.29      19\n",
       "Name: ip_address, dtype: int64"
      ]
     },
     "execution_count": 66,
     "metadata": {},
     "output_type": "execute_result"
    }
   ],
   "source": [
    "# sex\n",
    "ip_address_count = data_train[\"ip_address\"].value_counts(dropna=False)\n",
    "ip_address_count.head()"
   ]
  },
  {
   "cell_type": "markdown",
   "metadata": {},
   "source": [
    "### country"
   ]
  },
  {
   "cell_type": "code",
   "execution_count": 67,
   "metadata": {},
   "outputs": [
    {
     "data": {
      "text/plain": [
       "196"
      ]
     },
     "execution_count": 67,
     "metadata": {},
     "output_type": "execute_result"
    }
   ],
   "source": [
    "# Country\n",
    "country_count = data_train.groupby('country').size()\n",
    "country_count.count()"
   ]
  },
  {
   "cell_type": "code",
   "execution_count": 68,
   "metadata": {},
   "outputs": [
    {
     "data": {
      "text/plain": [
       "<matplotlib.axes._subplots.AxesSubplot at 0x1c981470>"
      ]
     },
     "execution_count": 68,
     "metadata": {},
     "output_type": "execute_result"
    },
    {
     "data": {
      "image/png": "[encoded data removed]",
      "text/plain": [
       "<Figure size 432x288 with 1 Axes>"
      ]
     },
     "metadata": {},
     "output_type": "display_data"
    }
   ],
   "source": [
    "sns.set()\n",
    "country_count.plot.pie()"
   ]
  },
  {
   "cell_type": "code",
   "execution_count": null,
   "metadata": {},
   "outputs": [],
   "source": []
  },
  {
   "cell_type": "markdown",
   "metadata": {},
   "source": [
    "### 1.4 Bi-variate Analysis"
   ]
  },
  {
   "cell_type": "markdown",
   "metadata": {},
   "source": [
    "### 1.4.1 Continuous & Continuous"
   ]
  },
  {
   "cell_type": "code",
   "execution_count": 69,
   "metadata": {},
   "outputs": [
    {
     "data": {
      "text/plain": [
       "<seaborn.axisgrid.PairGrid at 0x1d67e400>"
      ]
     },
     "execution_count": 69,
     "metadata": {},
     "output_type": "execute_result"
    },
    {
     "data": {
      "image/png": "[encoded data removed]",
      "text/plain": [
       "<Figure size 360x360 with 6 Axes>"
      ]
     },
     "metadata": {},
     "output_type": "display_data"
    }
   ],
   "source": [
    "# Continuous & Continuous\n",
    "sns.pairplot(data_train[['purchase_value','age']])"
   ]
  },
  {
   "cell_type": "markdown",
   "metadata": {},
   "source": [
    "#### => Không có quan hệ tuyến tính"
   ]
  },
  {
   "cell_type": "markdown",
   "metadata": {},
   "source": [
    "### 1.4.2 Categoricals & Categoricals"
   ]
  },
  {
   "cell_type": "markdown",
   "metadata": {},
   "source": [
    "+ user_id  & source\n",
    "+ device_id & source\n",
    "+ source & sex\n",
    "+ browser & sex\n",
    "+ ip_address & browser"
   ]
  },
  {
   "cell_type": "markdown",
   "metadata": {},
   "source": [
    "#### 1.4.2.1 source & user_id"
   ]
  },
  {
   "cell_type": "code",
   "execution_count": 70,
   "metadata": {},
   "outputs": [
    {
     "data": {
      "text/html": [
       "<div>\n",
       "<style scoped>\n",
       "    .dataframe tbody tr th:only-of-type {\n",
       "        vertical-align: middle;\n",
       "    }\n",
       "\n",
       "    .dataframe tbody tr th {\n",
       "        vertical-align: top;\n",
       "    }\n",
       "\n",
       "    .dataframe thead th {\n",
       "        text-align: right;\n",
       "    }\n",
       "</style>\n",
       "<table border=\"1\" class=\"dataframe\">\n",
       "  <thead>\n",
       "    <tr style=\"text-align: right;\">\n",
       "      <th></th>\n",
       "      <th>user_id</th>\n",
       "    </tr>\n",
       "    <tr>\n",
       "      <th>source</th>\n",
       "      <th></th>\n",
       "    </tr>\n",
       "  </thead>\n",
       "  <tbody>\n",
       "    <tr>\n",
       "      <th>Ads</th>\n",
       "      <td>59881</td>\n",
       "    </tr>\n",
       "    <tr>\n",
       "      <th>Direct</th>\n",
       "      <td>30616</td>\n",
       "    </tr>\n",
       "    <tr>\n",
       "      <th>SEO</th>\n",
       "      <td>60615</td>\n",
       "    </tr>\n",
       "  </tbody>\n",
       "</table>\n",
       "</div>"
      ],
      "text/plain": [
       "        user_id\n",
       "source         \n",
       "Ads       59881\n",
       "Direct    30616\n",
       "SEO       60615"
      ]
     },
     "execution_count": 70,
     "metadata": {},
     "output_type": "execute_result"
    }
   ],
   "source": [
    "# source & user_id\n",
    "table_Gl = data_train[['source','user_id']].groupby('source').count()\n",
    "table_Gl"
   ]
  },
  {
   "cell_type": "code",
   "execution_count": 71,
   "metadata": {},
   "outputs": [
    {
     "data": {
      "image/png": "[encoded data removed]",
      "text/plain": [
       "<Figure size 432x288 with 1 Axes>"
      ]
     },
     "metadata": {},
     "output_type": "display_data"
    }
   ],
   "source": [
    "table_Gl.plot(kind = 'bar', stacked = True)\n",
    "plt.show()"
   ]
  },
  {
   "cell_type": "code",
   "execution_count": 72,
   "metadata": {},
   "outputs": [],
   "source": [
    "# Chi-squared test with similar proportions\n",
    "from scipy.stats import chi2_contingency\n",
    "from scipy.stats import chi2"
   ]
  },
  {
   "cell_type": "code",
   "execution_count": 73,
   "metadata": {},
   "outputs": [
    {
     "name": "stdout",
     "output_type": "stream",
     "text": [
      "dof = 0\n",
      "p= 1.0\n"
     ]
    }
   ],
   "source": [
    "# Chi-Squared Test\n",
    "stat, p, dof, expect = chi2_contingency(table_Gl)\n",
    "print('dof = %d' %dof)\n",
    "print('p=',p)"
   ]
  },
  {
   "cell_type": "code",
   "execution_count": 74,
   "metadata": {},
   "outputs": [
    {
     "name": "stdout",
     "output_type": "stream",
     "text": [
      "probability = 0.950, critical = nan, stat_gl = 0.000\n"
     ]
    }
   ],
   "source": [
    "# interpret test-statistic\n",
    "prob_gl = 0.95\n",
    "critical_gl = chi2.ppf(prob_gl,dof)\n",
    "print('probability = %.3f, critical = %.3f, stat_gl = %.3f' % (prob_gl,critical_gl,stat))"
   ]
  },
  {
   "cell_type": "code",
   "execution_count": 75,
   "metadata": {},
   "outputs": [
    {
     "name": "stdout",
     "output_type": "stream",
     "text": [
      "significance = 0.050, p = 1.000\n",
      "Indepent\n"
     ]
    }
   ],
   "source": [
    "# interpret p-value\n",
    "alpha_gl = 1 - prob_gl\n",
    "print('significance = %.3f, p = %.3f'%(alpha_gl,p))\n",
    "if p <= alpha_gl:\n",
    "    print('Dependent')\n",
    "else:\n",
    "    print('Indepent')"
   ]
  },
  {
   "cell_type": "markdown",
   "metadata": {},
   "source": [
    "#### 1.4.2.2  device_id & source"
   ]
  },
  {
   "cell_type": "code",
   "execution_count": 76,
   "metadata": {},
   "outputs": [
    {
     "data": {
      "text/html": [
       "<div>\n",
       "<style scoped>\n",
       "    .dataframe tbody tr th:only-of-type {\n",
       "        vertical-align: middle;\n",
       "    }\n",
       "\n",
       "    .dataframe tbody tr th {\n",
       "        vertical-align: top;\n",
       "    }\n",
       "\n",
       "    .dataframe thead th {\n",
       "        text-align: right;\n",
       "    }\n",
       "</style>\n",
       "<table border=\"1\" class=\"dataframe\">\n",
       "  <thead>\n",
       "    <tr style=\"text-align: right;\">\n",
       "      <th></th>\n",
       "      <th>device_id</th>\n",
       "    </tr>\n",
       "    <tr>\n",
       "      <th>source</th>\n",
       "      <th></th>\n",
       "    </tr>\n",
       "  </thead>\n",
       "  <tbody>\n",
       "    <tr>\n",
       "      <th>Ads</th>\n",
       "      <td>59881</td>\n",
       "    </tr>\n",
       "    <tr>\n",
       "      <th>Direct</th>\n",
       "      <td>30616</td>\n",
       "    </tr>\n",
       "    <tr>\n",
       "      <th>SEO</th>\n",
       "      <td>60615</td>\n",
       "    </tr>\n",
       "  </tbody>\n",
       "</table>\n",
       "</div>"
      ],
      "text/plain": [
       "        device_id\n",
       "source           \n",
       "Ads         59881\n",
       "Direct      30616\n",
       "SEO         60615"
      ]
     },
     "execution_count": 76,
     "metadata": {},
     "output_type": "execute_result"
    }
   ],
   "source": [
    "# source & user_id\n",
    "table_Ds = data_train[['source','device_id']].groupby('source').count()\n",
    "table_Ds"
   ]
  },
  {
   "cell_type": "code",
   "execution_count": 77,
   "metadata": {},
   "outputs": [
    {
     "data": {
      "image/png": "[encoded data removed]",
      "text/plain": [
       "<Figure size 432x288 with 1 Axes>"
      ]
     },
     "metadata": {},
     "output_type": "display_data"
    }
   ],
   "source": [
    "table_Ds.plot(kind = 'bar', stacked = True)\n",
    "plt.show()"
   ]
  },
  {
   "cell_type": "code",
   "execution_count": 78,
   "metadata": {},
   "outputs": [],
   "source": [
    "# Chi-squared test with similar proportions\n",
    "from scipy.stats import chi2_contingency\n",
    "from scipy.stats import chi2"
   ]
  },
  {
   "cell_type": "code",
   "execution_count": 79,
   "metadata": {},
   "outputs": [
    {
     "name": "stdout",
     "output_type": "stream",
     "text": [
      "dof = 0\n",
      "p= 1.0\n"
     ]
    }
   ],
   "source": [
    "# Chi-Squared Test\n",
    "stat, p, dof, expect = chi2_contingency(table_Ds)\n",
    "print('dof = %d' %dof)\n",
    "print('p=',p)"
   ]
  },
  {
   "cell_type": "code",
   "execution_count": 80,
   "metadata": {},
   "outputs": [
    {
     "name": "stdout",
     "output_type": "stream",
     "text": [
      "probability = 0.950, critical = nan, stat_gl = 0.000\n"
     ]
    }
   ],
   "source": [
    "# interpret test-statistic\n",
    "prob_gl = 0.95\n",
    "critical_gl = chi2.ppf(prob_gl,dof)\n",
    "print('probability = %.3f, critical = %.3f, stat_gl = %.3f' % (prob_gl,critical_gl,stat))"
   ]
  },
  {
   "cell_type": "code",
   "execution_count": 81,
   "metadata": {},
   "outputs": [
    {
     "name": "stdout",
     "output_type": "stream",
     "text": [
      "significance = 0.050, p = 1.000\n",
      "Indepent\n"
     ]
    }
   ],
   "source": [
    "# interpret p-value\n",
    "alpha_gl = 1 - prob_gl\n",
    "print('significance = %.3f, p = %.3f'%(alpha_gl,p))\n",
    "if p <= alpha_gl:\n",
    "    print('Dependent')\n",
    "else:\n",
    "    print('Indepent')"
   ]
  },
  {
   "cell_type": "markdown",
   "metadata": {},
   "source": [
    "#### 1.4.2.3  source & sex"
   ]
  },
  {
   "cell_type": "code",
   "execution_count": 82,
   "metadata": {},
   "outputs": [
    {
     "data": {
      "text/html": [
       "<div>\n",
       "<style scoped>\n",
       "    .dataframe tbody tr th:only-of-type {\n",
       "        vertical-align: middle;\n",
       "    }\n",
       "\n",
       "    .dataframe tbody tr th {\n",
       "        vertical-align: top;\n",
       "    }\n",
       "\n",
       "    .dataframe thead th {\n",
       "        text-align: right;\n",
       "    }\n",
       "</style>\n",
       "<table border=\"1\" class=\"dataframe\">\n",
       "  <thead>\n",
       "    <tr style=\"text-align: right;\">\n",
       "      <th>sex</th>\n",
       "      <th>F</th>\n",
       "      <th>M</th>\n",
       "    </tr>\n",
       "    <tr>\n",
       "      <th>source</th>\n",
       "      <th></th>\n",
       "      <th></th>\n",
       "    </tr>\n",
       "  </thead>\n",
       "  <tbody>\n",
       "    <tr>\n",
       "      <th>Ads</th>\n",
       "      <td>24901</td>\n",
       "      <td>34980</td>\n",
       "    </tr>\n",
       "    <tr>\n",
       "      <th>Direct</th>\n",
       "      <td>12780</td>\n",
       "      <td>17836</td>\n",
       "    </tr>\n",
       "    <tr>\n",
       "      <th>SEO</th>\n",
       "      <td>25138</td>\n",
       "      <td>35477</td>\n",
       "    </tr>\n",
       "  </tbody>\n",
       "</table>\n",
       "</div>"
      ],
      "text/plain": [
       "sex         F      M\n",
       "source              \n",
       "Ads     24901  34980\n",
       "Direct  12780  17836\n",
       "SEO     25138  35477"
      ]
     },
     "execution_count": 82,
     "metadata": {},
     "output_type": "execute_result"
    }
   ],
   "source": [
    "# education \n",
    "table_El =  pd.crosstab(data_train['source'],data_train['sex'])\n",
    "table_El"
   ]
  },
  {
   "cell_type": "code",
   "execution_count": 83,
   "metadata": {},
   "outputs": [
    {
     "data": {
      "image/png": "[encoded data removed]",
      "text/plain": [
       "<Figure size 432x288 with 1 Axes>"
      ]
     },
     "metadata": {},
     "output_type": "display_data"
    }
   ],
   "source": [
    "table_El.plot(kind = 'bar', stacked = True)\n",
    "plt.show()"
   ]
  },
  {
   "cell_type": "code",
   "execution_count": 84,
   "metadata": {},
   "outputs": [
    {
     "name": "stdout",
     "output_type": "stream",
     "text": [
      "dof = 2\n",
      "p= 0.7322452683895261\n"
     ]
    }
   ],
   "source": [
    "# Chi-Squared Test\n",
    "stat, p, dof, expect = chi2_contingency(table_El)\n",
    "print('dof = %d' %dof)\n",
    "print('p=',p)"
   ]
  },
  {
   "cell_type": "code",
   "execution_count": 85,
   "metadata": {},
   "outputs": [
    {
     "name": "stdout",
     "output_type": "stream",
     "text": [
      "probability = 0.950, critical = 5.991, stat_gl = 0.623\n"
     ]
    }
   ],
   "source": [
    "# interpret test-statistic\n",
    "prob_el = 0.95\n",
    "critical_el = chi2.ppf(prob_el,dof)\n",
    "print('probability = %.3f, critical = %.3f, stat_gl = %.3f' % (prob_el,critical_el,stat))"
   ]
  },
  {
   "cell_type": "code",
   "execution_count": 86,
   "metadata": {},
   "outputs": [
    {
     "name": "stdout",
     "output_type": "stream",
     "text": [
      "significance = 0.050, p = 0.732\n",
      "Indepent\n"
     ]
    }
   ],
   "source": [
    "# interpret p-value\n",
    "alpha_el = 1 - prob_el\n",
    "print('significance = %.3f, p = %.3f'%(alpha_el,p))\n",
    "if p <= alpha_el:\n",
    "    print('Dependent')\n",
    "else:\n",
    "    print('Indepent')\n"
   ]
  },
  {
   "cell_type": "markdown",
   "metadata": {},
   "source": [
    "#### 1.4.2.4  sex & browser"
   ]
  },
  {
   "cell_type": "code",
   "execution_count": 87,
   "metadata": {},
   "outputs": [
    {
     "data": {
      "text/html": [
       "<div>\n",
       "<style scoped>\n",
       "    .dataframe tbody tr th:only-of-type {\n",
       "        vertical-align: middle;\n",
       "    }\n",
       "\n",
       "    .dataframe tbody tr th {\n",
       "        vertical-align: top;\n",
       "    }\n",
       "\n",
       "    .dataframe thead th {\n",
       "        text-align: right;\n",
       "    }\n",
       "</style>\n",
       "<table border=\"1\" class=\"dataframe\">\n",
       "  <thead>\n",
       "    <tr style=\"text-align: right;\">\n",
       "      <th>sex</th>\n",
       "      <th>F</th>\n",
       "      <th>M</th>\n",
       "    </tr>\n",
       "    <tr>\n",
       "      <th>browser</th>\n",
       "      <th></th>\n",
       "      <th></th>\n",
       "    </tr>\n",
       "  </thead>\n",
       "  <tbody>\n",
       "    <tr>\n",
       "      <th>Chrome</th>\n",
       "      <td>25558</td>\n",
       "      <td>35874</td>\n",
       "    </tr>\n",
       "    <tr>\n",
       "      <th>FireFox</th>\n",
       "      <td>10220</td>\n",
       "      <td>14390</td>\n",
       "    </tr>\n",
       "    <tr>\n",
       "      <th>IE</th>\n",
       "      <td>15275</td>\n",
       "      <td>21452</td>\n",
       "    </tr>\n",
       "    <tr>\n",
       "      <th>Opera</th>\n",
       "      <td>1466</td>\n",
       "      <td>2210</td>\n",
       "    </tr>\n",
       "    <tr>\n",
       "      <th>Safari</th>\n",
       "      <td>10300</td>\n",
       "      <td>14367</td>\n",
       "    </tr>\n",
       "  </tbody>\n",
       "</table>\n",
       "</div>"
      ],
      "text/plain": [
       "sex          F      M\n",
       "browser              \n",
       "Chrome   25558  35874\n",
       "FireFox  10220  14390\n",
       "IE       15275  21452\n",
       "Opera     1466   2210\n",
       "Safari   10300  14367"
      ]
     },
     "execution_count": 87,
     "metadata": {},
     "output_type": "execute_result"
    }
   ],
   "source": [
    "table_PT = pd.crosstab(data_train[\"browser\"],data_train[\"sex\"])\n",
    "table_PT"
   ]
  },
  {
   "cell_type": "code",
   "execution_count": 88,
   "metadata": {},
   "outputs": [
    {
     "data": {
      "text/plain": [
       "<matplotlib.axes._subplots.AxesSubplot at 0x1e0f1198>"
      ]
     },
     "execution_count": 88,
     "metadata": {},
     "output_type": "execute_result"
    },
    {
     "data": {
      "image/png": "[encoded data removed]",
      "text/plain": [
       "<Figure size 432x288 with 1 Axes>"
      ]
     },
     "metadata": {},
     "output_type": "display_data"
    }
   ],
   "source": [
    "table_PT.plot(kind = \"bar\", stacked = True)"
   ]
  },
  {
   "cell_type": "code",
   "execution_count": 89,
   "metadata": {},
   "outputs": [
    {
     "name": "stdout",
     "output_type": "stream",
     "text": [
      "dot=4\n",
      "p= 0.3165730898463197\n"
     ]
    }
   ],
   "source": [
    "#Chi-Square Test\n",
    "stat, p, dof, expected = chi2_contingency(table_PT)\n",
    "print(\"dot=%d\" %dof)\n",
    "print(\"p=\", p)"
   ]
  },
  {
   "cell_type": "code",
   "execution_count": 90,
   "metadata": {},
   "outputs": [
    {
     "name": "stdout",
     "output_type": "stream",
     "text": [
      "probability=0.950, critical=9.488, stat =4.726\n"
     ]
    }
   ],
   "source": [
    "#interpret test-statistic\n",
    "prob = 0.95\n",
    "critical = chi2.ppf(prob,dof)\n",
    "print(\"probability=%.3f, critical=%.3f, stat =%.3f\" %(prob, critical,stat))"
   ]
  },
  {
   "cell_type": "code",
   "execution_count": 91,
   "metadata": {},
   "outputs": [
    {
     "name": "stdout",
     "output_type": "stream",
     "text": [
      "significance = 0.050, p= 0.317\n",
      "Independent(fail to reject H0)\n"
     ]
    }
   ],
   "source": [
    "#interpret p-value\n",
    "alpha = 1.0-prob\n",
    "print(\"significance = %.3f, p= %.3f\" %(alpha,p))\n",
    "if p<alpha:\n",
    "    print(\"Dependent(reject H0)\")\n",
    "else:\n",
    "    print(\"Independent(fail to reject H0)\")"
   ]
  },
  {
   "cell_type": "code",
   "execution_count": 92,
   "metadata": {},
   "outputs": [],
   "source": [
    "# Nhận xét: 2 biến không có mối quan hệ với nhau"
   ]
  },
  {
   "cell_type": "markdown",
   "metadata": {},
   "source": [
    "#### 1.4.2.5 ip_address & browser"
   ]
  },
  {
   "cell_type": "code",
   "execution_count": 93,
   "metadata": {},
   "outputs": [
    {
     "data": {
      "text/html": [
       "<div>\n",
       "<style scoped>\n",
       "    .dataframe tbody tr th:only-of-type {\n",
       "        vertical-align: middle;\n",
       "    }\n",
       "\n",
       "    .dataframe tbody tr th {\n",
       "        vertical-align: top;\n",
       "    }\n",
       "\n",
       "    .dataframe thead th {\n",
       "        text-align: right;\n",
       "    }\n",
       "</style>\n",
       "<table border=\"1\" class=\"dataframe\">\n",
       "  <thead>\n",
       "    <tr style=\"text-align: right;\">\n",
       "      <th></th>\n",
       "      <th>ip_address</th>\n",
       "    </tr>\n",
       "    <tr>\n",
       "      <th>browser</th>\n",
       "      <th></th>\n",
       "    </tr>\n",
       "  </thead>\n",
       "  <tbody>\n",
       "    <tr>\n",
       "      <th>Chrome</th>\n",
       "      <td>61432</td>\n",
       "    </tr>\n",
       "    <tr>\n",
       "      <th>FireFox</th>\n",
       "      <td>24610</td>\n",
       "    </tr>\n",
       "    <tr>\n",
       "      <th>IE</th>\n",
       "      <td>36727</td>\n",
       "    </tr>\n",
       "    <tr>\n",
       "      <th>Opera</th>\n",
       "      <td>3676</td>\n",
       "    </tr>\n",
       "    <tr>\n",
       "      <th>Safari</th>\n",
       "      <td>24667</td>\n",
       "    </tr>\n",
       "  </tbody>\n",
       "</table>\n",
       "</div>"
      ],
      "text/plain": [
       "         ip_address\n",
       "browser            \n",
       "Chrome        61432\n",
       "FireFox       24610\n",
       "IE            36727\n",
       "Opera          3676\n",
       "Safari        24667"
      ]
     },
     "execution_count": 93,
     "metadata": {},
     "output_type": "execute_result"
    }
   ],
   "source": [
    "table_PG = data_train[[\"browser\",\"ip_address\"]].groupby([\"browser\"]).count()\n",
    "table_PG"
   ]
  },
  {
   "cell_type": "code",
   "execution_count": 94,
   "metadata": {},
   "outputs": [
    {
     "data": {
      "text/plain": [
       "<matplotlib.axes._subplots.AxesSubplot at 0x1e3eb390>"
      ]
     },
     "execution_count": 94,
     "metadata": {},
     "output_type": "execute_result"
    },
    {
     "data": {
      "image/png": "[encoded data removed]",
      "text/plain": [
       "<Figure size 432x288 with 1 Axes>"
      ]
     },
     "metadata": {},
     "output_type": "display_data"
    }
   ],
   "source": [
    "table_PG.plot(kind = \"bar\", stacked = True)"
   ]
  },
  {
   "cell_type": "code",
   "execution_count": 95,
   "metadata": {},
   "outputs": [
    {
     "name": "stdout",
     "output_type": "stream",
     "text": [
      "dot=0\n",
      "p= 1.0\n"
     ]
    }
   ],
   "source": [
    "#Chi-Square Test\n",
    "stat, p, dof, expected = chi2_contingency(table_PG)\n",
    "print(\"dot=%d\" %dof)\n",
    "print(\"p=\", p)"
   ]
  },
  {
   "cell_type": "code",
   "execution_count": 96,
   "metadata": {},
   "outputs": [
    {
     "name": "stdout",
     "output_type": "stream",
     "text": [
      "probability=0.950, critical=nan, stat =0.000\n",
      "significance = 0.050, p= 1.000\n",
      "Independent(fail to reject H0)\n"
     ]
    }
   ],
   "source": [
    "#interpret test-statistic\n",
    "prob = 0.95\n",
    "critical = chi2.ppf(prob,dof)\n",
    "print(\"probability=%.3f, critical=%.3f, stat =%.3f\" %(prob, critical,stat))\n",
    "#interpret p-value\n",
    "alpha = 1.0-prob\n",
    "print(\"significance = %.3f, p= %.3f\" %(alpha,p))\n",
    "if p<alpha:\n",
    "    print(\"Dependent(reject H0)\")\n",
    "else:\n",
    "    print(\"Independent(fail to reject H0)\")"
   ]
  },
  {
   "cell_type": "code",
   "execution_count": 97,
   "metadata": {},
   "outputs": [],
   "source": [
    "# Nhận xét: hai biến độc không có mối quan hệ với nhau"
   ]
  },
  {
   "cell_type": "markdown",
   "metadata": {},
   "source": [
    "### sex & country"
   ]
  },
  {
   "cell_type": "code",
   "execution_count": 98,
   "metadata": {},
   "outputs": [
    {
     "data": {
      "text/html": [
       "<div>\n",
       "<style scoped>\n",
       "    .dataframe tbody tr th:only-of-type {\n",
       "        vertical-align: middle;\n",
       "    }\n",
       "\n",
       "    .dataframe tbody tr th {\n",
       "        vertical-align: top;\n",
       "    }\n",
       "\n",
       "    .dataframe thead th {\n",
       "        text-align: right;\n",
       "    }\n",
       "</style>\n",
       "<table border=\"1\" class=\"dataframe\">\n",
       "  <thead>\n",
       "    <tr style=\"text-align: right;\">\n",
       "      <th></th>\n",
       "      <th>country</th>\n",
       "    </tr>\n",
       "    <tr>\n",
       "      <th>sex</th>\n",
       "      <th></th>\n",
       "    </tr>\n",
       "  </thead>\n",
       "  <tbody>\n",
       "    <tr>\n",
       "      <th>F</th>\n",
       "      <td>53720</td>\n",
       "    </tr>\n",
       "    <tr>\n",
       "      <th>M</th>\n",
       "      <td>75438</td>\n",
       "    </tr>\n",
       "  </tbody>\n",
       "</table>\n",
       "</div>"
      ],
      "text/plain": [
       "     country\n",
       "sex         \n",
       "F      53720\n",
       "M      75438"
      ]
     },
     "execution_count": 98,
     "metadata": {},
     "output_type": "execute_result"
    }
   ],
   "source": [
    "table_TC = data_train[[\"sex\",\"country\"]].groupby([\"sex\"]).count()\n",
    "table_TC"
   ]
  },
  {
   "cell_type": "code",
   "execution_count": 99,
   "metadata": {},
   "outputs": [
    {
     "data": {
      "text/plain": [
       "<matplotlib.axes._subplots.AxesSubplot at 0x1e42de80>"
      ]
     },
     "execution_count": 99,
     "metadata": {},
     "output_type": "execute_result"
    },
    {
     "data": {
      "image/png": "[encoded data removed]",
      "text/plain": [
       "<Figure size 432x288 with 1 Axes>"
      ]
     },
     "metadata": {},
     "output_type": "display_data"
    }
   ],
   "source": [
    "table_TC.plot(kind = \"bar\", stacked = True)"
   ]
  },
  {
   "cell_type": "code",
   "execution_count": 100,
   "metadata": {},
   "outputs": [
    {
     "name": "stdout",
     "output_type": "stream",
     "text": [
      "dot=0\n",
      "p= 1.0\n"
     ]
    }
   ],
   "source": [
    "#Chi-Square Test\n",
    "stat, p, dof, expected = chi2_contingency(table_TC)\n",
    "print(\"dot=%d\" %dof)\n",
    "print(\"p=\", p)"
   ]
  },
  {
   "cell_type": "code",
   "execution_count": 101,
   "metadata": {},
   "outputs": [
    {
     "name": "stdout",
     "output_type": "stream",
     "text": [
      "probability=0.950, critical=nan, stat =0.000\n",
      "significance = 0.050, p= 1.000\n",
      "Independent(fail to reject H0)\n"
     ]
    }
   ],
   "source": [
    "#interpret test-statistic\n",
    "prob = 0.95\n",
    "critical = chi2.ppf(prob,dof)\n",
    "print(\"probability=%.3f, critical=%.3f, stat =%.3f\" %(prob, critical,stat))\n",
    "#interpret p-value\n",
    "alpha = 1.0-prob\n",
    "print(\"significance = %.3f, p= %.3f\" %(alpha,p))\n",
    "if p<alpha:\n",
    "    print(\"Dependent(reject H0)\")\n",
    "else:\n",
    "    print(\"Independent(fail to reject H0)\")"
   ]
  },
  {
   "cell_type": "code",
   "execution_count": 102,
   "metadata": {},
   "outputs": [],
   "source": [
    "# Nhận xét: hai biến không có quan hệ với nhau"
   ]
  },
  {
   "cell_type": "code",
   "execution_count": 103,
   "metadata": {},
   "outputs": [
    {
     "data": {
      "text/html": [
       "<div>\n",
       "<style scoped>\n",
       "    .dataframe tbody tr th:only-of-type {\n",
       "        vertical-align: middle;\n",
       "    }\n",
       "\n",
       "    .dataframe tbody tr th {\n",
       "        vertical-align: top;\n",
       "    }\n",
       "\n",
       "    .dataframe thead th {\n",
       "        text-align: right;\n",
       "    }\n",
       "</style>\n",
       "<table border=\"1\" class=\"dataframe\">\n",
       "  <thead>\n",
       "    <tr style=\"text-align: right;\">\n",
       "      <th></th>\n",
       "      <th>user_id</th>\n",
       "      <th>signup_time</th>\n",
       "      <th>purchase_time</th>\n",
       "      <th>purchase_value</th>\n",
       "      <th>device_id</th>\n",
       "      <th>source</th>\n",
       "      <th>browser</th>\n",
       "      <th>sex</th>\n",
       "      <th>age</th>\n",
       "      <th>ip_address</th>\n",
       "      <th>class</th>\n",
       "      <th>country</th>\n",
       "      <th>freq_device</th>\n",
       "    </tr>\n",
       "  </thead>\n",
       "  <tbody>\n",
       "    <tr>\n",
       "      <th>0</th>\n",
       "      <td>22058</td>\n",
       "      <td>2015-02-24 22:55:49</td>\n",
       "      <td>2015-04-18 02:47:11</td>\n",
       "      <td>34</td>\n",
       "      <td>QVPSPJUOCKZAR</td>\n",
       "      <td>SEO</td>\n",
       "      <td>Chrome</td>\n",
       "      <td>M</td>\n",
       "      <td>39</td>\n",
       "      <td>43.173.1.96</td>\n",
       "      <td>0</td>\n",
       "      <td>Japan</td>\n",
       "      <td>1</td>\n",
       "    </tr>\n",
       "    <tr>\n",
       "      <th>1</th>\n",
       "      <td>333320</td>\n",
       "      <td>2015-06-07 20:39:50</td>\n",
       "      <td>2015-06-08 01:38:54</td>\n",
       "      <td>16</td>\n",
       "      <td>EOGFQPIZPYXFZ</td>\n",
       "      <td>Ads</td>\n",
       "      <td>Chrome</td>\n",
       "      <td>F</td>\n",
       "      <td>53</td>\n",
       "      <td>20.225.83.219</td>\n",
       "      <td>0</td>\n",
       "      <td>United States</td>\n",
       "      <td>1</td>\n",
       "    </tr>\n",
       "    <tr>\n",
       "      <th>2</th>\n",
       "      <td>1359</td>\n",
       "      <td>2015-01-01 18:52:44</td>\n",
       "      <td>2015-01-01 18:52:45</td>\n",
       "      <td>15</td>\n",
       "      <td>YSSKYOSJHPPLJ</td>\n",
       "      <td>SEO</td>\n",
       "      <td>Opera</td>\n",
       "      <td>M</td>\n",
       "      <td>53</td>\n",
       "      <td>156.64.132.28</td>\n",
       "      <td>1</td>\n",
       "      <td>United States</td>\n",
       "      <td>12</td>\n",
       "    </tr>\n",
       "    <tr>\n",
       "      <th>3</th>\n",
       "      <td>48288</td>\n",
       "      <td>2015-01-01 18:52:41</td>\n",
       "      <td>2015-01-01 18:52:42</td>\n",
       "      <td>15</td>\n",
       "      <td>YSSKYOSJHPPLJ</td>\n",
       "      <td>SEO</td>\n",
       "      <td>Opera</td>\n",
       "      <td>M</td>\n",
       "      <td>53</td>\n",
       "      <td>156.64.132.28</td>\n",
       "      <td>1</td>\n",
       "      <td>United States</td>\n",
       "      <td>12</td>\n",
       "    </tr>\n",
       "    <tr>\n",
       "      <th>4</th>\n",
       "      <td>128706</td>\n",
       "      <td>2015-01-01 18:52:40</td>\n",
       "      <td>2015-01-01 18:52:41</td>\n",
       "      <td>15</td>\n",
       "      <td>YSSKYOSJHPPLJ</td>\n",
       "      <td>SEO</td>\n",
       "      <td>Opera</td>\n",
       "      <td>M</td>\n",
       "      <td>53</td>\n",
       "      <td>156.64.132.28</td>\n",
       "      <td>1</td>\n",
       "      <td>United States</td>\n",
       "      <td>12</td>\n",
       "    </tr>\n",
       "  </tbody>\n",
       "</table>\n",
       "</div>"
      ],
      "text/plain": [
       "   user_id         signup_time       purchase_time  purchase_value  \\\n",
       "0    22058 2015-02-24 22:55:49 2015-04-18 02:47:11              34   \n",
       "1   333320 2015-06-07 20:39:50 2015-06-08 01:38:54              16   \n",
       "2     1359 2015-01-01 18:52:44 2015-01-01 18:52:45              15   \n",
       "3    48288 2015-01-01 18:52:41 2015-01-01 18:52:42              15   \n",
       "4   128706 2015-01-01 18:52:40 2015-01-01 18:52:41              15   \n",
       "\n",
       "       device_id source browser sex  age     ip_address  class        country  \\\n",
       "0  QVPSPJUOCKZAR    SEO  Chrome   M   39    43.173.1.96      0          Japan   \n",
       "1  EOGFQPIZPYXFZ    Ads  Chrome   F   53  20.225.83.219      0  United States   \n",
       "2  YSSKYOSJHPPLJ    SEO   Opera   M   53  156.64.132.28      1  United States   \n",
       "3  YSSKYOSJHPPLJ    SEO   Opera   M   53  156.64.132.28      1  United States   \n",
       "4  YSSKYOSJHPPLJ    SEO   Opera   M   53  156.64.132.28      1  United States   \n",
       "\n",
       "   freq_device  \n",
       "0            1  \n",
       "1            1  \n",
       "2           12  \n",
       "3           12  \n",
       "4           12  "
      ]
     },
     "execution_count": 103,
     "metadata": {},
     "output_type": "execute_result"
    }
   ],
   "source": [
    "data_train.head()"
   ]
  },
  {
   "cell_type": "code",
   "execution_count": 104,
   "metadata": {},
   "outputs": [
    {
     "data": {
      "text/plain": [
       "user_id               0\n",
       "signup_time           0\n",
       "purchase_time         0\n",
       "purchase_value        0\n",
       "device_id             0\n",
       "source                0\n",
       "browser               0\n",
       "sex                   0\n",
       "age                   0\n",
       "ip_address            0\n",
       "class                 0\n",
       "country           21954\n",
       "freq_device           0\n",
       "dtype: int64"
      ]
     },
     "execution_count": 104,
     "metadata": {},
     "output_type": "execute_result"
    }
   ],
   "source": [
    "data_train.isnull().sum() # Khong co du lieu thieu"
   ]
  },
  {
   "cell_type": "markdown",
   "metadata": {},
   "source": [
    "### 1.4.3 Categoricals & Continuous\n",
    "\n",
    "+ purchase_value\n",
    "+ age\n",
    "+ time \n",
    "+ device-id\n",
    "+ source\n",
    "+ sex"
   ]
  },
  {
   "cell_type": "code",
   "execution_count": 105,
   "metadata": {},
   "outputs": [
    {
     "name": "stderr",
     "output_type": "stream",
     "text": [
      "c:\\python\\lib\\site-packages\\scipy\\stats\\stats.py:1713: FutureWarning: Using a non-tuple sequence for multidimensional indexing is deprecated; use `arr[tuple(seq)]` instead of `arr[seq]`. In the future this will be interpreted as an array index, `arr[np.array(seq)]`, which will result either in an error or a different result.\n",
      "  return np.add.reduce(sorted[indexer] * weights, axis=axis) / sumval\n"
     ]
    },
    {
     "data": {
      "image/png": "[encoded data removed]",
      "text/plain": [
       "<Figure size 408.85x360 with 6 Axes>"
      ]
     },
     "metadata": {},
     "output_type": "display_data"
    }
   ],
   "source": [
    "sns.pairplot(data_train[['purchase_value','age','sex']],hue=\"sex\")\n",
    "plt.show()"
   ]
  },
  {
   "cell_type": "code",
   "execution_count": 107,
   "metadata": {},
   "outputs": [
    {
     "data": {
      "text/plain": [
       "143510"
      ]
     },
     "execution_count": 107,
     "metadata": {},
     "output_type": "execute_result"
    }
   ],
   "source": [
    "len(data_train.ip_address.unique())"
   ]
  },
  {
   "cell_type": "code",
   "execution_count": null,
   "metadata": {},
   "outputs": [],
   "source": [
    "# I'm doing"
   ]
  },
  {
   "cell_type": "markdown",
   "metadata": {},
   "source": [
    "### 1.5 Handle the Missing Values and Outlier Values\n",
    "\n",
    "+ Phần xử lý ngoại lệ đã thực hiện ở trên"
   ]
  },
  {
   "cell_type": "markdown",
   "metadata": {
    "button": false,
    "new_sheet": false,
    "run_control": {
     "read_only": false
    }
   },
   "source": [
    "# 2. Data visualization"
   ]
  },
  {
   "cell_type": "markdown",
   "metadata": {
    "button": false,
    "new_sheet": false,
    "run_control": {
     "read_only": false
    }
   },
   "source": [
    "How many sample of each class is in our data set?"
   ]
  },
  {
   "cell_type": "code",
   "execution_count": 108,
   "metadata": {
    "button": false,
    "new_sheet": false,
    "run_control": {
     "read_only": false
    }
   },
   "outputs": [],
   "source": [
    "# code\n",
    "status_count = data_train[['class','age','sex']].groupby(['class']).count()"
   ]
  },
  {
   "cell_type": "code",
   "execution_count": 109,
   "metadata": {},
   "outputs": [
    {
     "data": {
      "text/html": [
       "<div>\n",
       "<style scoped>\n",
       "    .dataframe tbody tr th:only-of-type {\n",
       "        vertical-align: middle;\n",
       "    }\n",
       "\n",
       "    .dataframe tbody tr th {\n",
       "        vertical-align: top;\n",
       "    }\n",
       "\n",
       "    .dataframe thead th {\n",
       "        text-align: right;\n",
       "    }\n",
       "</style>\n",
       "<table border=\"1\" class=\"dataframe\">\n",
       "  <thead>\n",
       "    <tr style=\"text-align: right;\">\n",
       "      <th></th>\n",
       "      <th>age</th>\n",
       "      <th>sex</th>\n",
       "    </tr>\n",
       "    <tr>\n",
       "      <th>class</th>\n",
       "      <th></th>\n",
       "      <th></th>\n",
       "    </tr>\n",
       "  </thead>\n",
       "  <tbody>\n",
       "    <tr>\n",
       "      <th>0</th>\n",
       "      <td>136961</td>\n",
       "      <td>136961</td>\n",
       "    </tr>\n",
       "    <tr>\n",
       "      <th>1</th>\n",
       "      <td>14151</td>\n",
       "      <td>14151</td>\n",
       "    </tr>\n",
       "  </tbody>\n",
       "</table>\n",
       "</div>"
      ],
      "text/plain": [
       "          age     sex\n",
       "class                \n",
       "0      136961  136961\n",
       "1       14151   14151"
      ]
     },
     "execution_count": 109,
     "metadata": {},
     "output_type": "execute_result"
    }
   ],
   "source": [
    "status_count"
   ]
  },
  {
   "cell_type": "markdown",
   "metadata": {},
   "source": [
    "Lets plot some columns to underestand data better:\n",
    "- Use seaborn or matplotlib to draw some plots like that:"
   ]
  },
  {
   "cell_type": "code",
   "execution_count": 110,
   "metadata": {},
   "outputs": [],
   "source": [
    "import numpy as np\n",
    "from PIL import Image\n",
    "import matplotlib.pyplot as plt"
   ]
  },
  {
   "cell_type": "code",
   "execution_count": 111,
   "metadata": {},
   "outputs": [
    {
     "data": {
      "image/png": "[encoded data removed]",
      "text/plain": [
       "<Figure size 2160x216 with 2 Axes>"
      ]
     },
     "metadata": {},
     "output_type": "display_data"
    }
   ],
   "source": [
    "# plt.figure(figsize = (20,20))\n",
    "# sns.set(style=\"ticks\")\n",
    "bins = np.linspace(data_train.purchase_value.min(),data_train.purchase_value.max(),10)\n",
    "g_prin = sns.FacetGrid(data_train, col = 'sex', hue = 'class', palette = 'Set1', col_wrap = 10, height=3,aspect=1,)\n",
    "g_prin.map(plt.hist,'purchase_value', edgecolor=\"black\", bins = bins)\n",
    "g_prin.axes[-1].legend()\n",
    "plt.legend(('not fraudulent','fraudulent'))\n",
    "plt.show()"
   ]
  },
  {
   "cell_type": "code",
   "execution_count": 112,
   "metadata": {},
   "outputs": [
    {
     "data": {
      "image/png": "[encoded data removed]",
      "text/plain": [
       "<Figure size 2160x216 with 2 Axes>"
      ]
     },
     "metadata": {},
     "output_type": "display_data"
    }
   ],
   "source": [
    "# code here\n",
    "bins = np.linspace(data_train.age.min(),data_train.age.max(),10)\n",
    "sns.set(style=\"ticks\")\n",
    "g_age = sns.FacetGrid(data_train, col = 'sex', hue = 'class',palette = 'Set1', col_wrap = 10, height=3,aspect=1,)\n",
    "g_age.map(plt.hist,'age', bins = bins, edgecolor=\"black\")\n",
    "g_age.axes[-1].legend()\n",
    "plt.legend(( 'not fraudulent','fraudulent'))\n",
    "#fig.tight_layout()\n",
    "plt.show()"
   ]
  },
  {
   "cell_type": "markdown",
   "metadata": {
    "button": false,
    "new_sheet": false,
    "run_control": {
     "read_only": false
    }
   },
   "source": [
    "# 3. Pre-processing:  Feature selection/extraction"
   ]
  },
  {
   "cell_type": "markdown",
   "metadata": {},
   "source": [
    "- Make new column 'dayofweek' from 'effective_date'\n",
    "    - Example: 2016-09-08 => dayofweek is 3 (The day of the week with Monday=0, Sunday=6)\n",
    "    - Link: https://pandas.pydata.org/pandas-docs/stable/reference/api/pandas.DatetimeIndex.dayofweek.html"
   ]
  },
  {
   "cell_type": "markdown",
   "metadata": {},
   "source": [
    "### 3.1 Datetime extraction"
   ]
  },
  {
   "cell_type": "code",
   "execution_count": 113,
   "metadata": {},
   "outputs": [
    {
     "data": {
      "text/html": [
       "<div>\n",
       "<style scoped>\n",
       "    .dataframe tbody tr th:only-of-type {\n",
       "        vertical-align: middle;\n",
       "    }\n",
       "\n",
       "    .dataframe tbody tr th {\n",
       "        vertical-align: top;\n",
       "    }\n",
       "\n",
       "    .dataframe thead th {\n",
       "        text-align: right;\n",
       "    }\n",
       "</style>\n",
       "<table border=\"1\" class=\"dataframe\">\n",
       "  <thead>\n",
       "    <tr style=\"text-align: right;\">\n",
       "      <th></th>\n",
       "      <th>user_id</th>\n",
       "      <th>signup_time</th>\n",
       "      <th>purchase_time</th>\n",
       "      <th>purchase_value</th>\n",
       "      <th>device_id</th>\n",
       "      <th>source</th>\n",
       "      <th>browser</th>\n",
       "      <th>sex</th>\n",
       "      <th>age</th>\n",
       "      <th>ip_address</th>\n",
       "      <th>class</th>\n",
       "      <th>country</th>\n",
       "      <th>freq_device</th>\n",
       "      <th>dayofweek</th>\n",
       "    </tr>\n",
       "  </thead>\n",
       "  <tbody>\n",
       "    <tr>\n",
       "      <th>0</th>\n",
       "      <td>22058</td>\n",
       "      <td>2015-02-24 22:55:49</td>\n",
       "      <td>2015-04-18 02:47:11</td>\n",
       "      <td>34</td>\n",
       "      <td>QVPSPJUOCKZAR</td>\n",
       "      <td>SEO</td>\n",
       "      <td>Chrome</td>\n",
       "      <td>M</td>\n",
       "      <td>39</td>\n",
       "      <td>43.173.1.96</td>\n",
       "      <td>0</td>\n",
       "      <td>Japan</td>\n",
       "      <td>1</td>\n",
       "      <td>1</td>\n",
       "    </tr>\n",
       "    <tr>\n",
       "      <th>1</th>\n",
       "      <td>333320</td>\n",
       "      <td>2015-06-07 20:39:50</td>\n",
       "      <td>2015-06-08 01:38:54</td>\n",
       "      <td>16</td>\n",
       "      <td>EOGFQPIZPYXFZ</td>\n",
       "      <td>Ads</td>\n",
       "      <td>Chrome</td>\n",
       "      <td>F</td>\n",
       "      <td>53</td>\n",
       "      <td>20.225.83.219</td>\n",
       "      <td>0</td>\n",
       "      <td>United States</td>\n",
       "      <td>1</td>\n",
       "      <td>6</td>\n",
       "    </tr>\n",
       "    <tr>\n",
       "      <th>2</th>\n",
       "      <td>1359</td>\n",
       "      <td>2015-01-01 18:52:44</td>\n",
       "      <td>2015-01-01 18:52:45</td>\n",
       "      <td>15</td>\n",
       "      <td>YSSKYOSJHPPLJ</td>\n",
       "      <td>SEO</td>\n",
       "      <td>Opera</td>\n",
       "      <td>M</td>\n",
       "      <td>53</td>\n",
       "      <td>156.64.132.28</td>\n",
       "      <td>1</td>\n",
       "      <td>United States</td>\n",
       "      <td>12</td>\n",
       "      <td>3</td>\n",
       "    </tr>\n",
       "    <tr>\n",
       "      <th>3</th>\n",
       "      <td>48288</td>\n",
       "      <td>2015-01-01 18:52:41</td>\n",
       "      <td>2015-01-01 18:52:42</td>\n",
       "      <td>15</td>\n",
       "      <td>YSSKYOSJHPPLJ</td>\n",
       "      <td>SEO</td>\n",
       "      <td>Opera</td>\n",
       "      <td>M</td>\n",
       "      <td>53</td>\n",
       "      <td>156.64.132.28</td>\n",
       "      <td>1</td>\n",
       "      <td>United States</td>\n",
       "      <td>12</td>\n",
       "      <td>3</td>\n",
       "    </tr>\n",
       "    <tr>\n",
       "      <th>4</th>\n",
       "      <td>128706</td>\n",
       "      <td>2015-01-01 18:52:40</td>\n",
       "      <td>2015-01-01 18:52:41</td>\n",
       "      <td>15</td>\n",
       "      <td>YSSKYOSJHPPLJ</td>\n",
       "      <td>SEO</td>\n",
       "      <td>Opera</td>\n",
       "      <td>M</td>\n",
       "      <td>53</td>\n",
       "      <td>156.64.132.28</td>\n",
       "      <td>1</td>\n",
       "      <td>United States</td>\n",
       "      <td>12</td>\n",
       "      <td>3</td>\n",
       "    </tr>\n",
       "  </tbody>\n",
       "</table>\n",
       "</div>"
      ],
      "text/plain": [
       "   user_id         signup_time       purchase_time  purchase_value  \\\n",
       "0    22058 2015-02-24 22:55:49 2015-04-18 02:47:11              34   \n",
       "1   333320 2015-06-07 20:39:50 2015-06-08 01:38:54              16   \n",
       "2     1359 2015-01-01 18:52:44 2015-01-01 18:52:45              15   \n",
       "3    48288 2015-01-01 18:52:41 2015-01-01 18:52:42              15   \n",
       "4   128706 2015-01-01 18:52:40 2015-01-01 18:52:41              15   \n",
       "\n",
       "       device_id source browser sex  age     ip_address  class        country  \\\n",
       "0  QVPSPJUOCKZAR    SEO  Chrome   M   39    43.173.1.96      0          Japan   \n",
       "1  EOGFQPIZPYXFZ    Ads  Chrome   F   53  20.225.83.219      0  United States   \n",
       "2  YSSKYOSJHPPLJ    SEO   Opera   M   53  156.64.132.28      1  United States   \n",
       "3  YSSKYOSJHPPLJ    SEO   Opera   M   53  156.64.132.28      1  United States   \n",
       "4  YSSKYOSJHPPLJ    SEO   Opera   M   53  156.64.132.28      1  United States   \n",
       "\n",
       "   freq_device  dayofweek  \n",
       "0            1          1  \n",
       "1            1          6  \n",
       "2           12          3  \n",
       "3           12          3  \n",
       "4           12          3  "
      ]
     },
     "execution_count": 113,
     "metadata": {},
     "output_type": "execute_result"
    }
   ],
   "source": [
    "# Make new column 'dayofweek' from 'purchase_time'\n",
    "import datetime as dt\n",
    "data_train['dayofweek'] = data_train.signup_time.dt.dayofweek\n",
    "data_train.head()"
   ]
  },
  {
   "cell_type": "code",
   "execution_count": 114,
   "metadata": {},
   "outputs": [],
   "source": [
    "data_train['weekday_purchase'] = data_train.purchase_time.apply(lambda x: x.year)"
   ]
  },
  {
   "cell_type": "code",
   "execution_count": 115,
   "metadata": {},
   "outputs": [],
   "source": [
    "data_train['month_purchase'] = data_train.purchase_time.apply(lambda x: x.month)"
   ]
  },
  {
   "cell_type": "code",
   "execution_count": 116,
   "metadata": {},
   "outputs": [],
   "source": [
    "data_train['hour_of_the_day'] = data_train.purchase_time.apply(lambda x: x.hour)"
   ]
  },
  {
   "cell_type": "code",
   "execution_count": 117,
   "metadata": {},
   "outputs": [],
   "source": [
    "data_train['seconds_since_signup'] = (data_train.purchase_time-data_train.signup_time).apply(lambda x: x.total_seconds())"
   ]
  },
  {
   "cell_type": "code",
   "execution_count": 118,
   "metadata": {},
   "outputs": [
    {
     "data": {
      "text/html": [
       "<div>\n",
       "<style scoped>\n",
       "    .dataframe tbody tr th:only-of-type {\n",
       "        vertical-align: middle;\n",
       "    }\n",
       "\n",
       "    .dataframe tbody tr th {\n",
       "        vertical-align: top;\n",
       "    }\n",
       "\n",
       "    .dataframe thead th {\n",
       "        text-align: right;\n",
       "    }\n",
       "</style>\n",
       "<table border=\"1\" class=\"dataframe\">\n",
       "  <thead>\n",
       "    <tr style=\"text-align: right;\">\n",
       "      <th></th>\n",
       "      <th>user_id</th>\n",
       "      <th>signup_time</th>\n",
       "      <th>purchase_time</th>\n",
       "      <th>purchase_value</th>\n",
       "      <th>device_id</th>\n",
       "      <th>source</th>\n",
       "      <th>browser</th>\n",
       "      <th>sex</th>\n",
       "      <th>age</th>\n",
       "      <th>ip_address</th>\n",
       "      <th>class</th>\n",
       "      <th>country</th>\n",
       "      <th>freq_device</th>\n",
       "      <th>dayofweek</th>\n",
       "      <th>weekday_purchase</th>\n",
       "      <th>month_purchase</th>\n",
       "      <th>hour_of_the_day</th>\n",
       "      <th>seconds_since_signup</th>\n",
       "    </tr>\n",
       "  </thead>\n",
       "  <tbody>\n",
       "    <tr>\n",
       "      <th>0</th>\n",
       "      <td>22058</td>\n",
       "      <td>2015-02-24 22:55:49</td>\n",
       "      <td>2015-04-18 02:47:11</td>\n",
       "      <td>34</td>\n",
       "      <td>QVPSPJUOCKZAR</td>\n",
       "      <td>SEO</td>\n",
       "      <td>Chrome</td>\n",
       "      <td>M</td>\n",
       "      <td>39</td>\n",
       "      <td>43.173.1.96</td>\n",
       "      <td>0</td>\n",
       "      <td>Japan</td>\n",
       "      <td>1</td>\n",
       "      <td>1</td>\n",
       "      <td>2015</td>\n",
       "      <td>4</td>\n",
       "      <td>2</td>\n",
       "      <td>4506682.0</td>\n",
       "    </tr>\n",
       "    <tr>\n",
       "      <th>1</th>\n",
       "      <td>333320</td>\n",
       "      <td>2015-06-07 20:39:50</td>\n",
       "      <td>2015-06-08 01:38:54</td>\n",
       "      <td>16</td>\n",
       "      <td>EOGFQPIZPYXFZ</td>\n",
       "      <td>Ads</td>\n",
       "      <td>Chrome</td>\n",
       "      <td>F</td>\n",
       "      <td>53</td>\n",
       "      <td>20.225.83.219</td>\n",
       "      <td>0</td>\n",
       "      <td>United States</td>\n",
       "      <td>1</td>\n",
       "      <td>6</td>\n",
       "      <td>2015</td>\n",
       "      <td>6</td>\n",
       "      <td>1</td>\n",
       "      <td>17944.0</td>\n",
       "    </tr>\n",
       "    <tr>\n",
       "      <th>2</th>\n",
       "      <td>1359</td>\n",
       "      <td>2015-01-01 18:52:44</td>\n",
       "      <td>2015-01-01 18:52:45</td>\n",
       "      <td>15</td>\n",
       "      <td>YSSKYOSJHPPLJ</td>\n",
       "      <td>SEO</td>\n",
       "      <td>Opera</td>\n",
       "      <td>M</td>\n",
       "      <td>53</td>\n",
       "      <td>156.64.132.28</td>\n",
       "      <td>1</td>\n",
       "      <td>United States</td>\n",
       "      <td>12</td>\n",
       "      <td>3</td>\n",
       "      <td>2015</td>\n",
       "      <td>1</td>\n",
       "      <td>18</td>\n",
       "      <td>1.0</td>\n",
       "    </tr>\n",
       "    <tr>\n",
       "      <th>3</th>\n",
       "      <td>48288</td>\n",
       "      <td>2015-01-01 18:52:41</td>\n",
       "      <td>2015-01-01 18:52:42</td>\n",
       "      <td>15</td>\n",
       "      <td>YSSKYOSJHPPLJ</td>\n",
       "      <td>SEO</td>\n",
       "      <td>Opera</td>\n",
       "      <td>M</td>\n",
       "      <td>53</td>\n",
       "      <td>156.64.132.28</td>\n",
       "      <td>1</td>\n",
       "      <td>United States</td>\n",
       "      <td>12</td>\n",
       "      <td>3</td>\n",
       "      <td>2015</td>\n",
       "      <td>1</td>\n",
       "      <td>18</td>\n",
       "      <td>1.0</td>\n",
       "    </tr>\n",
       "    <tr>\n",
       "      <th>4</th>\n",
       "      <td>128706</td>\n",
       "      <td>2015-01-01 18:52:40</td>\n",
       "      <td>2015-01-01 18:52:41</td>\n",
       "      <td>15</td>\n",
       "      <td>YSSKYOSJHPPLJ</td>\n",
       "      <td>SEO</td>\n",
       "      <td>Opera</td>\n",
       "      <td>M</td>\n",
       "      <td>53</td>\n",
       "      <td>156.64.132.28</td>\n",
       "      <td>1</td>\n",
       "      <td>United States</td>\n",
       "      <td>12</td>\n",
       "      <td>3</td>\n",
       "      <td>2015</td>\n",
       "      <td>1</td>\n",
       "      <td>18</td>\n",
       "      <td>1.0</td>\n",
       "    </tr>\n",
       "  </tbody>\n",
       "</table>\n",
       "</div>"
      ],
      "text/plain": [
       "   user_id         signup_time       purchase_time  purchase_value  \\\n",
       "0    22058 2015-02-24 22:55:49 2015-04-18 02:47:11              34   \n",
       "1   333320 2015-06-07 20:39:50 2015-06-08 01:38:54              16   \n",
       "2     1359 2015-01-01 18:52:44 2015-01-01 18:52:45              15   \n",
       "3    48288 2015-01-01 18:52:41 2015-01-01 18:52:42              15   \n",
       "4   128706 2015-01-01 18:52:40 2015-01-01 18:52:41              15   \n",
       "\n",
       "       device_id source browser sex  age     ip_address  class        country  \\\n",
       "0  QVPSPJUOCKZAR    SEO  Chrome   M   39    43.173.1.96      0          Japan   \n",
       "1  EOGFQPIZPYXFZ    Ads  Chrome   F   53  20.225.83.219      0  United States   \n",
       "2  YSSKYOSJHPPLJ    SEO   Opera   M   53  156.64.132.28      1  United States   \n",
       "3  YSSKYOSJHPPLJ    SEO   Opera   M   53  156.64.132.28      1  United States   \n",
       "4  YSSKYOSJHPPLJ    SEO   Opera   M   53  156.64.132.28      1  United States   \n",
       "\n",
       "   freq_device  dayofweek  weekday_purchase  month_purchase  hour_of_the_day  \\\n",
       "0            1          1              2015               4                2   \n",
       "1            1          6              2015               6                1   \n",
       "2           12          3              2015               1               18   \n",
       "3           12          3              2015               1               18   \n",
       "4           12          3              2015               1               18   \n",
       "\n",
       "   seconds_since_signup  \n",
       "0             4506682.0  \n",
       "1               17944.0  \n",
       "2                   1.0  \n",
       "3                   1.0  \n",
       "4                   1.0  "
      ]
     },
     "execution_count": 118,
     "metadata": {},
     "output_type": "execute_result"
    }
   ],
   "source": [
    "data_train.head()"
   ]
  },
  {
   "cell_type": "code",
   "execution_count": 119,
   "metadata": {},
   "outputs": [
    {
     "data": {
      "text/plain": [
       "array([1, 6, 3, 5, 0, 4, 2], dtype=int64)"
      ]
     },
     "execution_count": 119,
     "metadata": {},
     "output_type": "execute_result"
    }
   ],
   "source": [
    "data_train.dayofweek.unique()"
   ]
  },
  {
   "cell_type": "code",
   "execution_count": 120,
   "metadata": {},
   "outputs": [
    {
     "data": {
      "text/plain": [
       "array([ 4,  6,  1,  5,  9,  7,  8,  3, 10, 11,  2, 12], dtype=int64)"
      ]
     },
     "execution_count": 120,
     "metadata": {},
     "output_type": "execute_result"
    }
   ],
   "source": [
    "data_train.month_purchase.unique()"
   ]
  },
  {
   "cell_type": "code",
   "execution_count": 121,
   "metadata": {},
   "outputs": [
    {
     "data": {
      "text/plain": [
       "array([ 2,  1, 18,  7, 13,  8,  3, 17, 14, 23, 21,  5, 12,  0, 10, 22, 15,\n",
       "       20,  4,  6,  9, 11, 16, 19], dtype=int64)"
      ]
     },
     "execution_count": 121,
     "metadata": {},
     "output_type": "execute_result"
    }
   ],
   "source": [
    "data_train.hour_of_the_day.unique()"
   ]
  },
  {
   "cell_type": "code",
   "execution_count": 122,
   "metadata": {},
   "outputs": [
    {
     "data": {
      "text/plain": [
       "dayofweek\n",
       "0    21871\n",
       "1    20812\n",
       "2    20584\n",
       "3    21880\n",
       "4    22096\n",
       "5    21762\n",
       "6    22107\n",
       "Name: dayofweek, dtype: int64"
      ]
     },
     "execution_count": 122,
     "metadata": {},
     "output_type": "execute_result"
    }
   ],
   "source": [
    "data_train.groupby('dayofweek').dayofweek.count()"
   ]
  },
  {
   "cell_type": "code",
   "execution_count": 123,
   "metadata": {},
   "outputs": [
    {
     "data": {
      "text/plain": [
       "dayofweek\n",
       "0    21871\n",
       "1    20812\n",
       "2    20584\n",
       "3    21880\n",
       "4    22096\n",
       "5    21762\n",
       "6    22107\n",
       "Name: dayofweek, dtype: int64"
      ]
     },
     "execution_count": 123,
     "metadata": {},
     "output_type": "execute_result"
    }
   ],
   "source": [
    "data_train.groupby('dayofweek').dayofweek.count()"
   ]
  },
  {
   "cell_type": "code",
   "execution_count": 124,
   "metadata": {},
   "outputs": [
    {
     "data": {
      "text/plain": [
       "month_purchase\n",
       "1     10097\n",
       "2      6449\n",
       "3     12090\n",
       "4     16551\n",
       "5     19364\n",
       "6     18908\n",
       "7     19507\n",
       "8     18662\n",
       "9     14347\n",
       "10     9815\n",
       "11     4743\n",
       "12      579\n",
       "Name: dayofweek, dtype: int64"
      ]
     },
     "execution_count": 124,
     "metadata": {},
     "output_type": "execute_result"
    }
   ],
   "source": [
    "data_train.groupby('month_purchase').dayofweek.count()"
   ]
  },
  {
   "cell_type": "code",
   "execution_count": 125,
   "metadata": {},
   "outputs": [
    {
     "data": {
      "text/plain": [
       "hour_of_the_day\n",
       "0     6186\n",
       "1     6228\n",
       "2     6338\n",
       "3     6458\n",
       "4     6050\n",
       "5     6189\n",
       "6     6380\n",
       "7     6181\n",
       "8     6387\n",
       "9     6418\n",
       "10    6100\n",
       "11    6327\n",
       "12    6403\n",
       "13    6292\n",
       "14    6355\n",
       "15    6369\n",
       "16    6309\n",
       "17    6466\n",
       "18    6252\n",
       "19    6299\n",
       "20    6221\n",
       "21    6224\n",
       "22    6358\n",
       "23    6322\n",
       "Name: hour_of_the_day, dtype: int64"
      ]
     },
     "execution_count": 125,
     "metadata": {},
     "output_type": "execute_result"
    }
   ],
   "source": [
    "data_train.groupby('hour_of_the_day').hour_of_the_day.count()"
   ]
  },
  {
   "cell_type": "code",
   "execution_count": 126,
   "metadata": {},
   "outputs": [],
   "source": [
    "big_time = data_train[data_train['seconds_since_signup']==1]"
   ]
  },
  {
   "cell_type": "code",
   "execution_count": 127,
   "metadata": {},
   "outputs": [
    {
     "data": {
      "text/plain": [
       "(7600, 18)"
      ]
     },
     "execution_count": 127,
     "metadata": {},
     "output_type": "execute_result"
    }
   ],
   "source": [
    "big_time.shape"
   ]
  },
  {
   "cell_type": "markdown",
   "metadata": {},
   "source": [
    "Lets plot some columns to underestand data better:"
   ]
  },
  {
   "cell_type": "code",
   "execution_count": 128,
   "metadata": {},
   "outputs": [
    {
     "data": {
      "image/png": "[encoded data removed]",
      "text/plain": [
       "<Figure size 2160x216 with 2 Axes>"
      ]
     },
     "metadata": {},
     "output_type": "display_data"
    }
   ],
   "source": [
    "# code here\n",
    "bins = np.linspace(data_train.dayofweek.min(),data_train.dayofweek.max(),8)\n",
    "sns.set(style=\"ticks\")\n",
    "g_day = sns.FacetGrid(data_train, col = 'sex', hue = 'class',palette = 'Set1', col_wrap = 10, height=3,aspect=1,)\n",
    "g_day.map(plt.hist,'dayofweek',bins= bins, edgecolor=\"black\")\n",
    "g_day.axes[-1].legend()\n",
    "plt.legend( ('not fraudulent','fraudulent'))\n",
    "plt.show()"
   ]
  },
  {
   "cell_type": "markdown",
   "metadata": {
    "button": false,
    "new_sheet": false,
    "run_control": {
     "read_only": false
    }
   },
   "source": [
    "#### -> giao dịch phân bố đều vào các ngày trong tuần"
   ]
  },
  {
   "cell_type": "code",
   "execution_count": 129,
   "metadata": {},
   "outputs": [
    {
     "data": {
      "image/png": "[encoded data removed]",
      "text/plain": [
       "<Figure size 2160x216 with 2 Axes>"
      ]
     },
     "metadata": {},
     "output_type": "display_data"
    }
   ],
   "source": [
    "bins = np.linspace(data_train.month_purchase.min(),data_train.month_purchase.max(),13)\n",
    "sns.set(style=\"ticks\")\n",
    "g_day = sns.FacetGrid(data_train, col = 'sex', hue = 'class',palette = 'Set1', col_wrap = 10, height=3,aspect=1,)\n",
    "g_day.map(plt.hist,'month_purchase',bins= bins, edgecolor=\"black\")\n",
    "g_day.axes[-1].legend()\n",
    "plt.legend( ('not fraudulent','fraudulent'))\n",
    "plt.show()"
   ]
  },
  {
   "cell_type": "markdown",
   "metadata": {},
   "source": [
    "#### -> giao dịch gian lận phân bố đều nhiều nhât vào tháng 1 "
   ]
  },
  {
   "cell_type": "code",
   "execution_count": 130,
   "metadata": {},
   "outputs": [
    {
     "data": {
      "image/png": "[encoded data removed]",
      "text/plain": [
       "<Figure size 2160x216 with 2 Axes>"
      ]
     },
     "metadata": {},
     "output_type": "display_data"
    }
   ],
   "source": [
    "bins = np.linspace(data_train.hour_of_the_day.min(),data_train.hour_of_the_day.max(),24)\n",
    "sns.set(style=\"ticks\")\n",
    "g_day = sns.FacetGrid(data_train, col = 'sex', hue = 'class',palette = 'Set1', col_wrap = 10, height=3,aspect=1,)\n",
    "g_day.map(plt.hist,'hour_of_the_day',bins= bins, edgecolor=\"black\")\n",
    "g_day.axes[-1].legend()\n",
    "plt.legend( ('not fraudulent','fraudulent'))\n",
    "plt.show()"
   ]
  },
  {
   "cell_type": "markdown",
   "metadata": {},
   "source": [
    "#### -> số lượng giao dịch phân bố tương đối đều vào các giờ trong ngày và giờ khuya - gần 23h là nhiều hơn các giờ khác"
   ]
  },
  {
   "cell_type": "code",
   "execution_count": 131,
   "metadata": {},
   "outputs": [],
   "source": [
    "# age categorisation\n",
    "\n",
    "data_train[\"age_category\"] = data_train.age.apply(lambda x : \n",
    "                 \"< 40\" if x < 40 else\n",
    "                 \"40 - 49\" if x < 50 else\n",
    "                 \"50 -59\" if x < 60 else\n",
    "                 \"60 - 69\" if x < 70 else\n",
    "                 \" > 70\")"
   ]
  },
  {
   "cell_type": "code",
   "execution_count": 132,
   "metadata": {},
   "outputs": [],
   "source": [
    "# Hour of the day categorisation\n",
    "data_train[\"period_of_the_day\"] = data_train.hour_of_the_day.apply(lambda x : \n",
    "                                                             \"late night\" if x < 4 else\n",
    "                                                             \"early morning\" if x < 8 else\n",
    "                                                             \"morning\" if x < 12 else\n",
    "                                                             \"afternoon\" if x < 16 else\n",
    "                                                             \"evening\" if x < 20 else\n",
    "                                                             \"night\"\n",
    "                                                            )"
   ]
  },
  {
   "cell_type": "code",
   "execution_count": 133,
   "metadata": {},
   "outputs": [
    {
     "data": {
      "text/html": [
       "<div>\n",
       "<style scoped>\n",
       "    .dataframe tbody tr th:only-of-type {\n",
       "        vertical-align: middle;\n",
       "    }\n",
       "\n",
       "    .dataframe tbody tr th {\n",
       "        vertical-align: top;\n",
       "    }\n",
       "\n",
       "    .dataframe thead th {\n",
       "        text-align: right;\n",
       "    }\n",
       "</style>\n",
       "<table border=\"1\" class=\"dataframe\">\n",
       "  <thead>\n",
       "    <tr style=\"text-align: right;\">\n",
       "      <th></th>\n",
       "      <th>user_id</th>\n",
       "      <th>signup_time</th>\n",
       "      <th>purchase_time</th>\n",
       "      <th>purchase_value</th>\n",
       "      <th>device_id</th>\n",
       "      <th>source</th>\n",
       "      <th>browser</th>\n",
       "      <th>sex</th>\n",
       "      <th>age</th>\n",
       "      <th>ip_address</th>\n",
       "      <th>class</th>\n",
       "      <th>country</th>\n",
       "      <th>freq_device</th>\n",
       "      <th>dayofweek</th>\n",
       "      <th>weekday_purchase</th>\n",
       "      <th>month_purchase</th>\n",
       "      <th>hour_of_the_day</th>\n",
       "      <th>seconds_since_signup</th>\n",
       "      <th>age_category</th>\n",
       "      <th>period_of_the_day</th>\n",
       "    </tr>\n",
       "  </thead>\n",
       "  <tbody>\n",
       "    <tr>\n",
       "      <th>0</th>\n",
       "      <td>22058</td>\n",
       "      <td>2015-02-24 22:55:49</td>\n",
       "      <td>2015-04-18 02:47:11</td>\n",
       "      <td>34</td>\n",
       "      <td>QVPSPJUOCKZAR</td>\n",
       "      <td>SEO</td>\n",
       "      <td>Chrome</td>\n",
       "      <td>M</td>\n",
       "      <td>39</td>\n",
       "      <td>43.173.1.96</td>\n",
       "      <td>0</td>\n",
       "      <td>Japan</td>\n",
       "      <td>1</td>\n",
       "      <td>1</td>\n",
       "      <td>2015</td>\n",
       "      <td>4</td>\n",
       "      <td>2</td>\n",
       "      <td>4506682.0</td>\n",
       "      <td>&lt; 40</td>\n",
       "      <td>late night</td>\n",
       "    </tr>\n",
       "    <tr>\n",
       "      <th>1</th>\n",
       "      <td>333320</td>\n",
       "      <td>2015-06-07 20:39:50</td>\n",
       "      <td>2015-06-08 01:38:54</td>\n",
       "      <td>16</td>\n",
       "      <td>EOGFQPIZPYXFZ</td>\n",
       "      <td>Ads</td>\n",
       "      <td>Chrome</td>\n",
       "      <td>F</td>\n",
       "      <td>53</td>\n",
       "      <td>20.225.83.219</td>\n",
       "      <td>0</td>\n",
       "      <td>United States</td>\n",
       "      <td>1</td>\n",
       "      <td>6</td>\n",
       "      <td>2015</td>\n",
       "      <td>6</td>\n",
       "      <td>1</td>\n",
       "      <td>17944.0</td>\n",
       "      <td>50 -59</td>\n",
       "      <td>late night</td>\n",
       "    </tr>\n",
       "    <tr>\n",
       "      <th>2</th>\n",
       "      <td>1359</td>\n",
       "      <td>2015-01-01 18:52:44</td>\n",
       "      <td>2015-01-01 18:52:45</td>\n",
       "      <td>15</td>\n",
       "      <td>YSSKYOSJHPPLJ</td>\n",
       "      <td>SEO</td>\n",
       "      <td>Opera</td>\n",
       "      <td>M</td>\n",
       "      <td>53</td>\n",
       "      <td>156.64.132.28</td>\n",
       "      <td>1</td>\n",
       "      <td>United States</td>\n",
       "      <td>12</td>\n",
       "      <td>3</td>\n",
       "      <td>2015</td>\n",
       "      <td>1</td>\n",
       "      <td>18</td>\n",
       "      <td>1.0</td>\n",
       "      <td>50 -59</td>\n",
       "      <td>evening</td>\n",
       "    </tr>\n",
       "    <tr>\n",
       "      <th>3</th>\n",
       "      <td>48288</td>\n",
       "      <td>2015-01-01 18:52:41</td>\n",
       "      <td>2015-01-01 18:52:42</td>\n",
       "      <td>15</td>\n",
       "      <td>YSSKYOSJHPPLJ</td>\n",
       "      <td>SEO</td>\n",
       "      <td>Opera</td>\n",
       "      <td>M</td>\n",
       "      <td>53</td>\n",
       "      <td>156.64.132.28</td>\n",
       "      <td>1</td>\n",
       "      <td>United States</td>\n",
       "      <td>12</td>\n",
       "      <td>3</td>\n",
       "      <td>2015</td>\n",
       "      <td>1</td>\n",
       "      <td>18</td>\n",
       "      <td>1.0</td>\n",
       "      <td>50 -59</td>\n",
       "      <td>evening</td>\n",
       "    </tr>\n",
       "    <tr>\n",
       "      <th>4</th>\n",
       "      <td>128706</td>\n",
       "      <td>2015-01-01 18:52:40</td>\n",
       "      <td>2015-01-01 18:52:41</td>\n",
       "      <td>15</td>\n",
       "      <td>YSSKYOSJHPPLJ</td>\n",
       "      <td>SEO</td>\n",
       "      <td>Opera</td>\n",
       "      <td>M</td>\n",
       "      <td>53</td>\n",
       "      <td>156.64.132.28</td>\n",
       "      <td>1</td>\n",
       "      <td>United States</td>\n",
       "      <td>12</td>\n",
       "      <td>3</td>\n",
       "      <td>2015</td>\n",
       "      <td>1</td>\n",
       "      <td>18</td>\n",
       "      <td>1.0</td>\n",
       "      <td>50 -59</td>\n",
       "      <td>evening</td>\n",
       "    </tr>\n",
       "  </tbody>\n",
       "</table>\n",
       "</div>"
      ],
      "text/plain": [
       "   user_id         signup_time       purchase_time  purchase_value  \\\n",
       "0    22058 2015-02-24 22:55:49 2015-04-18 02:47:11              34   \n",
       "1   333320 2015-06-07 20:39:50 2015-06-08 01:38:54              16   \n",
       "2     1359 2015-01-01 18:52:44 2015-01-01 18:52:45              15   \n",
       "3    48288 2015-01-01 18:52:41 2015-01-01 18:52:42              15   \n",
       "4   128706 2015-01-01 18:52:40 2015-01-01 18:52:41              15   \n",
       "\n",
       "       device_id source browser sex  age     ip_address  class        country  \\\n",
       "0  QVPSPJUOCKZAR    SEO  Chrome   M   39    43.173.1.96      0          Japan   \n",
       "1  EOGFQPIZPYXFZ    Ads  Chrome   F   53  20.225.83.219      0  United States   \n",
       "2  YSSKYOSJHPPLJ    SEO   Opera   M   53  156.64.132.28      1  United States   \n",
       "3  YSSKYOSJHPPLJ    SEO   Opera   M   53  156.64.132.28      1  United States   \n",
       "4  YSSKYOSJHPPLJ    SEO   Opera   M   53  156.64.132.28      1  United States   \n",
       "\n",
       "   freq_device  dayofweek  weekday_purchase  month_purchase  hour_of_the_day  \\\n",
       "0            1          1              2015               4                2   \n",
       "1            1          6              2015               6                1   \n",
       "2           12          3              2015               1               18   \n",
       "3           12          3              2015               1               18   \n",
       "4           12          3              2015               1               18   \n",
       "\n",
       "   seconds_since_signup age_category period_of_the_day  \n",
       "0             4506682.0         < 40        late night  \n",
       "1               17944.0       50 -59        late night  \n",
       "2                   1.0       50 -59           evening  \n",
       "3                   1.0       50 -59           evening  \n",
       "4                   1.0       50 -59           evening  "
      ]
     },
     "execution_count": 133,
     "metadata": {},
     "output_type": "execute_result"
    }
   ],
   "source": [
    "data_train.head()"
   ]
  },
  {
   "cell_type": "markdown",
   "metadata": {
    "button": false,
    "new_sheet": false,
    "run_control": {
     "read_only": false
    }
   },
   "source": [
    "## Convert Categorical features to numerical values"
   ]
  },
  {
   "cell_type": "markdown",
   "metadata": {
    "button": false,
    "new_sheet": false,
    "run_control": {
     "read_only": false
    }
   },
   "source": [
    "Lets convert male to 0 and female to 1:\n"
   ]
  },
  {
   "cell_type": "code",
   "execution_count": 134,
   "metadata": {
    "button": false,
    "new_sheet": false,
    "run_control": {
     "read_only": false
    }
   },
   "outputs": [],
   "source": [
    "# code here\n",
    "data_train['sex']= data_train['sex'].replace(['M','F'],[0,1])"
   ]
  },
  {
   "cell_type": "code",
   "execution_count": 135,
   "metadata": {},
   "outputs": [
    {
     "data": {
      "text/html": [
       "<div>\n",
       "<style scoped>\n",
       "    .dataframe tbody tr th:only-of-type {\n",
       "        vertical-align: middle;\n",
       "    }\n",
       "\n",
       "    .dataframe tbody tr th {\n",
       "        vertical-align: top;\n",
       "    }\n",
       "\n",
       "    .dataframe thead th {\n",
       "        text-align: right;\n",
       "    }\n",
       "</style>\n",
       "<table border=\"1\" class=\"dataframe\">\n",
       "  <thead>\n",
       "    <tr style=\"text-align: right;\">\n",
       "      <th></th>\n",
       "      <th>user_id</th>\n",
       "      <th>signup_time</th>\n",
       "      <th>purchase_time</th>\n",
       "      <th>purchase_value</th>\n",
       "      <th>device_id</th>\n",
       "      <th>source</th>\n",
       "      <th>browser</th>\n",
       "      <th>sex</th>\n",
       "      <th>age</th>\n",
       "      <th>ip_address</th>\n",
       "      <th>class</th>\n",
       "      <th>country</th>\n",
       "      <th>freq_device</th>\n",
       "      <th>dayofweek</th>\n",
       "      <th>weekday_purchase</th>\n",
       "      <th>month_purchase</th>\n",
       "      <th>hour_of_the_day</th>\n",
       "      <th>seconds_since_signup</th>\n",
       "      <th>age_category</th>\n",
       "      <th>period_of_the_day</th>\n",
       "    </tr>\n",
       "  </thead>\n",
       "  <tbody>\n",
       "    <tr>\n",
       "      <th>0</th>\n",
       "      <td>22058</td>\n",
       "      <td>2015-02-24 22:55:49</td>\n",
       "      <td>2015-04-18 02:47:11</td>\n",
       "      <td>34</td>\n",
       "      <td>QVPSPJUOCKZAR</td>\n",
       "      <td>SEO</td>\n",
       "      <td>Chrome</td>\n",
       "      <td>0</td>\n",
       "      <td>39</td>\n",
       "      <td>43.173.1.96</td>\n",
       "      <td>0</td>\n",
       "      <td>Japan</td>\n",
       "      <td>1</td>\n",
       "      <td>1</td>\n",
       "      <td>2015</td>\n",
       "      <td>4</td>\n",
       "      <td>2</td>\n",
       "      <td>4506682.0</td>\n",
       "      <td>&lt; 40</td>\n",
       "      <td>late night</td>\n",
       "    </tr>\n",
       "    <tr>\n",
       "      <th>1</th>\n",
       "      <td>333320</td>\n",
       "      <td>2015-06-07 20:39:50</td>\n",
       "      <td>2015-06-08 01:38:54</td>\n",
       "      <td>16</td>\n",
       "      <td>EOGFQPIZPYXFZ</td>\n",
       "      <td>Ads</td>\n",
       "      <td>Chrome</td>\n",
       "      <td>1</td>\n",
       "      <td>53</td>\n",
       "      <td>20.225.83.219</td>\n",
       "      <td>0</td>\n",
       "      <td>United States</td>\n",
       "      <td>1</td>\n",
       "      <td>6</td>\n",
       "      <td>2015</td>\n",
       "      <td>6</td>\n",
       "      <td>1</td>\n",
       "      <td>17944.0</td>\n",
       "      <td>50 -59</td>\n",
       "      <td>late night</td>\n",
       "    </tr>\n",
       "    <tr>\n",
       "      <th>2</th>\n",
       "      <td>1359</td>\n",
       "      <td>2015-01-01 18:52:44</td>\n",
       "      <td>2015-01-01 18:52:45</td>\n",
       "      <td>15</td>\n",
       "      <td>YSSKYOSJHPPLJ</td>\n",
       "      <td>SEO</td>\n",
       "      <td>Opera</td>\n",
       "      <td>0</td>\n",
       "      <td>53</td>\n",
       "      <td>156.64.132.28</td>\n",
       "      <td>1</td>\n",
       "      <td>United States</td>\n",
       "      <td>12</td>\n",
       "      <td>3</td>\n",
       "      <td>2015</td>\n",
       "      <td>1</td>\n",
       "      <td>18</td>\n",
       "      <td>1.0</td>\n",
       "      <td>50 -59</td>\n",
       "      <td>evening</td>\n",
       "    </tr>\n",
       "    <tr>\n",
       "      <th>3</th>\n",
       "      <td>48288</td>\n",
       "      <td>2015-01-01 18:52:41</td>\n",
       "      <td>2015-01-01 18:52:42</td>\n",
       "      <td>15</td>\n",
       "      <td>YSSKYOSJHPPLJ</td>\n",
       "      <td>SEO</td>\n",
       "      <td>Opera</td>\n",
       "      <td>0</td>\n",
       "      <td>53</td>\n",
       "      <td>156.64.132.28</td>\n",
       "      <td>1</td>\n",
       "      <td>United States</td>\n",
       "      <td>12</td>\n",
       "      <td>3</td>\n",
       "      <td>2015</td>\n",
       "      <td>1</td>\n",
       "      <td>18</td>\n",
       "      <td>1.0</td>\n",
       "      <td>50 -59</td>\n",
       "      <td>evening</td>\n",
       "    </tr>\n",
       "    <tr>\n",
       "      <th>4</th>\n",
       "      <td>128706</td>\n",
       "      <td>2015-01-01 18:52:40</td>\n",
       "      <td>2015-01-01 18:52:41</td>\n",
       "      <td>15</td>\n",
       "      <td>YSSKYOSJHPPLJ</td>\n",
       "      <td>SEO</td>\n",
       "      <td>Opera</td>\n",
       "      <td>0</td>\n",
       "      <td>53</td>\n",
       "      <td>156.64.132.28</td>\n",
       "      <td>1</td>\n",
       "      <td>United States</td>\n",
       "      <td>12</td>\n",
       "      <td>3</td>\n",
       "      <td>2015</td>\n",
       "      <td>1</td>\n",
       "      <td>18</td>\n",
       "      <td>1.0</td>\n",
       "      <td>50 -59</td>\n",
       "      <td>evening</td>\n",
       "    </tr>\n",
       "  </tbody>\n",
       "</table>\n",
       "</div>"
      ],
      "text/plain": [
       "   user_id         signup_time       purchase_time  purchase_value  \\\n",
       "0    22058 2015-02-24 22:55:49 2015-04-18 02:47:11              34   \n",
       "1   333320 2015-06-07 20:39:50 2015-06-08 01:38:54              16   \n",
       "2     1359 2015-01-01 18:52:44 2015-01-01 18:52:45              15   \n",
       "3    48288 2015-01-01 18:52:41 2015-01-01 18:52:42              15   \n",
       "4   128706 2015-01-01 18:52:40 2015-01-01 18:52:41              15   \n",
       "\n",
       "       device_id source browser  sex  age     ip_address  class  \\\n",
       "0  QVPSPJUOCKZAR    SEO  Chrome    0   39    43.173.1.96      0   \n",
       "1  EOGFQPIZPYXFZ    Ads  Chrome    1   53  20.225.83.219      0   \n",
       "2  YSSKYOSJHPPLJ    SEO   Opera    0   53  156.64.132.28      1   \n",
       "3  YSSKYOSJHPPLJ    SEO   Opera    0   53  156.64.132.28      1   \n",
       "4  YSSKYOSJHPPLJ    SEO   Opera    0   53  156.64.132.28      1   \n",
       "\n",
       "         country  freq_device  dayofweek  weekday_purchase  month_purchase  \\\n",
       "0          Japan            1          1              2015               4   \n",
       "1  United States            1          6              2015               6   \n",
       "2  United States           12          3              2015               1   \n",
       "3  United States           12          3              2015               1   \n",
       "4  United States           12          3              2015               1   \n",
       "\n",
       "   hour_of_the_day  seconds_since_signup age_category period_of_the_day  \n",
       "0                2             4506682.0         < 40        late night  \n",
       "1                1               17944.0       50 -59        late night  \n",
       "2               18                   1.0       50 -59           evening  \n",
       "3               18                   1.0       50 -59           evening  \n",
       "4               18                   1.0       50 -59           evening  "
      ]
     },
     "execution_count": 135,
     "metadata": {},
     "output_type": "execute_result"
    }
   ],
   "source": [
    "data_train.head()"
   ]
  },
  {
   "cell_type": "markdown",
   "metadata": {},
   "source": [
    "## Label Encoding  "
   ]
  },
  {
   "cell_type": "code",
   "execution_count": 136,
   "metadata": {},
   "outputs": [],
   "source": [
    "from sklearn import preprocessing "
   ]
  },
  {
   "cell_type": "code",
   "execution_count": 137,
   "metadata": {},
   "outputs": [],
   "source": [
    "label_encoder = preprocessing.LabelEncoder() \n",
    "data_train['device_id']= label_encoder.fit_transform(data_train['device_id']) \n",
    "data_train['country']= label_encoder.fit_transform(data_train['country'])"
   ]
  },
  {
   "cell_type": "code",
   "execution_count": 138,
   "metadata": {},
   "outputs": [
    {
     "data": {
      "text/html": [
       "<div>\n",
       "<style scoped>\n",
       "    .dataframe tbody tr th:only-of-type {\n",
       "        vertical-align: middle;\n",
       "    }\n",
       "\n",
       "    .dataframe tbody tr th {\n",
       "        vertical-align: top;\n",
       "    }\n",
       "\n",
       "    .dataframe thead th {\n",
       "        text-align: right;\n",
       "    }\n",
       "</style>\n",
       "<table border=\"1\" class=\"dataframe\">\n",
       "  <thead>\n",
       "    <tr style=\"text-align: right;\">\n",
       "      <th></th>\n",
       "      <th>user_id</th>\n",
       "      <th>signup_time</th>\n",
       "      <th>purchase_time</th>\n",
       "      <th>purchase_value</th>\n",
       "      <th>device_id</th>\n",
       "      <th>source</th>\n",
       "      <th>browser</th>\n",
       "      <th>sex</th>\n",
       "      <th>age</th>\n",
       "      <th>ip_address</th>\n",
       "      <th>class</th>\n",
       "      <th>country</th>\n",
       "      <th>freq_device</th>\n",
       "      <th>dayofweek</th>\n",
       "      <th>weekday_purchase</th>\n",
       "      <th>month_purchase</th>\n",
       "      <th>hour_of_the_day</th>\n",
       "      <th>seconds_since_signup</th>\n",
       "      <th>age_category</th>\n",
       "      <th>period_of_the_day</th>\n",
       "    </tr>\n",
       "  </thead>\n",
       "  <tbody>\n",
       "    <tr>\n",
       "      <th>0</th>\n",
       "      <td>22058</td>\n",
       "      <td>2015-02-24 22:55:49</td>\n",
       "      <td>2015-04-18 02:47:11</td>\n",
       "      <td>34</td>\n",
       "      <td>89215</td>\n",
       "      <td>SEO</td>\n",
       "      <td>Chrome</td>\n",
       "      <td>0</td>\n",
       "      <td>39</td>\n",
       "      <td>43.173.1.96</td>\n",
       "      <td>0</td>\n",
       "      <td>Japan</td>\n",
       "      <td>1</td>\n",
       "      <td>1</td>\n",
       "      <td>2015</td>\n",
       "      <td>4</td>\n",
       "      <td>2</td>\n",
       "      <td>4506682.0</td>\n",
       "      <td>&lt; 40</td>\n",
       "      <td>late night</td>\n",
       "    </tr>\n",
       "    <tr>\n",
       "      <th>1</th>\n",
       "      <td>333320</td>\n",
       "      <td>2015-06-07 20:39:50</td>\n",
       "      <td>2015-06-08 01:38:54</td>\n",
       "      <td>16</td>\n",
       "      <td>24078</td>\n",
       "      <td>Ads</td>\n",
       "      <td>Chrome</td>\n",
       "      <td>1</td>\n",
       "      <td>53</td>\n",
       "      <td>20.225.83.219</td>\n",
       "      <td>0</td>\n",
       "      <td>United States</td>\n",
       "      <td>1</td>\n",
       "      <td>6</td>\n",
       "      <td>2015</td>\n",
       "      <td>6</td>\n",
       "      <td>1</td>\n",
       "      <td>17944.0</td>\n",
       "      <td>50 -59</td>\n",
       "      <td>late night</td>\n",
       "    </tr>\n",
       "    <tr>\n",
       "      <th>2</th>\n",
       "      <td>1359</td>\n",
       "      <td>2015-01-01 18:52:44</td>\n",
       "      <td>2015-01-01 18:52:45</td>\n",
       "      <td>15</td>\n",
       "      <td>131216</td>\n",
       "      <td>SEO</td>\n",
       "      <td>Opera</td>\n",
       "      <td>0</td>\n",
       "      <td>53</td>\n",
       "      <td>156.64.132.28</td>\n",
       "      <td>1</td>\n",
       "      <td>United States</td>\n",
       "      <td>12</td>\n",
       "      <td>3</td>\n",
       "      <td>2015</td>\n",
       "      <td>1</td>\n",
       "      <td>18</td>\n",
       "      <td>1.0</td>\n",
       "      <td>50 -59</td>\n",
       "      <td>evening</td>\n",
       "    </tr>\n",
       "    <tr>\n",
       "      <th>3</th>\n",
       "      <td>48288</td>\n",
       "      <td>2015-01-01 18:52:41</td>\n",
       "      <td>2015-01-01 18:52:42</td>\n",
       "      <td>15</td>\n",
       "      <td>131216</td>\n",
       "      <td>SEO</td>\n",
       "      <td>Opera</td>\n",
       "      <td>0</td>\n",
       "      <td>53</td>\n",
       "      <td>156.64.132.28</td>\n",
       "      <td>1</td>\n",
       "      <td>United States</td>\n",
       "      <td>12</td>\n",
       "      <td>3</td>\n",
       "      <td>2015</td>\n",
       "      <td>1</td>\n",
       "      <td>18</td>\n",
       "      <td>1.0</td>\n",
       "      <td>50 -59</td>\n",
       "      <td>evening</td>\n",
       "    </tr>\n",
       "    <tr>\n",
       "      <th>4</th>\n",
       "      <td>128706</td>\n",
       "      <td>2015-01-01 18:52:40</td>\n",
       "      <td>2015-01-01 18:52:41</td>\n",
       "      <td>15</td>\n",
       "      <td>131216</td>\n",
       "      <td>SEO</td>\n",
       "      <td>Opera</td>\n",
       "      <td>0</td>\n",
       "      <td>53</td>\n",
       "      <td>156.64.132.28</td>\n",
       "      <td>1</td>\n",
       "      <td>United States</td>\n",
       "      <td>12</td>\n",
       "      <td>3</td>\n",
       "      <td>2015</td>\n",
       "      <td>1</td>\n",
       "      <td>18</td>\n",
       "      <td>1.0</td>\n",
       "      <td>50 -59</td>\n",
       "      <td>evening</td>\n",
       "    </tr>\n",
       "  </tbody>\n",
       "</table>\n",
       "</div>"
      ],
      "text/plain": [
       "   user_id         signup_time       purchase_time  purchase_value  device_id  \\\n",
       "0    22058 2015-02-24 22:55:49 2015-04-18 02:47:11              34      89215   \n",
       "1   333320 2015-06-07 20:39:50 2015-06-08 01:38:54              16      24078   \n",
       "2     1359 2015-01-01 18:52:44 2015-01-01 18:52:45              15     131216   \n",
       "3    48288 2015-01-01 18:52:41 2015-01-01 18:52:42              15     131216   \n",
       "4   128706 2015-01-01 18:52:40 2015-01-01 18:52:41              15     131216   \n",
       "\n",
       "  source browser  sex  age     ip_address  class        country  freq_device  \\\n",
       "0    SEO  Chrome    0   39    43.173.1.96      0          Japan            1   \n",
       "1    Ads  Chrome    1   53  20.225.83.219      0  United States            1   \n",
       "2    SEO   Opera    0   53  156.64.132.28      1  United States           12   \n",
       "3    SEO   Opera    0   53  156.64.132.28      1  United States           12   \n",
       "4    SEO   Opera    0   53  156.64.132.28      1  United States           12   \n",
       "\n",
       "   dayofweek  weekday_purchase  month_purchase  hour_of_the_day  \\\n",
       "0          1              2015               4                2   \n",
       "1          6              2015               6                1   \n",
       "2          3              2015               1               18   \n",
       "3          3              2015               1               18   \n",
       "4          3              2015               1               18   \n",
       "\n",
       "   seconds_since_signup age_category period_of_the_day  \n",
       "0             4506682.0         < 40        late night  \n",
       "1               17944.0       50 -59        late night  \n",
       "2                   1.0       50 -59           evening  \n",
       "3                   1.0       50 -59           evening  \n",
       "4                   1.0       50 -59           evening  "
      ]
     },
     "execution_count": 138,
     "metadata": {},
     "output_type": "execute_result"
    }
   ],
   "source": [
    "data_train.head()"
   ]
  },
  {
   "cell_type": "markdown",
   "metadata": {
    "button": false,
    "new_sheet": false,
    "run_control": {
     "read_only": false
    }
   },
   "source": [
    "## One Hot Encoding  \n"
   ]
  },
  {
   "cell_type": "markdown",
   "metadata": {
    "button": false,
    "new_sheet": false,
    "run_control": {
     "read_only": false
    }
   },
   "source": [
    "#### Feature befor One Hot Encoding\n",
    "- Print head() data with 5 columns: source \tbrowser age_category \tperiod_of_the_day"
   ]
  },
  {
   "cell_type": "code",
   "execution_count": 165,
   "metadata": {
    "button": false,
    "new_sheet": false,
    "run_control": {
     "read_only": false
    }
   },
   "outputs": [],
   "source": [
    "# code here\n",
    "df_train_sub = data_train"
   ]
  },
  {
   "cell_type": "code",
   "execution_count": 166,
   "metadata": {},
   "outputs": [
    {
     "data": {
      "text/html": [
       "<div>\n",
       "<style scoped>\n",
       "    .dataframe tbody tr th:only-of-type {\n",
       "        vertical-align: middle;\n",
       "    }\n",
       "\n",
       "    .dataframe tbody tr th {\n",
       "        vertical-align: top;\n",
       "    }\n",
       "\n",
       "    .dataframe thead th {\n",
       "        text-align: right;\n",
       "    }\n",
       "</style>\n",
       "<table border=\"1\" class=\"dataframe\">\n",
       "  <thead>\n",
       "    <tr style=\"text-align: right;\">\n",
       "      <th></th>\n",
       "      <th>user_id</th>\n",
       "      <th>signup_time</th>\n",
       "      <th>purchase_time</th>\n",
       "      <th>purchase_value</th>\n",
       "      <th>device_id</th>\n",
       "      <th>source</th>\n",
       "      <th>browser</th>\n",
       "      <th>sex</th>\n",
       "      <th>age</th>\n",
       "      <th>ip_address</th>\n",
       "      <th>class</th>\n",
       "      <th>country</th>\n",
       "      <th>freq_device</th>\n",
       "      <th>dayofweek</th>\n",
       "      <th>weekday_purchase</th>\n",
       "      <th>month_purchase</th>\n",
       "      <th>hour_of_the_day</th>\n",
       "      <th>seconds_since_signup</th>\n",
       "      <th>age_category</th>\n",
       "      <th>period_of_the_day</th>\n",
       "    </tr>\n",
       "  </thead>\n",
       "  <tbody>\n",
       "    <tr>\n",
       "      <th>0</th>\n",
       "      <td>22058</td>\n",
       "      <td>2015-02-24 22:55:49</td>\n",
       "      <td>2015-04-18 02:47:11</td>\n",
       "      <td>34</td>\n",
       "      <td>89215</td>\n",
       "      <td>SEO</td>\n",
       "      <td>Chrome</td>\n",
       "      <td>0</td>\n",
       "      <td>39</td>\n",
       "      <td>43.173.1.96</td>\n",
       "      <td>0</td>\n",
       "      <td>Japan</td>\n",
       "      <td>1</td>\n",
       "      <td>1</td>\n",
       "      <td>2015</td>\n",
       "      <td>4</td>\n",
       "      <td>2</td>\n",
       "      <td>4506682.0</td>\n",
       "      <td>&lt; 40</td>\n",
       "      <td>late night</td>\n",
       "    </tr>\n",
       "    <tr>\n",
       "      <th>1</th>\n",
       "      <td>333320</td>\n",
       "      <td>2015-06-07 20:39:50</td>\n",
       "      <td>2015-06-08 01:38:54</td>\n",
       "      <td>16</td>\n",
       "      <td>24078</td>\n",
       "      <td>Ads</td>\n",
       "      <td>Chrome</td>\n",
       "      <td>1</td>\n",
       "      <td>53</td>\n",
       "      <td>20.225.83.219</td>\n",
       "      <td>0</td>\n",
       "      <td>United States</td>\n",
       "      <td>1</td>\n",
       "      <td>6</td>\n",
       "      <td>2015</td>\n",
       "      <td>6</td>\n",
       "      <td>1</td>\n",
       "      <td>17944.0</td>\n",
       "      <td>50 -59</td>\n",
       "      <td>late night</td>\n",
       "    </tr>\n",
       "    <tr>\n",
       "      <th>2</th>\n",
       "      <td>1359</td>\n",
       "      <td>2015-01-01 18:52:44</td>\n",
       "      <td>2015-01-01 18:52:45</td>\n",
       "      <td>15</td>\n",
       "      <td>131216</td>\n",
       "      <td>SEO</td>\n",
       "      <td>Opera</td>\n",
       "      <td>0</td>\n",
       "      <td>53</td>\n",
       "      <td>156.64.132.28</td>\n",
       "      <td>1</td>\n",
       "      <td>United States</td>\n",
       "      <td>12</td>\n",
       "      <td>3</td>\n",
       "      <td>2015</td>\n",
       "      <td>1</td>\n",
       "      <td>18</td>\n",
       "      <td>1.0</td>\n",
       "      <td>50 -59</td>\n",
       "      <td>evening</td>\n",
       "    </tr>\n",
       "    <tr>\n",
       "      <th>3</th>\n",
       "      <td>48288</td>\n",
       "      <td>2015-01-01 18:52:41</td>\n",
       "      <td>2015-01-01 18:52:42</td>\n",
       "      <td>15</td>\n",
       "      <td>131216</td>\n",
       "      <td>SEO</td>\n",
       "      <td>Opera</td>\n",
       "      <td>0</td>\n",
       "      <td>53</td>\n",
       "      <td>156.64.132.28</td>\n",
       "      <td>1</td>\n",
       "      <td>United States</td>\n",
       "      <td>12</td>\n",
       "      <td>3</td>\n",
       "      <td>2015</td>\n",
       "      <td>1</td>\n",
       "      <td>18</td>\n",
       "      <td>1.0</td>\n",
       "      <td>50 -59</td>\n",
       "      <td>evening</td>\n",
       "    </tr>\n",
       "    <tr>\n",
       "      <th>4</th>\n",
       "      <td>128706</td>\n",
       "      <td>2015-01-01 18:52:40</td>\n",
       "      <td>2015-01-01 18:52:41</td>\n",
       "      <td>15</td>\n",
       "      <td>131216</td>\n",
       "      <td>SEO</td>\n",
       "      <td>Opera</td>\n",
       "      <td>0</td>\n",
       "      <td>53</td>\n",
       "      <td>156.64.132.28</td>\n",
       "      <td>1</td>\n",
       "      <td>United States</td>\n",
       "      <td>12</td>\n",
       "      <td>3</td>\n",
       "      <td>2015</td>\n",
       "      <td>1</td>\n",
       "      <td>18</td>\n",
       "      <td>1.0</td>\n",
       "      <td>50 -59</td>\n",
       "      <td>evening</td>\n",
       "    </tr>\n",
       "  </tbody>\n",
       "</table>\n",
       "</div>"
      ],
      "text/plain": [
       "   user_id         signup_time       purchase_time  purchase_value  device_id  \\\n",
       "0    22058 2015-02-24 22:55:49 2015-04-18 02:47:11              34      89215   \n",
       "1   333320 2015-06-07 20:39:50 2015-06-08 01:38:54              16      24078   \n",
       "2     1359 2015-01-01 18:52:44 2015-01-01 18:52:45              15     131216   \n",
       "3    48288 2015-01-01 18:52:41 2015-01-01 18:52:42              15     131216   \n",
       "4   128706 2015-01-01 18:52:40 2015-01-01 18:52:41              15     131216   \n",
       "\n",
       "  source browser  sex  age     ip_address  class        country  freq_device  \\\n",
       "0    SEO  Chrome    0   39    43.173.1.96      0          Japan            1   \n",
       "1    Ads  Chrome    1   53  20.225.83.219      0  United States            1   \n",
       "2    SEO   Opera    0   53  156.64.132.28      1  United States           12   \n",
       "3    SEO   Opera    0   53  156.64.132.28      1  United States           12   \n",
       "4    SEO   Opera    0   53  156.64.132.28      1  United States           12   \n",
       "\n",
       "   dayofweek  weekday_purchase  month_purchase  hour_of_the_day  \\\n",
       "0          1              2015               4                2   \n",
       "1          6              2015               6                1   \n",
       "2          3              2015               1               18   \n",
       "3          3              2015               1               18   \n",
       "4          3              2015               1               18   \n",
       "\n",
       "   seconds_since_signup age_category period_of_the_day  \n",
       "0             4506682.0         < 40        late night  \n",
       "1               17944.0       50 -59        late night  \n",
       "2                   1.0       50 -59           evening  \n",
       "3                   1.0       50 -59           evening  \n",
       "4                   1.0       50 -59           evening  "
      ]
     },
     "execution_count": 166,
     "metadata": {},
     "output_type": "execute_result"
    }
   ],
   "source": [
    "df_train_sub.head()"
   ]
  },
  {
   "cell_type": "code",
   "execution_count": 167,
   "metadata": {},
   "outputs": [
    {
     "data": {
      "text/html": [
       "<div>\n",
       "<style scoped>\n",
       "    .dataframe tbody tr th:only-of-type {\n",
       "        vertical-align: middle;\n",
       "    }\n",
       "\n",
       "    .dataframe tbody tr th {\n",
       "        vertical-align: top;\n",
       "    }\n",
       "\n",
       "    .dataframe thead th {\n",
       "        text-align: right;\n",
       "    }\n",
       "</style>\n",
       "<table border=\"1\" class=\"dataframe\">\n",
       "  <thead>\n",
       "    <tr style=\"text-align: right;\">\n",
       "      <th></th>\n",
       "      <th>user_id</th>\n",
       "      <th>signup_time</th>\n",
       "      <th>purchase_time</th>\n",
       "      <th>purchase_value</th>\n",
       "      <th>device_id</th>\n",
       "      <th>browser</th>\n",
       "      <th>sex</th>\n",
       "      <th>age</th>\n",
       "      <th>ip_address</th>\n",
       "      <th>class</th>\n",
       "      <th>...</th>\n",
       "      <th>dayofweek</th>\n",
       "      <th>weekday_purchase</th>\n",
       "      <th>month_purchase</th>\n",
       "      <th>hour_of_the_day</th>\n",
       "      <th>seconds_since_signup</th>\n",
       "      <th>age_category</th>\n",
       "      <th>period_of_the_day</th>\n",
       "      <th>metho__Ads</th>\n",
       "      <th>metho__Direct</th>\n",
       "      <th>metho__SEO</th>\n",
       "    </tr>\n",
       "  </thead>\n",
       "  <tbody>\n",
       "    <tr>\n",
       "      <th>0</th>\n",
       "      <td>22058</td>\n",
       "      <td>2015-02-24 22:55:49</td>\n",
       "      <td>2015-04-18 02:47:11</td>\n",
       "      <td>34</td>\n",
       "      <td>89215</td>\n",
       "      <td>Chrome</td>\n",
       "      <td>0</td>\n",
       "      <td>39</td>\n",
       "      <td>43.173.1.96</td>\n",
       "      <td>0</td>\n",
       "      <td>...</td>\n",
       "      <td>1</td>\n",
       "      <td>2015</td>\n",
       "      <td>4</td>\n",
       "      <td>2</td>\n",
       "      <td>4506682.0</td>\n",
       "      <td>&lt; 40</td>\n",
       "      <td>late night</td>\n",
       "      <td>0</td>\n",
       "      <td>0</td>\n",
       "      <td>1</td>\n",
       "    </tr>\n",
       "    <tr>\n",
       "      <th>1</th>\n",
       "      <td>333320</td>\n",
       "      <td>2015-06-07 20:39:50</td>\n",
       "      <td>2015-06-08 01:38:54</td>\n",
       "      <td>16</td>\n",
       "      <td>24078</td>\n",
       "      <td>Chrome</td>\n",
       "      <td>1</td>\n",
       "      <td>53</td>\n",
       "      <td>20.225.83.219</td>\n",
       "      <td>0</td>\n",
       "      <td>...</td>\n",
       "      <td>6</td>\n",
       "      <td>2015</td>\n",
       "      <td>6</td>\n",
       "      <td>1</td>\n",
       "      <td>17944.0</td>\n",
       "      <td>50 -59</td>\n",
       "      <td>late night</td>\n",
       "      <td>1</td>\n",
       "      <td>0</td>\n",
       "      <td>0</td>\n",
       "    </tr>\n",
       "    <tr>\n",
       "      <th>2</th>\n",
       "      <td>1359</td>\n",
       "      <td>2015-01-01 18:52:44</td>\n",
       "      <td>2015-01-01 18:52:45</td>\n",
       "      <td>15</td>\n",
       "      <td>131216</td>\n",
       "      <td>Opera</td>\n",
       "      <td>0</td>\n",
       "      <td>53</td>\n",
       "      <td>156.64.132.28</td>\n",
       "      <td>1</td>\n",
       "      <td>...</td>\n",
       "      <td>3</td>\n",
       "      <td>2015</td>\n",
       "      <td>1</td>\n",
       "      <td>18</td>\n",
       "      <td>1.0</td>\n",
       "      <td>50 -59</td>\n",
       "      <td>evening</td>\n",
       "      <td>0</td>\n",
       "      <td>0</td>\n",
       "      <td>1</td>\n",
       "    </tr>\n",
       "    <tr>\n",
       "      <th>3</th>\n",
       "      <td>48288</td>\n",
       "      <td>2015-01-01 18:52:41</td>\n",
       "      <td>2015-01-01 18:52:42</td>\n",
       "      <td>15</td>\n",
       "      <td>131216</td>\n",
       "      <td>Opera</td>\n",
       "      <td>0</td>\n",
       "      <td>53</td>\n",
       "      <td>156.64.132.28</td>\n",
       "      <td>1</td>\n",
       "      <td>...</td>\n",
       "      <td>3</td>\n",
       "      <td>2015</td>\n",
       "      <td>1</td>\n",
       "      <td>18</td>\n",
       "      <td>1.0</td>\n",
       "      <td>50 -59</td>\n",
       "      <td>evening</td>\n",
       "      <td>0</td>\n",
       "      <td>0</td>\n",
       "      <td>1</td>\n",
       "    </tr>\n",
       "    <tr>\n",
       "      <th>4</th>\n",
       "      <td>128706</td>\n",
       "      <td>2015-01-01 18:52:40</td>\n",
       "      <td>2015-01-01 18:52:41</td>\n",
       "      <td>15</td>\n",
       "      <td>131216</td>\n",
       "      <td>Opera</td>\n",
       "      <td>0</td>\n",
       "      <td>53</td>\n",
       "      <td>156.64.132.28</td>\n",
       "      <td>1</td>\n",
       "      <td>...</td>\n",
       "      <td>3</td>\n",
       "      <td>2015</td>\n",
       "      <td>1</td>\n",
       "      <td>18</td>\n",
       "      <td>1.0</td>\n",
       "      <td>50 -59</td>\n",
       "      <td>evening</td>\n",
       "      <td>0</td>\n",
       "      <td>0</td>\n",
       "      <td>1</td>\n",
       "    </tr>\n",
       "  </tbody>\n",
       "</table>\n",
       "<p>5 rows × 22 columns</p>\n",
       "</div>"
      ],
      "text/plain": [
       "   user_id         signup_time       purchase_time  purchase_value  device_id  \\\n",
       "0    22058 2015-02-24 22:55:49 2015-04-18 02:47:11              34      89215   \n",
       "1   333320 2015-06-07 20:39:50 2015-06-08 01:38:54              16      24078   \n",
       "2     1359 2015-01-01 18:52:44 2015-01-01 18:52:45              15     131216   \n",
       "3    48288 2015-01-01 18:52:41 2015-01-01 18:52:42              15     131216   \n",
       "4   128706 2015-01-01 18:52:40 2015-01-01 18:52:41              15     131216   \n",
       "\n",
       "  browser  sex  age     ip_address  class  ... dayofweek  weekday_purchase  \\\n",
       "0  Chrome    0   39    43.173.1.96      0  ...         1              2015   \n",
       "1  Chrome    1   53  20.225.83.219      0  ...         6              2015   \n",
       "2   Opera    0   53  156.64.132.28      1  ...         3              2015   \n",
       "3   Opera    0   53  156.64.132.28      1  ...         3              2015   \n",
       "4   Opera    0   53  156.64.132.28      1  ...         3              2015   \n",
       "\n",
       "   month_purchase  hour_of_the_day  seconds_since_signup  age_category  \\\n",
       "0               4                2             4506682.0          < 40   \n",
       "1               6                1               17944.0        50 -59   \n",
       "2               1               18                   1.0        50 -59   \n",
       "3               1               18                   1.0        50 -59   \n",
       "4               1               18                   1.0        50 -59   \n",
       "\n",
       "   period_of_the_day metho__Ads metho__Direct  metho__SEO  \n",
       "0         late night          0             0           1  \n",
       "1         late night          1             0           0  \n",
       "2            evening          0             0           1  \n",
       "3            evening          0             0           1  \n",
       "4            evening          0             0           1  \n",
       "\n",
       "[5 rows x 22 columns]"
      ]
     },
     "execution_count": 167,
     "metadata": {},
     "output_type": "execute_result"
    }
   ],
   "source": [
    "df_train_sub1 = pd.get_dummies(df_train_sub, columns = ['source'],prefix='metho_')\n",
    "df_train_sub1.head()"
   ]
  },
  {
   "cell_type": "code",
   "execution_count": 168,
   "metadata": {},
   "outputs": [
    {
     "data": {
      "text/html": [
       "<div>\n",
       "<style scoped>\n",
       "    .dataframe tbody tr th:only-of-type {\n",
       "        vertical-align: middle;\n",
       "    }\n",
       "\n",
       "    .dataframe tbody tr th {\n",
       "        vertical-align: top;\n",
       "    }\n",
       "\n",
       "    .dataframe thead th {\n",
       "        text-align: right;\n",
       "    }\n",
       "</style>\n",
       "<table border=\"1\" class=\"dataframe\">\n",
       "  <thead>\n",
       "    <tr style=\"text-align: right;\">\n",
       "      <th></th>\n",
       "      <th>user_id</th>\n",
       "      <th>signup_time</th>\n",
       "      <th>purchase_time</th>\n",
       "      <th>purchase_value</th>\n",
       "      <th>device_id</th>\n",
       "      <th>source</th>\n",
       "      <th>sex</th>\n",
       "      <th>age</th>\n",
       "      <th>ip_address</th>\n",
       "      <th>class</th>\n",
       "      <th>...</th>\n",
       "      <th>month_purchase</th>\n",
       "      <th>hour_of_the_day</th>\n",
       "      <th>seconds_since_signup</th>\n",
       "      <th>age_category</th>\n",
       "      <th>period_of_the_day</th>\n",
       "      <th>title__Chrome</th>\n",
       "      <th>title__FireFox</th>\n",
       "      <th>title__IE</th>\n",
       "      <th>title__Opera</th>\n",
       "      <th>title__Safari</th>\n",
       "    </tr>\n",
       "  </thead>\n",
       "  <tbody>\n",
       "    <tr>\n",
       "      <th>0</th>\n",
       "      <td>22058</td>\n",
       "      <td>2015-02-24 22:55:49</td>\n",
       "      <td>2015-04-18 02:47:11</td>\n",
       "      <td>34</td>\n",
       "      <td>89215</td>\n",
       "      <td>SEO</td>\n",
       "      <td>0</td>\n",
       "      <td>39</td>\n",
       "      <td>43.173.1.96</td>\n",
       "      <td>0</td>\n",
       "      <td>...</td>\n",
       "      <td>4</td>\n",
       "      <td>2</td>\n",
       "      <td>4506682.0</td>\n",
       "      <td>&lt; 40</td>\n",
       "      <td>late night</td>\n",
       "      <td>1</td>\n",
       "      <td>0</td>\n",
       "      <td>0</td>\n",
       "      <td>0</td>\n",
       "      <td>0</td>\n",
       "    </tr>\n",
       "    <tr>\n",
       "      <th>1</th>\n",
       "      <td>333320</td>\n",
       "      <td>2015-06-07 20:39:50</td>\n",
       "      <td>2015-06-08 01:38:54</td>\n",
       "      <td>16</td>\n",
       "      <td>24078</td>\n",
       "      <td>Ads</td>\n",
       "      <td>1</td>\n",
       "      <td>53</td>\n",
       "      <td>20.225.83.219</td>\n",
       "      <td>0</td>\n",
       "      <td>...</td>\n",
       "      <td>6</td>\n",
       "      <td>1</td>\n",
       "      <td>17944.0</td>\n",
       "      <td>50 -59</td>\n",
       "      <td>late night</td>\n",
       "      <td>1</td>\n",
       "      <td>0</td>\n",
       "      <td>0</td>\n",
       "      <td>0</td>\n",
       "      <td>0</td>\n",
       "    </tr>\n",
       "    <tr>\n",
       "      <th>2</th>\n",
       "      <td>1359</td>\n",
       "      <td>2015-01-01 18:52:44</td>\n",
       "      <td>2015-01-01 18:52:45</td>\n",
       "      <td>15</td>\n",
       "      <td>131216</td>\n",
       "      <td>SEO</td>\n",
       "      <td>0</td>\n",
       "      <td>53</td>\n",
       "      <td>156.64.132.28</td>\n",
       "      <td>1</td>\n",
       "      <td>...</td>\n",
       "      <td>1</td>\n",
       "      <td>18</td>\n",
       "      <td>1.0</td>\n",
       "      <td>50 -59</td>\n",
       "      <td>evening</td>\n",
       "      <td>0</td>\n",
       "      <td>0</td>\n",
       "      <td>0</td>\n",
       "      <td>1</td>\n",
       "      <td>0</td>\n",
       "    </tr>\n",
       "    <tr>\n",
       "      <th>3</th>\n",
       "      <td>48288</td>\n",
       "      <td>2015-01-01 18:52:41</td>\n",
       "      <td>2015-01-01 18:52:42</td>\n",
       "      <td>15</td>\n",
       "      <td>131216</td>\n",
       "      <td>SEO</td>\n",
       "      <td>0</td>\n",
       "      <td>53</td>\n",
       "      <td>156.64.132.28</td>\n",
       "      <td>1</td>\n",
       "      <td>...</td>\n",
       "      <td>1</td>\n",
       "      <td>18</td>\n",
       "      <td>1.0</td>\n",
       "      <td>50 -59</td>\n",
       "      <td>evening</td>\n",
       "      <td>0</td>\n",
       "      <td>0</td>\n",
       "      <td>0</td>\n",
       "      <td>1</td>\n",
       "      <td>0</td>\n",
       "    </tr>\n",
       "    <tr>\n",
       "      <th>4</th>\n",
       "      <td>128706</td>\n",
       "      <td>2015-01-01 18:52:40</td>\n",
       "      <td>2015-01-01 18:52:41</td>\n",
       "      <td>15</td>\n",
       "      <td>131216</td>\n",
       "      <td>SEO</td>\n",
       "      <td>0</td>\n",
       "      <td>53</td>\n",
       "      <td>156.64.132.28</td>\n",
       "      <td>1</td>\n",
       "      <td>...</td>\n",
       "      <td>1</td>\n",
       "      <td>18</td>\n",
       "      <td>1.0</td>\n",
       "      <td>50 -59</td>\n",
       "      <td>evening</td>\n",
       "      <td>0</td>\n",
       "      <td>0</td>\n",
       "      <td>0</td>\n",
       "      <td>1</td>\n",
       "      <td>0</td>\n",
       "    </tr>\n",
       "  </tbody>\n",
       "</table>\n",
       "<p>5 rows × 24 columns</p>\n",
       "</div>"
      ],
      "text/plain": [
       "   user_id         signup_time       purchase_time  purchase_value  device_id  \\\n",
       "0    22058 2015-02-24 22:55:49 2015-04-18 02:47:11              34      89215   \n",
       "1   333320 2015-06-07 20:39:50 2015-06-08 01:38:54              16      24078   \n",
       "2     1359 2015-01-01 18:52:44 2015-01-01 18:52:45              15     131216   \n",
       "3    48288 2015-01-01 18:52:41 2015-01-01 18:52:42              15     131216   \n",
       "4   128706 2015-01-01 18:52:40 2015-01-01 18:52:41              15     131216   \n",
       "\n",
       "  source  sex  age     ip_address  class  ... month_purchase  hour_of_the_day  \\\n",
       "0    SEO    0   39    43.173.1.96      0  ...              4                2   \n",
       "1    Ads    1   53  20.225.83.219      0  ...              6                1   \n",
       "2    SEO    0   53  156.64.132.28      1  ...              1               18   \n",
       "3    SEO    0   53  156.64.132.28      1  ...              1               18   \n",
       "4    SEO    0   53  156.64.132.28      1  ...              1               18   \n",
       "\n",
       "   seconds_since_signup  age_category  period_of_the_day  title__Chrome  \\\n",
       "0             4506682.0          < 40         late night              1   \n",
       "1               17944.0        50 -59         late night              1   \n",
       "2                   1.0        50 -59            evening              0   \n",
       "3                   1.0        50 -59            evening              0   \n",
       "4                   1.0        50 -59            evening              0   \n",
       "\n",
       "   title__FireFox title__IE title__Opera  title__Safari  \n",
       "0               0         0            0              0  \n",
       "1               0         0            0              0  \n",
       "2               0         0            1              0  \n",
       "3               0         0            1              0  \n",
       "4               0         0            1              0  \n",
       "\n",
       "[5 rows x 24 columns]"
      ]
     },
     "execution_count": 168,
     "metadata": {},
     "output_type": "execute_result"
    }
   ],
   "source": [
    "df_train_sub1 = pd.get_dummies(df_train_sub, columns = ['browser'],prefix='title_')\n",
    "df_train_sub1.head()"
   ]
  },
  {
   "cell_type": "code",
   "execution_count": 169,
   "metadata": {},
   "outputs": [
    {
     "data": {
      "text/html": [
       "<div>\n",
       "<style scoped>\n",
       "    .dataframe tbody tr th:only-of-type {\n",
       "        vertical-align: middle;\n",
       "    }\n",
       "\n",
       "    .dataframe tbody tr th {\n",
       "        vertical-align: top;\n",
       "    }\n",
       "\n",
       "    .dataframe thead th {\n",
       "        text-align: right;\n",
       "    }\n",
       "</style>\n",
       "<table border=\"1\" class=\"dataframe\">\n",
       "  <thead>\n",
       "    <tr style=\"text-align: right;\">\n",
       "      <th></th>\n",
       "      <th>user_id</th>\n",
       "      <th>signup_time</th>\n",
       "      <th>purchase_time</th>\n",
       "      <th>purchase_value</th>\n",
       "      <th>device_id</th>\n",
       "      <th>source</th>\n",
       "      <th>browser</th>\n",
       "      <th>sex</th>\n",
       "      <th>age</th>\n",
       "      <th>ip_address</th>\n",
       "      <th>...</th>\n",
       "      <th>weekday_purchase</th>\n",
       "      <th>month_purchase</th>\n",
       "      <th>hour_of_the_day</th>\n",
       "      <th>seconds_since_signup</th>\n",
       "      <th>period_of_the_day</th>\n",
       "      <th>sub__ &gt; 70</th>\n",
       "      <th>sub__40 - 49</th>\n",
       "      <th>sub__50 -59</th>\n",
       "      <th>sub__60 - 69</th>\n",
       "      <th>sub__&lt; 40</th>\n",
       "    </tr>\n",
       "  </thead>\n",
       "  <tbody>\n",
       "    <tr>\n",
       "      <th>0</th>\n",
       "      <td>22058</td>\n",
       "      <td>2015-02-24 22:55:49</td>\n",
       "      <td>2015-04-18 02:47:11</td>\n",
       "      <td>34</td>\n",
       "      <td>89215</td>\n",
       "      <td>SEO</td>\n",
       "      <td>Chrome</td>\n",
       "      <td>0</td>\n",
       "      <td>39</td>\n",
       "      <td>43.173.1.96</td>\n",
       "      <td>...</td>\n",
       "      <td>2015</td>\n",
       "      <td>4</td>\n",
       "      <td>2</td>\n",
       "      <td>4506682.0</td>\n",
       "      <td>late night</td>\n",
       "      <td>0</td>\n",
       "      <td>0</td>\n",
       "      <td>0</td>\n",
       "      <td>0</td>\n",
       "      <td>1</td>\n",
       "    </tr>\n",
       "    <tr>\n",
       "      <th>1</th>\n",
       "      <td>333320</td>\n",
       "      <td>2015-06-07 20:39:50</td>\n",
       "      <td>2015-06-08 01:38:54</td>\n",
       "      <td>16</td>\n",
       "      <td>24078</td>\n",
       "      <td>Ads</td>\n",
       "      <td>Chrome</td>\n",
       "      <td>1</td>\n",
       "      <td>53</td>\n",
       "      <td>20.225.83.219</td>\n",
       "      <td>...</td>\n",
       "      <td>2015</td>\n",
       "      <td>6</td>\n",
       "      <td>1</td>\n",
       "      <td>17944.0</td>\n",
       "      <td>late night</td>\n",
       "      <td>0</td>\n",
       "      <td>0</td>\n",
       "      <td>1</td>\n",
       "      <td>0</td>\n",
       "      <td>0</td>\n",
       "    </tr>\n",
       "    <tr>\n",
       "      <th>2</th>\n",
       "      <td>1359</td>\n",
       "      <td>2015-01-01 18:52:44</td>\n",
       "      <td>2015-01-01 18:52:45</td>\n",
       "      <td>15</td>\n",
       "      <td>131216</td>\n",
       "      <td>SEO</td>\n",
       "      <td>Opera</td>\n",
       "      <td>0</td>\n",
       "      <td>53</td>\n",
       "      <td>156.64.132.28</td>\n",
       "      <td>...</td>\n",
       "      <td>2015</td>\n",
       "      <td>1</td>\n",
       "      <td>18</td>\n",
       "      <td>1.0</td>\n",
       "      <td>evening</td>\n",
       "      <td>0</td>\n",
       "      <td>0</td>\n",
       "      <td>1</td>\n",
       "      <td>0</td>\n",
       "      <td>0</td>\n",
       "    </tr>\n",
       "    <tr>\n",
       "      <th>3</th>\n",
       "      <td>48288</td>\n",
       "      <td>2015-01-01 18:52:41</td>\n",
       "      <td>2015-01-01 18:52:42</td>\n",
       "      <td>15</td>\n",
       "      <td>131216</td>\n",
       "      <td>SEO</td>\n",
       "      <td>Opera</td>\n",
       "      <td>0</td>\n",
       "      <td>53</td>\n",
       "      <td>156.64.132.28</td>\n",
       "      <td>...</td>\n",
       "      <td>2015</td>\n",
       "      <td>1</td>\n",
       "      <td>18</td>\n",
       "      <td>1.0</td>\n",
       "      <td>evening</td>\n",
       "      <td>0</td>\n",
       "      <td>0</td>\n",
       "      <td>1</td>\n",
       "      <td>0</td>\n",
       "      <td>0</td>\n",
       "    </tr>\n",
       "    <tr>\n",
       "      <th>4</th>\n",
       "      <td>128706</td>\n",
       "      <td>2015-01-01 18:52:40</td>\n",
       "      <td>2015-01-01 18:52:41</td>\n",
       "      <td>15</td>\n",
       "      <td>131216</td>\n",
       "      <td>SEO</td>\n",
       "      <td>Opera</td>\n",
       "      <td>0</td>\n",
       "      <td>53</td>\n",
       "      <td>156.64.132.28</td>\n",
       "      <td>...</td>\n",
       "      <td>2015</td>\n",
       "      <td>1</td>\n",
       "      <td>18</td>\n",
       "      <td>1.0</td>\n",
       "      <td>evening</td>\n",
       "      <td>0</td>\n",
       "      <td>0</td>\n",
       "      <td>1</td>\n",
       "      <td>0</td>\n",
       "      <td>0</td>\n",
       "    </tr>\n",
       "  </tbody>\n",
       "</table>\n",
       "<p>5 rows × 24 columns</p>\n",
       "</div>"
      ],
      "text/plain": [
       "   user_id         signup_time       purchase_time  purchase_value  device_id  \\\n",
       "0    22058 2015-02-24 22:55:49 2015-04-18 02:47:11              34      89215   \n",
       "1   333320 2015-06-07 20:39:50 2015-06-08 01:38:54              16      24078   \n",
       "2     1359 2015-01-01 18:52:44 2015-01-01 18:52:45              15     131216   \n",
       "3    48288 2015-01-01 18:52:41 2015-01-01 18:52:42              15     131216   \n",
       "4   128706 2015-01-01 18:52:40 2015-01-01 18:52:41              15     131216   \n",
       "\n",
       "  source browser  sex  age     ip_address  ...  weekday_purchase  \\\n",
       "0    SEO  Chrome    0   39    43.173.1.96  ...              2015   \n",
       "1    Ads  Chrome    1   53  20.225.83.219  ...              2015   \n",
       "2    SEO   Opera    0   53  156.64.132.28  ...              2015   \n",
       "3    SEO   Opera    0   53  156.64.132.28  ...              2015   \n",
       "4    SEO   Opera    0   53  156.64.132.28  ...              2015   \n",
       "\n",
       "  month_purchase  hour_of_the_day  seconds_since_signup  period_of_the_day  \\\n",
       "0              4                2             4506682.0         late night   \n",
       "1              6                1               17944.0         late night   \n",
       "2              1               18                   1.0            evening   \n",
       "3              1               18                   1.0            evening   \n",
       "4              1               18                   1.0            evening   \n",
       "\n",
       "   sub__ > 70  sub__40 - 49  sub__50 -59 sub__60 - 69  sub__< 40  \n",
       "0           0             0            0            0          1  \n",
       "1           0             0            1            0          0  \n",
       "2           0             0            1            0          0  \n",
       "3           0             0            1            0          0  \n",
       "4           0             0            1            0          0  \n",
       "\n",
       "[5 rows x 24 columns]"
      ]
     },
     "execution_count": 169,
     "metadata": {},
     "output_type": "execute_result"
    }
   ],
   "source": [
    "df_train_sub1 = pd.get_dummies(df_train_sub, columns = ['age_category'],prefix='sub_')\n",
    "df_train_sub1.head()"
   ]
  },
  {
   "cell_type": "code",
   "execution_count": 170,
   "metadata": {},
   "outputs": [
    {
     "data": {
      "text/html": [
       "<div>\n",
       "<style scoped>\n",
       "    .dataframe tbody tr th:only-of-type {\n",
       "        vertical-align: middle;\n",
       "    }\n",
       "\n",
       "    .dataframe tbody tr th {\n",
       "        vertical-align: top;\n",
       "    }\n",
       "\n",
       "    .dataframe thead th {\n",
       "        text-align: right;\n",
       "    }\n",
       "</style>\n",
       "<table border=\"1\" class=\"dataframe\">\n",
       "  <thead>\n",
       "    <tr style=\"text-align: right;\">\n",
       "      <th></th>\n",
       "      <th>user_id</th>\n",
       "      <th>signup_time</th>\n",
       "      <th>purchase_time</th>\n",
       "      <th>purchase_value</th>\n",
       "      <th>device_id</th>\n",
       "      <th>source</th>\n",
       "      <th>browser</th>\n",
       "      <th>sex</th>\n",
       "      <th>age</th>\n",
       "      <th>ip_address</th>\n",
       "      <th>...</th>\n",
       "      <th>sub__40 - 49</th>\n",
       "      <th>sub__50 -59</th>\n",
       "      <th>sub__60 - 69</th>\n",
       "      <th>sub__&lt; 40</th>\n",
       "      <th>sub__afternoon</th>\n",
       "      <th>sub__early morning</th>\n",
       "      <th>sub__evening</th>\n",
       "      <th>sub__late night</th>\n",
       "      <th>sub__morning</th>\n",
       "      <th>sub__night</th>\n",
       "    </tr>\n",
       "  </thead>\n",
       "  <tbody>\n",
       "    <tr>\n",
       "      <th>0</th>\n",
       "      <td>22058</td>\n",
       "      <td>2015-02-24 22:55:49</td>\n",
       "      <td>2015-04-18 02:47:11</td>\n",
       "      <td>34</td>\n",
       "      <td>89215</td>\n",
       "      <td>SEO</td>\n",
       "      <td>Chrome</td>\n",
       "      <td>0</td>\n",
       "      <td>39</td>\n",
       "      <td>43.173.1.96</td>\n",
       "      <td>...</td>\n",
       "      <td>0</td>\n",
       "      <td>0</td>\n",
       "      <td>0</td>\n",
       "      <td>1</td>\n",
       "      <td>0</td>\n",
       "      <td>0</td>\n",
       "      <td>0</td>\n",
       "      <td>1</td>\n",
       "      <td>0</td>\n",
       "      <td>0</td>\n",
       "    </tr>\n",
       "    <tr>\n",
       "      <th>1</th>\n",
       "      <td>333320</td>\n",
       "      <td>2015-06-07 20:39:50</td>\n",
       "      <td>2015-06-08 01:38:54</td>\n",
       "      <td>16</td>\n",
       "      <td>24078</td>\n",
       "      <td>Ads</td>\n",
       "      <td>Chrome</td>\n",
       "      <td>1</td>\n",
       "      <td>53</td>\n",
       "      <td>20.225.83.219</td>\n",
       "      <td>...</td>\n",
       "      <td>0</td>\n",
       "      <td>1</td>\n",
       "      <td>0</td>\n",
       "      <td>0</td>\n",
       "      <td>0</td>\n",
       "      <td>0</td>\n",
       "      <td>0</td>\n",
       "      <td>1</td>\n",
       "      <td>0</td>\n",
       "      <td>0</td>\n",
       "    </tr>\n",
       "    <tr>\n",
       "      <th>2</th>\n",
       "      <td>1359</td>\n",
       "      <td>2015-01-01 18:52:44</td>\n",
       "      <td>2015-01-01 18:52:45</td>\n",
       "      <td>15</td>\n",
       "      <td>131216</td>\n",
       "      <td>SEO</td>\n",
       "      <td>Opera</td>\n",
       "      <td>0</td>\n",
       "      <td>53</td>\n",
       "      <td>156.64.132.28</td>\n",
       "      <td>...</td>\n",
       "      <td>0</td>\n",
       "      <td>1</td>\n",
       "      <td>0</td>\n",
       "      <td>0</td>\n",
       "      <td>0</td>\n",
       "      <td>0</td>\n",
       "      <td>1</td>\n",
       "      <td>0</td>\n",
       "      <td>0</td>\n",
       "      <td>0</td>\n",
       "    </tr>\n",
       "    <tr>\n",
       "      <th>3</th>\n",
       "      <td>48288</td>\n",
       "      <td>2015-01-01 18:52:41</td>\n",
       "      <td>2015-01-01 18:52:42</td>\n",
       "      <td>15</td>\n",
       "      <td>131216</td>\n",
       "      <td>SEO</td>\n",
       "      <td>Opera</td>\n",
       "      <td>0</td>\n",
       "      <td>53</td>\n",
       "      <td>156.64.132.28</td>\n",
       "      <td>...</td>\n",
       "      <td>0</td>\n",
       "      <td>1</td>\n",
       "      <td>0</td>\n",
       "      <td>0</td>\n",
       "      <td>0</td>\n",
       "      <td>0</td>\n",
       "      <td>1</td>\n",
       "      <td>0</td>\n",
       "      <td>0</td>\n",
       "      <td>0</td>\n",
       "    </tr>\n",
       "    <tr>\n",
       "      <th>4</th>\n",
       "      <td>128706</td>\n",
       "      <td>2015-01-01 18:52:40</td>\n",
       "      <td>2015-01-01 18:52:41</td>\n",
       "      <td>15</td>\n",
       "      <td>131216</td>\n",
       "      <td>SEO</td>\n",
       "      <td>Opera</td>\n",
       "      <td>0</td>\n",
       "      <td>53</td>\n",
       "      <td>156.64.132.28</td>\n",
       "      <td>...</td>\n",
       "      <td>0</td>\n",
       "      <td>1</td>\n",
       "      <td>0</td>\n",
       "      <td>0</td>\n",
       "      <td>0</td>\n",
       "      <td>0</td>\n",
       "      <td>1</td>\n",
       "      <td>0</td>\n",
       "      <td>0</td>\n",
       "      <td>0</td>\n",
       "    </tr>\n",
       "  </tbody>\n",
       "</table>\n",
       "<p>5 rows × 29 columns</p>\n",
       "</div>"
      ],
      "text/plain": [
       "   user_id         signup_time       purchase_time  purchase_value  device_id  \\\n",
       "0    22058 2015-02-24 22:55:49 2015-04-18 02:47:11              34      89215   \n",
       "1   333320 2015-06-07 20:39:50 2015-06-08 01:38:54              16      24078   \n",
       "2     1359 2015-01-01 18:52:44 2015-01-01 18:52:45              15     131216   \n",
       "3    48288 2015-01-01 18:52:41 2015-01-01 18:52:42              15     131216   \n",
       "4   128706 2015-01-01 18:52:40 2015-01-01 18:52:41              15     131216   \n",
       "\n",
       "  source browser  sex  age     ip_address  ...  sub__40 - 49 sub__50 -59  \\\n",
       "0    SEO  Chrome    0   39    43.173.1.96  ...             0           0   \n",
       "1    Ads  Chrome    1   53  20.225.83.219  ...             0           1   \n",
       "2    SEO   Opera    0   53  156.64.132.28  ...             0           1   \n",
       "3    SEO   Opera    0   53  156.64.132.28  ...             0           1   \n",
       "4    SEO   Opera    0   53  156.64.132.28  ...             0           1   \n",
       "\n",
       "   sub__60 - 69  sub__< 40  sub__afternoon  sub__early morning  sub__evening  \\\n",
       "0             0          1               0                   0             0   \n",
       "1             0          0               0                   0             0   \n",
       "2             0          0               0                   0             1   \n",
       "3             0          0               0                   0             1   \n",
       "4             0          0               0                   0             1   \n",
       "\n",
       "   sub__late night  sub__morning  sub__night  \n",
       "0                1             0           0  \n",
       "1                1             0           0  \n",
       "2                0             0           0  \n",
       "3                0             0           0  \n",
       "4                0             0           0  \n",
       "\n",
       "[5 rows x 29 columns]"
      ]
     },
     "execution_count": 170,
     "metadata": {},
     "output_type": "execute_result"
    }
   ],
   "source": [
    "df_train_sub1 = pd.get_dummies(df_train_sub1, columns = ['period_of_the_day'],prefix='sub_')\n",
    "df_train_sub1.head()"
   ]
  },
  {
   "cell_type": "code",
   "execution_count": 171,
   "metadata": {},
   "outputs": [
    {
     "data": {
      "text/html": [
       "<div>\n",
       "<style scoped>\n",
       "    .dataframe tbody tr th:only-of-type {\n",
       "        vertical-align: middle;\n",
       "    }\n",
       "\n",
       "    .dataframe tbody tr th {\n",
       "        vertical-align: top;\n",
       "    }\n",
       "\n",
       "    .dataframe thead th {\n",
       "        text-align: right;\n",
       "    }\n",
       "</style>\n",
       "<table border=\"1\" class=\"dataframe\">\n",
       "  <thead>\n",
       "    <tr style=\"text-align: right;\">\n",
       "      <th></th>\n",
       "      <th>user_id</th>\n",
       "      <th>signup_time</th>\n",
       "      <th>purchase_time</th>\n",
       "      <th>purchase_value</th>\n",
       "      <th>device_id</th>\n",
       "      <th>source</th>\n",
       "      <th>browser</th>\n",
       "      <th>sex</th>\n",
       "      <th>age</th>\n",
       "      <th>ip_address</th>\n",
       "      <th>...</th>\n",
       "      <th>sub__United States</th>\n",
       "      <th>sub__Uruguay</th>\n",
       "      <th>sub__Uzbekistan</th>\n",
       "      <th>sub__Vanuatu</th>\n",
       "      <th>sub__Venezuela</th>\n",
       "      <th>sub__Vietnam</th>\n",
       "      <th>sub__Yemen</th>\n",
       "      <th>sub__Zambia</th>\n",
       "      <th>sub__Zimbabwe</th>\n",
       "      <th>sub__Åland</th>\n",
       "    </tr>\n",
       "  </thead>\n",
       "  <tbody>\n",
       "    <tr>\n",
       "      <th>0</th>\n",
       "      <td>22058</td>\n",
       "      <td>2015-02-24 22:55:49</td>\n",
       "      <td>2015-04-18 02:47:11</td>\n",
       "      <td>34</td>\n",
       "      <td>89215</td>\n",
       "      <td>SEO</td>\n",
       "      <td>Chrome</td>\n",
       "      <td>0</td>\n",
       "      <td>39</td>\n",
       "      <td>43.173.1.96</td>\n",
       "      <td>...</td>\n",
       "      <td>0</td>\n",
       "      <td>0</td>\n",
       "      <td>0</td>\n",
       "      <td>0</td>\n",
       "      <td>0</td>\n",
       "      <td>0</td>\n",
       "      <td>0</td>\n",
       "      <td>0</td>\n",
       "      <td>0</td>\n",
       "      <td>0</td>\n",
       "    </tr>\n",
       "    <tr>\n",
       "      <th>1</th>\n",
       "      <td>333320</td>\n",
       "      <td>2015-06-07 20:39:50</td>\n",
       "      <td>2015-06-08 01:38:54</td>\n",
       "      <td>16</td>\n",
       "      <td>24078</td>\n",
       "      <td>Ads</td>\n",
       "      <td>Chrome</td>\n",
       "      <td>1</td>\n",
       "      <td>53</td>\n",
       "      <td>20.225.83.219</td>\n",
       "      <td>...</td>\n",
       "      <td>1</td>\n",
       "      <td>0</td>\n",
       "      <td>0</td>\n",
       "      <td>0</td>\n",
       "      <td>0</td>\n",
       "      <td>0</td>\n",
       "      <td>0</td>\n",
       "      <td>0</td>\n",
       "      <td>0</td>\n",
       "      <td>0</td>\n",
       "    </tr>\n",
       "    <tr>\n",
       "      <th>2</th>\n",
       "      <td>1359</td>\n",
       "      <td>2015-01-01 18:52:44</td>\n",
       "      <td>2015-01-01 18:52:45</td>\n",
       "      <td>15</td>\n",
       "      <td>131216</td>\n",
       "      <td>SEO</td>\n",
       "      <td>Opera</td>\n",
       "      <td>0</td>\n",
       "      <td>53</td>\n",
       "      <td>156.64.132.28</td>\n",
       "      <td>...</td>\n",
       "      <td>1</td>\n",
       "      <td>0</td>\n",
       "      <td>0</td>\n",
       "      <td>0</td>\n",
       "      <td>0</td>\n",
       "      <td>0</td>\n",
       "      <td>0</td>\n",
       "      <td>0</td>\n",
       "      <td>0</td>\n",
       "      <td>0</td>\n",
       "    </tr>\n",
       "    <tr>\n",
       "      <th>3</th>\n",
       "      <td>48288</td>\n",
       "      <td>2015-01-01 18:52:41</td>\n",
       "      <td>2015-01-01 18:52:42</td>\n",
       "      <td>15</td>\n",
       "      <td>131216</td>\n",
       "      <td>SEO</td>\n",
       "      <td>Opera</td>\n",
       "      <td>0</td>\n",
       "      <td>53</td>\n",
       "      <td>156.64.132.28</td>\n",
       "      <td>...</td>\n",
       "      <td>1</td>\n",
       "      <td>0</td>\n",
       "      <td>0</td>\n",
       "      <td>0</td>\n",
       "      <td>0</td>\n",
       "      <td>0</td>\n",
       "      <td>0</td>\n",
       "      <td>0</td>\n",
       "      <td>0</td>\n",
       "      <td>0</td>\n",
       "    </tr>\n",
       "    <tr>\n",
       "      <th>4</th>\n",
       "      <td>128706</td>\n",
       "      <td>2015-01-01 18:52:40</td>\n",
       "      <td>2015-01-01 18:52:41</td>\n",
       "      <td>15</td>\n",
       "      <td>131216</td>\n",
       "      <td>SEO</td>\n",
       "      <td>Opera</td>\n",
       "      <td>0</td>\n",
       "      <td>53</td>\n",
       "      <td>156.64.132.28</td>\n",
       "      <td>...</td>\n",
       "      <td>1</td>\n",
       "      <td>0</td>\n",
       "      <td>0</td>\n",
       "      <td>0</td>\n",
       "      <td>0</td>\n",
       "      <td>0</td>\n",
       "      <td>0</td>\n",
       "      <td>0</td>\n",
       "      <td>0</td>\n",
       "      <td>0</td>\n",
       "    </tr>\n",
       "  </tbody>\n",
       "</table>\n",
       "<p>5 rows × 224 columns</p>\n",
       "</div>"
      ],
      "text/plain": [
       "   user_id         signup_time       purchase_time  purchase_value  device_id  \\\n",
       "0    22058 2015-02-24 22:55:49 2015-04-18 02:47:11              34      89215   \n",
       "1   333320 2015-06-07 20:39:50 2015-06-08 01:38:54              16      24078   \n",
       "2     1359 2015-01-01 18:52:44 2015-01-01 18:52:45              15     131216   \n",
       "3    48288 2015-01-01 18:52:41 2015-01-01 18:52:42              15     131216   \n",
       "4   128706 2015-01-01 18:52:40 2015-01-01 18:52:41              15     131216   \n",
       "\n",
       "  source browser  sex  age     ip_address  ...  sub__United States  \\\n",
       "0    SEO  Chrome    0   39    43.173.1.96  ...                   0   \n",
       "1    Ads  Chrome    1   53  20.225.83.219  ...                   1   \n",
       "2    SEO   Opera    0   53  156.64.132.28  ...                   1   \n",
       "3    SEO   Opera    0   53  156.64.132.28  ...                   1   \n",
       "4    SEO   Opera    0   53  156.64.132.28  ...                   1   \n",
       "\n",
       "   sub__Uruguay  sub__Uzbekistan  sub__Vanuatu  sub__Venezuela  sub__Vietnam  \\\n",
       "0             0                0             0               0             0   \n",
       "1             0                0             0               0             0   \n",
       "2             0                0             0               0             0   \n",
       "3             0                0             0               0             0   \n",
       "4             0                0             0               0             0   \n",
       "\n",
       "   sub__Yemen  sub__Zambia  sub__Zimbabwe  sub__Åland  \n",
       "0           0            0              0           0  \n",
       "1           0            0              0           0  \n",
       "2           0            0              0           0  \n",
       "3           0            0              0           0  \n",
       "4           0            0              0           0  \n",
       "\n",
       "[5 rows x 224 columns]"
      ]
     },
     "execution_count": 171,
     "metadata": {},
     "output_type": "execute_result"
    }
   ],
   "source": [
    "df_train_sub1 = pd.get_dummies(df_train_sub1, columns = ['country'],prefix='sub_')\n",
    "df_train_sub1.head()"
   ]
  },
  {
   "cell_type": "markdown",
   "metadata": {
    "button": false,
    "new_sheet": false,
    "run_control": {
     "read_only": false
    }
   },
   "source": [
    "### Feature selection"
   ]
  },
  {
   "cell_type": "code",
   "execution_count": 146,
   "metadata": {},
   "outputs": [
    {
     "name": "stderr",
     "output_type": "stream",
     "text": [
      "Using TensorFlow backend.\n"
     ]
    }
   ],
   "source": [
    "from collections import Counter\n",
    "from sklearn.datasets import make_classification\n",
    "from imblearn.over_sampling import SMOTE\n",
    "from sklearn.utils import resample"
   ]
  },
  {
   "cell_type": "markdown",
   "metadata": {
    "button": false,
    "new_sheet": false,
    "run_control": {
     "read_only": false
    }
   },
   "source": [
    "Lets defind feature sets, X:\n",
    "- X is input, X = Feature"
   ]
  },
  {
   "cell_type": "code",
   "execution_count": null,
   "metadata": {
    "button": false,
    "new_sheet": false,
    "run_control": {
     "read_only": false
    }
   },
   "outputs": [],
   "source": [
    "# code here"
   ]
  },
  {
   "cell_type": "code",
   "execution_count": 172,
   "metadata": {},
   "outputs": [
    {
     "data": {
      "text/plain": [
       "Index(['user_id', 'signup_time', 'purchase_time', 'purchase_value',\n",
       "       'device_id', 'source', 'browser', 'sex', 'age', 'ip_address',\n",
       "       ...\n",
       "       'sub__United States', 'sub__Uruguay', 'sub__Uzbekistan', 'sub__Vanuatu',\n",
       "       'sub__Venezuela', 'sub__Vietnam', 'sub__Yemen', 'sub__Zambia',\n",
       "       'sub__Zimbabwe', 'sub__Åland'],\n",
       "      dtype='object', length=224)"
      ]
     },
     "execution_count": 172,
     "metadata": {},
     "output_type": "execute_result"
    }
   ],
   "source": [
    "df_train_sub1.columns"
   ]
  },
  {
   "cell_type": "code",
   "execution_count": 173,
   "metadata": {},
   "outputs": [
    {
     "data": {
      "text/html": [
       "<div>\n",
       "<style scoped>\n",
       "    .dataframe tbody tr th:only-of-type {\n",
       "        vertical-align: middle;\n",
       "    }\n",
       "\n",
       "    .dataframe tbody tr th {\n",
       "        vertical-align: top;\n",
       "    }\n",
       "\n",
       "    .dataframe thead th {\n",
       "        text-align: right;\n",
       "    }\n",
       "</style>\n",
       "<table border=\"1\" class=\"dataframe\">\n",
       "  <thead>\n",
       "    <tr style=\"text-align: right;\">\n",
       "      <th></th>\n",
       "      <th>user_id</th>\n",
       "      <th>purchase_value</th>\n",
       "      <th>device_id</th>\n",
       "      <th>sex</th>\n",
       "      <th>age</th>\n",
       "      <th>freq_device</th>\n",
       "      <th>dayofweek</th>\n",
       "      <th>weekday_purchase</th>\n",
       "      <th>month_purchase</th>\n",
       "      <th>hour_of_the_day</th>\n",
       "      <th>...</th>\n",
       "      <th>sub__United States</th>\n",
       "      <th>sub__Uruguay</th>\n",
       "      <th>sub__Uzbekistan</th>\n",
       "      <th>sub__Vanuatu</th>\n",
       "      <th>sub__Venezuela</th>\n",
       "      <th>sub__Vietnam</th>\n",
       "      <th>sub__Yemen</th>\n",
       "      <th>sub__Zambia</th>\n",
       "      <th>sub__Zimbabwe</th>\n",
       "      <th>sub__Åland</th>\n",
       "    </tr>\n",
       "  </thead>\n",
       "  <tbody>\n",
       "    <tr>\n",
       "      <th>0</th>\n",
       "      <td>22058</td>\n",
       "      <td>34</td>\n",
       "      <td>89215</td>\n",
       "      <td>0</td>\n",
       "      <td>39</td>\n",
       "      <td>1</td>\n",
       "      <td>1</td>\n",
       "      <td>2015</td>\n",
       "      <td>4</td>\n",
       "      <td>2</td>\n",
       "      <td>...</td>\n",
       "      <td>0</td>\n",
       "      <td>0</td>\n",
       "      <td>0</td>\n",
       "      <td>0</td>\n",
       "      <td>0</td>\n",
       "      <td>0</td>\n",
       "      <td>0</td>\n",
       "      <td>0</td>\n",
       "      <td>0</td>\n",
       "      <td>0</td>\n",
       "    </tr>\n",
       "    <tr>\n",
       "      <th>1</th>\n",
       "      <td>333320</td>\n",
       "      <td>16</td>\n",
       "      <td>24078</td>\n",
       "      <td>1</td>\n",
       "      <td>53</td>\n",
       "      <td>1</td>\n",
       "      <td>6</td>\n",
       "      <td>2015</td>\n",
       "      <td>6</td>\n",
       "      <td>1</td>\n",
       "      <td>...</td>\n",
       "      <td>1</td>\n",
       "      <td>0</td>\n",
       "      <td>0</td>\n",
       "      <td>0</td>\n",
       "      <td>0</td>\n",
       "      <td>0</td>\n",
       "      <td>0</td>\n",
       "      <td>0</td>\n",
       "      <td>0</td>\n",
       "      <td>0</td>\n",
       "    </tr>\n",
       "    <tr>\n",
       "      <th>2</th>\n",
       "      <td>1359</td>\n",
       "      <td>15</td>\n",
       "      <td>131216</td>\n",
       "      <td>0</td>\n",
       "      <td>53</td>\n",
       "      <td>12</td>\n",
       "      <td>3</td>\n",
       "      <td>2015</td>\n",
       "      <td>1</td>\n",
       "      <td>18</td>\n",
       "      <td>...</td>\n",
       "      <td>1</td>\n",
       "      <td>0</td>\n",
       "      <td>0</td>\n",
       "      <td>0</td>\n",
       "      <td>0</td>\n",
       "      <td>0</td>\n",
       "      <td>0</td>\n",
       "      <td>0</td>\n",
       "      <td>0</td>\n",
       "      <td>0</td>\n",
       "    </tr>\n",
       "    <tr>\n",
       "      <th>3</th>\n",
       "      <td>48288</td>\n",
       "      <td>15</td>\n",
       "      <td>131216</td>\n",
       "      <td>0</td>\n",
       "      <td>53</td>\n",
       "      <td>12</td>\n",
       "      <td>3</td>\n",
       "      <td>2015</td>\n",
       "      <td>1</td>\n",
       "      <td>18</td>\n",
       "      <td>...</td>\n",
       "      <td>1</td>\n",
       "      <td>0</td>\n",
       "      <td>0</td>\n",
       "      <td>0</td>\n",
       "      <td>0</td>\n",
       "      <td>0</td>\n",
       "      <td>0</td>\n",
       "      <td>0</td>\n",
       "      <td>0</td>\n",
       "      <td>0</td>\n",
       "    </tr>\n",
       "    <tr>\n",
       "      <th>4</th>\n",
       "      <td>128706</td>\n",
       "      <td>15</td>\n",
       "      <td>131216</td>\n",
       "      <td>0</td>\n",
       "      <td>53</td>\n",
       "      <td>12</td>\n",
       "      <td>3</td>\n",
       "      <td>2015</td>\n",
       "      <td>1</td>\n",
       "      <td>18</td>\n",
       "      <td>...</td>\n",
       "      <td>1</td>\n",
       "      <td>0</td>\n",
       "      <td>0</td>\n",
       "      <td>0</td>\n",
       "      <td>0</td>\n",
       "      <td>0</td>\n",
       "      <td>0</td>\n",
       "      <td>0</td>\n",
       "      <td>0</td>\n",
       "      <td>0</td>\n",
       "    </tr>\n",
       "  </tbody>\n",
       "</table>\n",
       "<p>5 rows × 218 columns</p>\n",
       "</div>"
      ],
      "text/plain": [
       "   user_id  purchase_value  device_id  sex  age  freq_device  dayofweek  \\\n",
       "0    22058              34      89215    0   39            1          1   \n",
       "1   333320              16      24078    1   53            1          6   \n",
       "2     1359              15     131216    0   53           12          3   \n",
       "3    48288              15     131216    0   53           12          3   \n",
       "4   128706              15     131216    0   53           12          3   \n",
       "\n",
       "   weekday_purchase  month_purchase  hour_of_the_day  ...  sub__United States  \\\n",
       "0              2015               4                2  ...                   0   \n",
       "1              2015               6                1  ...                   1   \n",
       "2              2015               1               18  ...                   1   \n",
       "3              2015               1               18  ...                   1   \n",
       "4              2015               1               18  ...                   1   \n",
       "\n",
       "   sub__Uruguay  sub__Uzbekistan  sub__Vanuatu  sub__Venezuela  sub__Vietnam  \\\n",
       "0             0                0             0               0             0   \n",
       "1             0                0             0               0             0   \n",
       "2             0                0             0               0             0   \n",
       "3             0                0             0               0             0   \n",
       "4             0                0             0               0             0   \n",
       "\n",
       "   sub__Yemen  sub__Zambia  sub__Zimbabwe  sub__Åland  \n",
       "0           0            0              0           0  \n",
       "1           0            0              0           0  \n",
       "2           0            0              0           0  \n",
       "3           0            0              0           0  \n",
       "4           0            0              0           0  \n",
       "\n",
       "[5 rows x 218 columns]"
      ]
     },
     "execution_count": 173,
     "metadata": {},
     "output_type": "execute_result"
    }
   ],
   "source": [
    "x = df_train_sub1.drop(['source','signup_time', 'purchase_time','ip_address','class','browser'], axis =1)\n",
    "x.head()"
   ]
  },
  {
   "cell_type": "code",
   "execution_count": 174,
   "metadata": {},
   "outputs": [
    {
     "data": {
      "text/html": [
       "<div>\n",
       "<style scoped>\n",
       "    .dataframe tbody tr th:only-of-type {\n",
       "        vertical-align: middle;\n",
       "    }\n",
       "\n",
       "    .dataframe tbody tr th {\n",
       "        vertical-align: top;\n",
       "    }\n",
       "\n",
       "    .dataframe thead th {\n",
       "        text-align: right;\n",
       "    }\n",
       "</style>\n",
       "<table border=\"1\" class=\"dataframe\">\n",
       "  <thead>\n",
       "    <tr style=\"text-align: right;\">\n",
       "      <th></th>\n",
       "      <th>class</th>\n",
       "    </tr>\n",
       "  </thead>\n",
       "  <tbody>\n",
       "    <tr>\n",
       "      <th>0</th>\n",
       "      <td>0</td>\n",
       "    </tr>\n",
       "    <tr>\n",
       "      <th>1</th>\n",
       "      <td>0</td>\n",
       "    </tr>\n",
       "    <tr>\n",
       "      <th>2</th>\n",
       "      <td>1</td>\n",
       "    </tr>\n",
       "    <tr>\n",
       "      <th>3</th>\n",
       "      <td>1</td>\n",
       "    </tr>\n",
       "    <tr>\n",
       "      <th>4</th>\n",
       "      <td>1</td>\n",
       "    </tr>\n",
       "  </tbody>\n",
       "</table>\n",
       "</div>"
      ],
      "text/plain": [
       "   class\n",
       "0      0\n",
       "1      0\n",
       "2      1\n",
       "3      1\n",
       "4      1"
      ]
     },
     "execution_count": 174,
     "metadata": {},
     "output_type": "execute_result"
    }
   ],
   "source": [
    "y = df_train_sub1[['class']]\n",
    "y.head()"
   ]
  },
  {
   "cell_type": "code",
   "execution_count": 175,
   "metadata": {},
   "outputs": [
    {
     "name": "stderr",
     "output_type": "stream",
     "text": [
      "c:\\python\\lib\\site-packages\\sklearn\\utils\\validation.py:724: DataConversionWarning: A column-vector y was passed when a 1d array was expected. Please change the shape of y to (n_samples, ), for example using ravel().\n",
      "  y = column_or_1d(y, warn=True)\n"
     ]
    },
    {
     "name": "stdout",
     "output_type": "stream",
     "text": [
      "[(0, 136961), (1, 136961)]\n"
     ]
    }
   ],
   "source": [
    "X_s, Y_s = SMOTE().fit_resample(x,y)\n",
    "print(sorted(Counter(Y_s).items()))"
   ]
  },
  {
   "cell_type": "code",
   "execution_count": 177,
   "metadata": {},
   "outputs": [
    {
     "data": {
      "text/html": [
       "<div>\n",
       "<style scoped>\n",
       "    .dataframe tbody tr th:only-of-type {\n",
       "        vertical-align: middle;\n",
       "    }\n",
       "\n",
       "    .dataframe tbody tr th {\n",
       "        vertical-align: top;\n",
       "    }\n",
       "\n",
       "    .dataframe thead th {\n",
       "        text-align: right;\n",
       "    }\n",
       "</style>\n",
       "<table border=\"1\" class=\"dataframe\">\n",
       "  <thead>\n",
       "    <tr style=\"text-align: right;\">\n",
       "      <th></th>\n",
       "      <th>0</th>\n",
       "      <th>1</th>\n",
       "      <th>2</th>\n",
       "      <th>3</th>\n",
       "      <th>4</th>\n",
       "      <th>5</th>\n",
       "      <th>6</th>\n",
       "      <th>7</th>\n",
       "      <th>8</th>\n",
       "      <th>9</th>\n",
       "      <th>...</th>\n",
       "      <th>209</th>\n",
       "      <th>210</th>\n",
       "      <th>211</th>\n",
       "      <th>212</th>\n",
       "      <th>213</th>\n",
       "      <th>214</th>\n",
       "      <th>215</th>\n",
       "      <th>216</th>\n",
       "      <th>217</th>\n",
       "      <th>target</th>\n",
       "    </tr>\n",
       "  </thead>\n",
       "  <tbody>\n",
       "    <tr>\n",
       "      <th>0</th>\n",
       "      <td>22058.0</td>\n",
       "      <td>34.0</td>\n",
       "      <td>89215.0</td>\n",
       "      <td>0.0</td>\n",
       "      <td>39.0</td>\n",
       "      <td>1.0</td>\n",
       "      <td>1.0</td>\n",
       "      <td>2015.0</td>\n",
       "      <td>4.0</td>\n",
       "      <td>2.0</td>\n",
       "      <td>...</td>\n",
       "      <td>0.0</td>\n",
       "      <td>0.0</td>\n",
       "      <td>0.0</td>\n",
       "      <td>0.0</td>\n",
       "      <td>0.0</td>\n",
       "      <td>0.0</td>\n",
       "      <td>0.0</td>\n",
       "      <td>0.0</td>\n",
       "      <td>0.0</td>\n",
       "      <td>0</td>\n",
       "    </tr>\n",
       "    <tr>\n",
       "      <th>1</th>\n",
       "      <td>333320.0</td>\n",
       "      <td>16.0</td>\n",
       "      <td>24078.0</td>\n",
       "      <td>1.0</td>\n",
       "      <td>53.0</td>\n",
       "      <td>1.0</td>\n",
       "      <td>6.0</td>\n",
       "      <td>2015.0</td>\n",
       "      <td>6.0</td>\n",
       "      <td>1.0</td>\n",
       "      <td>...</td>\n",
       "      <td>0.0</td>\n",
       "      <td>0.0</td>\n",
       "      <td>0.0</td>\n",
       "      <td>0.0</td>\n",
       "      <td>0.0</td>\n",
       "      <td>0.0</td>\n",
       "      <td>0.0</td>\n",
       "      <td>0.0</td>\n",
       "      <td>0.0</td>\n",
       "      <td>0</td>\n",
       "    </tr>\n",
       "    <tr>\n",
       "      <th>2</th>\n",
       "      <td>1359.0</td>\n",
       "      <td>15.0</td>\n",
       "      <td>131216.0</td>\n",
       "      <td>0.0</td>\n",
       "      <td>53.0</td>\n",
       "      <td>12.0</td>\n",
       "      <td>3.0</td>\n",
       "      <td>2015.0</td>\n",
       "      <td>1.0</td>\n",
       "      <td>18.0</td>\n",
       "      <td>...</td>\n",
       "      <td>0.0</td>\n",
       "      <td>0.0</td>\n",
       "      <td>0.0</td>\n",
       "      <td>0.0</td>\n",
       "      <td>0.0</td>\n",
       "      <td>0.0</td>\n",
       "      <td>0.0</td>\n",
       "      <td>0.0</td>\n",
       "      <td>0.0</td>\n",
       "      <td>1</td>\n",
       "    </tr>\n",
       "    <tr>\n",
       "      <th>3</th>\n",
       "      <td>48288.0</td>\n",
       "      <td>15.0</td>\n",
       "      <td>131216.0</td>\n",
       "      <td>0.0</td>\n",
       "      <td>53.0</td>\n",
       "      <td>12.0</td>\n",
       "      <td>3.0</td>\n",
       "      <td>2015.0</td>\n",
       "      <td>1.0</td>\n",
       "      <td>18.0</td>\n",
       "      <td>...</td>\n",
       "      <td>0.0</td>\n",
       "      <td>0.0</td>\n",
       "      <td>0.0</td>\n",
       "      <td>0.0</td>\n",
       "      <td>0.0</td>\n",
       "      <td>0.0</td>\n",
       "      <td>0.0</td>\n",
       "      <td>0.0</td>\n",
       "      <td>0.0</td>\n",
       "      <td>1</td>\n",
       "    </tr>\n",
       "    <tr>\n",
       "      <th>4</th>\n",
       "      <td>128706.0</td>\n",
       "      <td>15.0</td>\n",
       "      <td>131216.0</td>\n",
       "      <td>0.0</td>\n",
       "      <td>53.0</td>\n",
       "      <td>12.0</td>\n",
       "      <td>3.0</td>\n",
       "      <td>2015.0</td>\n",
       "      <td>1.0</td>\n",
       "      <td>18.0</td>\n",
       "      <td>...</td>\n",
       "      <td>0.0</td>\n",
       "      <td>0.0</td>\n",
       "      <td>0.0</td>\n",
       "      <td>0.0</td>\n",
       "      <td>0.0</td>\n",
       "      <td>0.0</td>\n",
       "      <td>0.0</td>\n",
       "      <td>0.0</td>\n",
       "      <td>0.0</td>\n",
       "      <td>1</td>\n",
       "    </tr>\n",
       "  </tbody>\n",
       "</table>\n",
       "<p>5 rows × 219 columns</p>\n",
       "</div>"
      ],
      "text/plain": [
       "          0     1         2    3     4     5    6       7    8     9  ...  \\\n",
       "0   22058.0  34.0   89215.0  0.0  39.0   1.0  1.0  2015.0  4.0   2.0  ...   \n",
       "1  333320.0  16.0   24078.0  1.0  53.0   1.0  6.0  2015.0  6.0   1.0  ...   \n",
       "2    1359.0  15.0  131216.0  0.0  53.0  12.0  3.0  2015.0  1.0  18.0  ...   \n",
       "3   48288.0  15.0  131216.0  0.0  53.0  12.0  3.0  2015.0  1.0  18.0  ...   \n",
       "4  128706.0  15.0  131216.0  0.0  53.0  12.0  3.0  2015.0  1.0  18.0  ...   \n",
       "\n",
       "   209  210  211  212  213  214  215  216  217  target  \n",
       "0  0.0  0.0  0.0  0.0  0.0  0.0  0.0  0.0  0.0       0  \n",
       "1  0.0  0.0  0.0  0.0  0.0  0.0  0.0  0.0  0.0       0  \n",
       "2  0.0  0.0  0.0  0.0  0.0  0.0  0.0  0.0  0.0       1  \n",
       "3  0.0  0.0  0.0  0.0  0.0  0.0  0.0  0.0  0.0       1  \n",
       "4  0.0  0.0  0.0  0.0  0.0  0.0  0.0  0.0  0.0       1  \n",
       "\n",
       "[5 rows x 219 columns]"
      ]
     },
     "execution_count": 177,
     "metadata": {},
     "output_type": "execute_result"
    }
   ],
   "source": [
    "data_S = pd.DataFrame(X_s)\n",
    "data_S['target'] = Y_s\n",
    "data_S.head()"
   ]
  },
  {
   "cell_type": "code",
   "execution_count": 179,
   "metadata": {},
   "outputs": [],
   "source": [
    "data_0 = data_S[data_S.target == 0]\n",
    "data_1 = data_S[data_S.target == 1]"
   ]
  },
  {
   "cell_type": "code",
   "execution_count": 182,
   "metadata": {},
   "outputs": [],
   "source": [
    "data_0_resample = resample(data_0,\n",
    "                           replace = True, # sample with replacement\n",
    "                           n_samples = data_1.shape[0],\n",
    "                           random_state = 27)"
   ]
  },
  {
   "cell_type": "code",
   "execution_count": 184,
   "metadata": {},
   "outputs": [
    {
     "data": {
      "text/plain": [
       "(136961, 219)"
      ]
     },
     "execution_count": 184,
     "metadata": {},
     "output_type": "execute_result"
    }
   ],
   "source": [
    "data_0_resample.shape"
   ]
  },
  {
   "cell_type": "code",
   "execution_count": 185,
   "metadata": {},
   "outputs": [],
   "source": [
    "upsample = pd.concat([data_0_resample, data_1])"
   ]
  },
  {
   "cell_type": "code",
   "execution_count": 186,
   "metadata": {},
   "outputs": [
    {
     "data": {
      "text/plain": [
       "1    136961\n",
       "0    136961\n",
       "Name: target, dtype: int64"
      ]
     },
     "execution_count": 186,
     "metadata": {},
     "output_type": "execute_result"
    }
   ],
   "source": [
    "upsample.target.value_counts()"
   ]
  },
  {
   "cell_type": "markdown",
   "metadata": {},
   "source": [
    "# 5. Logistic Regression"
   ]
  },
  {
   "cell_type": "code",
   "execution_count": 188,
   "metadata": {},
   "outputs": [],
   "source": [
    "from sklearn.model_selection import train_test_split\n",
    "from sklearn.linear_model import LogisticRegression"
   ]
  },
  {
   "cell_type": "code",
   "execution_count": 187,
   "metadata": {},
   "outputs": [
    {
     "data": {
      "text/plain": [
       "(273922, 218)"
      ]
     },
     "execution_count": 187,
     "metadata": {},
     "output_type": "execute_result"
    }
   ],
   "source": [
    "X = upsample.drop(['target'], axis = 1)\n",
    "X.shape"
   ]
  },
  {
   "cell_type": "code",
   "execution_count": 189,
   "metadata": {},
   "outputs": [],
   "source": [
    "Y = upsample['target']"
   ]
  },
  {
   "cell_type": "code",
   "execution_count": 190,
   "metadata": {},
   "outputs": [
    {
     "name": "stderr",
     "output_type": "stream",
     "text": [
      "c:\\python\\lib\\site-packages\\sklearn\\linear_model\\logistic.py:432: FutureWarning: Default solver will be changed to 'lbfgs' in 0.22. Specify a solver to silence this warning.\n",
      "  FutureWarning)\n"
     ]
    },
    {
     "data": {
      "text/plain": [
       "LogisticRegression(C=1.0, class_weight=None, dual=False, fit_intercept=True,\n",
       "                   intercept_scaling=1, l1_ratio=None, max_iter=100,\n",
       "                   multi_class='warn', n_jobs=None, penalty='l2',\n",
       "                   random_state=None, solver='warn', tol=0.0001, verbose=0,\n",
       "                   warm_start=False)"
      ]
     },
     "execution_count": 190,
     "metadata": {},
     "output_type": "execute_result"
    }
   ],
   "source": [
    "X_train, X_test, y_train, y_test = train_test_split(X,Y, train_size=0.8, random_state=0)\n",
    "model = LogisticRegression()\n",
    "model.fit(X_train,y_train)"
   ]
  },
  {
   "cell_type": "code",
   "execution_count": 191,
   "metadata": {},
   "outputs": [
    {
     "data": {
      "text/plain": [
       "array([2.27773359e-07])"
      ]
     },
     "execution_count": 191,
     "metadata": {},
     "output_type": "execute_result"
    }
   ],
   "source": [
    "model.intercept_"
   ]
  },
  {
   "cell_type": "code",
   "execution_count": 192,
   "metadata": {},
   "outputs": [
    {
     "data": {
      "text/plain": [
       "array([[ 9.64904338e-08,  8.89278983e-06,  2.89382387e-07,\n",
       "         6.33874530e-08,  7.81804804e-06,  1.26928287e-05,\n",
       "         8.16432431e-07,  4.58963318e-04, -2.64514514e-06,\n",
       "         2.58627916e-06, -2.58592856e-07, -2.25109069e-10,\n",
       "         3.90381513e-08,  1.25389886e-08,  1.64109169e-09,\n",
       "         1.74780236e-07,  3.63051865e-08,  2.91080775e-08,\n",
       "         5.30359498e-08,  3.44251306e-08,  5.35843404e-08,\n",
       "         2.13146740e-08,  1.43946157e-10, -1.35922961e-10,\n",
       "         9.31111836e-10, -3.17162080e-11,  2.02849294e-11,\n",
       "         0.00000000e+00,  2.73541988e-09, -5.97151701e-11,\n",
       "        -7.61254481e-10, -1.37897977e-09,  2.35881931e-10,\n",
       "        -7.01819726e-11, -2.86827698e-10, -7.82737182e-11,\n",
       "        -3.94237843e-11, -7.00283014e-10,  3.56745599e-09,\n",
       "        -5.00727832e-11,  0.00000000e+00, -1.00527346e-10,\n",
       "        -9.41190744e-12,  1.73682444e-09, -2.34224534e-11,\n",
       "        -2.65055316e-10, -9.38828642e-11,  3.62557501e-09,\n",
       "        -3.96189508e-11, -3.53004290e-11, -6.98736465e-11,\n",
       "        -1.63625258e-09, -6.84965207e-11, -2.09677115e-11,\n",
       "         0.00000000e+00, -4.47128212e-10, -3.16347474e-11,\n",
       "         9.86382214e-09, -2.96938715e-11,  4.83141952e-09,\n",
       "        -4.41909601e-10, -1.02933135e-09, -2.71933658e-11,\n",
       "         3.97002918e-10,  2.15232369e-09,  1.43284634e-10,\n",
       "        -4.96059781e-11, -2.32639653e-10, -2.91730023e-09,\n",
       "         7.18318155e-09, -4.29167407e-11, -7.38373066e-11,\n",
       "         2.35201290e-13,  3.53976345e-09,  3.51439416e-09,\n",
       "        -3.93902323e-11,  8.56705785e-11, -6.51730127e-11,\n",
       "        -2.64575028e-11, -3.60453171e-11,  2.33363981e-10,\n",
       "         7.35997074e-09, -1.27230821e-11, -2.85850701e-10,\n",
       "        -1.73621272e-11, -2.61134700e-10, -6.24986657e-09,\n",
       "        -4.20230621e-10, -9.87365197e-11,  2.97317022e-09,\n",
       "        -4.86494633e-11,  1.15745626e-10, -9.90359098e-11,\n",
       "        -1.90998411e-10,  0.00000000e+00, -6.71634401e-11,\n",
       "        -3.26692139e-10,  5.94662342e-11,  5.79829988e-09,\n",
       "         5.58878673e-11,  1.16632621e-10,  6.02226005e-09,\n",
       "        -2.27979561e-09,  1.24935484e-09, -4.32404866e-10,\n",
       "         2.75115087e-09,  3.35844222e-11, -1.82757883e-09,\n",
       "         4.22197052e-10,  1.70024452e-10, -1.82216482e-10,\n",
       "         1.17418354e-08,  0.00000000e+00,  9.47175140e-10,\n",
       "        -1.81232467e-10, -4.34453640e-11,  2.66984848e-09,\n",
       "        -2.82540155e-10, -3.14422735e-11,  3.57304396e-10,\n",
       "         3.42124565e-10, -1.57387517e-11,  1.52474277e-11,\n",
       "        -5.85987568e-11,  1.25674138e-09, -1.81646249e-10,\n",
       "        -1.75403355e-10, -3.60229484e-11,  1.69835810e-10,\n",
       "        -1.31422504e-09,  0.00000000e+00, -3.97494890e-11,\n",
       "         6.84586455e-10, -3.78628247e-11,  1.34247356e-10,\n",
       "        -1.56955687e-11,  7.29123040e-09,  0.00000000e+00,\n",
       "        -6.02622456e-11,  3.95864979e-11, -6.94193284e-10,\n",
       "        -2.72510969e-10, -5.62007678e-11,  1.33158621e-09,\n",
       "        -3.95386309e-11, -3.75988613e-10,  1.78784232e-09,\n",
       "        -1.19467718e-11,  7.19596954e-09,  2.21505619e-11,\n",
       "        -3.36624730e-11, -6.13939486e-10,  2.64793263e-09,\n",
       "        -4.98547285e-10, -1.77936775e-09, -3.40192530e-10,\n",
       "        -4.84336766e-10, -1.02771793e-10,  1.78683346e-10,\n",
       "         3.11084567e-09,  1.71405360e-10, -1.58553053e-09,\n",
       "         3.64966583e-11, -4.90876142e-10, -4.70329950e-10,\n",
       "         8.14930217e-09,  1.83093525e-09, -8.82915308e-10,\n",
       "        -1.09283213e-10, -2.57614711e-09,  1.08666210e-09,\n",
       "        -3.58723532e-10, -1.79528007e-10,  0.00000000e+00,\n",
       "        -1.62650358e-11,  0.00000000e+00, -3.77492299e-11,\n",
       "         0.00000000e+00,  2.08988527e-09,  3.51995275e-10,\n",
       "        -9.73747681e-10,  1.48174428e-10, -1.10970087e-10,\n",
       "        -2.77186167e-10, -6.16360514e-10, -1.41535851e-11,\n",
       "         2.31824050e-09, -2.59457392e-11, -2.36056115e-09,\n",
       "         1.95189796e-09, -1.03150411e-10,  7.73042663e-11,\n",
       "         7.63076530e-09,  2.28721547e-09, -3.04676595e-10,\n",
       "        -3.04988429e-09, -6.28254464e-11, -3.80355377e-10,\n",
       "        -1.26576025e-09, -2.47040179e-11,  2.85486541e-09,\n",
       "        -3.90553268e-10,  1.99364454e-10,  1.59595067e-10,\n",
       "        -2.51377379e-10,  2.06947485e-09,  9.29767398e-10,\n",
       "         1.63836699e-08,  1.13591580e-07,  2.40522184e-10,\n",
       "         7.07727170e-10, -2.05263966e-11,  1.47897951e-09,\n",
       "        -1.11625495e-10,  2.45401098e-11, -1.54655231e-10,\n",
       "        -1.66837470e-10, -4.26918203e-11]])"
      ]
     },
     "execution_count": 192,
     "metadata": {},
     "output_type": "execute_result"
    }
   ],
   "source": [
    "model.coef_"
   ]
  },
  {
   "cell_type": "code",
   "execution_count": 193,
   "metadata": {},
   "outputs": [
    {
     "data": {
      "text/plain": [
       "0.6731359834258934"
      ]
     },
     "execution_count": 193,
     "metadata": {},
     "output_type": "execute_result"
    }
   ],
   "source": [
    "#traning score\n",
    "model.score(X_train,y_train)"
   ]
  },
  {
   "cell_type": "code",
   "execution_count": 194,
   "metadata": {},
   "outputs": [
    {
     "data": {
      "text/plain": [
       "0.6734142557269326"
      ]
     },
     "execution_count": 194,
     "metadata": {},
     "output_type": "execute_result"
    }
   ],
   "source": [
    "#Testing score\n",
    "model.score(X_test, y_test)"
   ]
  },
  {
   "cell_type": "code",
   "execution_count": 197,
   "metadata": {},
   "outputs": [],
   "source": [
    "from sklearn.model_selection import cross_val_score\n",
    "from sklearn.metrics import confusion_matrix\n",
    "from sklearn.metrics import f1_score\n",
    "from sklearn.metrics import accuracy_score\n",
    "from sklearn import metrics\n",
    "from sklearn.metrics import classification_report"
   ]
  },
  {
   "cell_type": "code",
   "execution_count": 198,
   "metadata": {},
   "outputs": [
    {
     "data": {
      "text/plain": [
       "0.6734142557269326"
      ]
     },
     "execution_count": 198,
     "metadata": {},
     "output_type": "execute_result"
    }
   ],
   "source": [
    "y_o_pred = model.predict(X_test)\n",
    "accuracy_score(y_test,y_o_pred)"
   ]
  },
  {
   "cell_type": "code",
   "execution_count": 200,
   "metadata": {},
   "outputs": [
    {
     "name": "stdout",
     "output_type": "stream",
     "text": [
      "confusion matrix:\n",
      " [[17532  9828]\n",
      " [ 8064 19361]]\n"
     ]
    }
   ],
   "source": [
    "# Evaluation\n",
    "conf_matrix = metrics.confusion_matrix(y_true=y_test, y_pred=y_o_pred)\n",
    "print(\"confusion matrix:\\n\", conf_matrix)"
   ]
  },
  {
   "cell_type": "markdown",
   "metadata": {},
   "source": [
    "# 6. Report\n",
    "You should be able to report the accuracy of the built model using different evaluation metrics:"
   ]
  },
  {
   "cell_type": "markdown",
   "metadata": {},
   "source": [
    "| Algorithm          | Accuracy Score | F1-score |\n",
    "|--------------------|---------|----------|\n",
    "| LogisticRegression | 67.3%  | 0.67     |"
   ]
  },
  {
   "cell_type": "code",
   "execution_count": null,
   "metadata": {},
   "outputs": [],
   "source": []
  }
 ],
 "metadata": {
  "kernelspec": {
   "display_name": "Python 3",
   "language": "python",
   "name": "python3"
  },
  "language_info": {
   "codemirror_mode": {
    "name": "ipython",
    "version": 3
   },
   "file_extension": ".py",
   "mimetype": "text/x-python",
   "name": "python",
   "nbconvert_exporter": "python",
   "pygments_lexer": "ipython3",
   "version": "3.6.8"
  }
 },
 "nbformat": 4,
 "nbformat_minor": 2
}
