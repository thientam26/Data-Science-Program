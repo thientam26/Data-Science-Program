{
 "cells": [
  {
   "cell_type": "code",
   "execution_count": 1,
   "metadata": {},
   "outputs": [],
   "source": [
    "import numpy as np\n",
    "from matplotlib import pyplot as plt\n",
    "from sklearn.datasets.samples_generator import make_blobs\n",
    "%matplotlib inline"
   ]
  },
  {
   "cell_type": "code",
   "execution_count": 2,
   "metadata": {},
   "outputs": [],
   "source": [
    "def scatter_data(x,y):\n",
    "    for idx, val in enumerate(x):\n",
    "        if y[idx] == -1:\n",
    "            plt.scatter(val[0], val[1], marker='o', c = 'blue')\n",
    "        else:\n",
    "            plt.scatter(val[0], val[1], marker='o', c='red')"
   ]
  },
  {
   "cell_type": "code",
   "execution_count": 3,
   "metadata": {},
   "outputs": [],
   "source": [
    "def svm_function(x,y):\n",
    "    #initilizing weight\n",
    "    w = np.zeros(len(x[0]))\n",
    "    g = np.ones(len(x))\n",
    "    #initialize learning rate\n",
    "    l_rate = 1\n",
    "    C = 10\n",
    "    N = len(y)\n",
    "    #epoch\n",
    "    epoch = 1000\n",
    "    #output list\n",
    "    out = []\n",
    "    lamb = 2 / (C * N)\n",
    "    #training svm\n",
    "    for e in range(epoch):\n",
    "        for i, val in enumerate(x):\n",
    "            val1 = np.dot(x[i], w)\n",
    "            if (y[i]*val1 < 1):\n",
    "                w = w - l_rate * (lamb*w - y[i]*x[i])\n",
    "                g += lamb * y[i]\n",
    "            else:\n",
    "                w = w - l_rate * lamb*w\n",
    "    \n",
    "    for i, val in enumerate(x):\n",
    "        out.append(np.dot(x[i], w))\n",
    "    \n",
    "    return w, out, y*g"
   ]
  },
  {
   "cell_type": "code",
   "execution_count": 4,
   "metadata": {},
   "outputs": [],
   "source": [
    "def _compute_intercept(alpha, yg):\n",
    "    indices = (alpha < 1000) * (alpha > 0)\n",
    "    return np.mean(yg[indices])"
   ]
  },
  {
   "cell_type": "code",
   "execution_count": 5,
   "metadata": {},
   "outputs": [],
   "source": [
    "# generate 2d classification dataset\n",
    "x, y = make_blobs(n_samples=100, centers=2, n_features=2)\n",
    "y[y == 0] = -1\n",
    "# b = np.array([[-1] * len(x)]).T\n",
    "# x = np.append(x, b, axis=1)\n",
    "# print(x)\n",
    "# print(y)"
   ]
  },
  {
   "cell_type": "code",
   "execution_count": 6,
   "metadata": {},
   "outputs": [
    {
     "data": {
      "image/png": "[encoded data removed]",
      "text/plain": [
       "<Figure size 432x288 with 1 Axes>"
      ]
     },
     "metadata": {
      "needs_background": "light"
     },
     "output_type": "display_data"
    }
   ],
   "source": [
    "scatter_data(x,y)"
   ]
  },
  {
   "cell_type": "code",
   "execution_count": 7,
   "metadata": {},
   "outputs": [
    {
     "name": "stdout",
     "output_type": "stream",
     "text": [
      "Calculated weights\n",
      "[18.63522972 -7.2499886 ]\n"
     ]
    }
   ],
   "source": [
    "w, out, yg = svm_function(x,y)\n",
    "print('Calculated weights')\n",
    "print(w)"
   ]
  },
  {
   "cell_type": "code",
   "execution_count": 8,
   "metadata": {},
   "outputs": [],
   "source": [
    "# b = _compute_intercept(np.array(out),yg)\n",
    "# print(b)"
   ]
  },
  {
   "cell_type": "code",
   "execution_count": 9,
   "metadata": {},
   "outputs": [
    {
     "data": {
      "image/png": "[encoded data removed]",
      "text/plain": [
       "<Figure size 432x288 with 1 Axes>"
      ]
     },
     "metadata": {
      "needs_background": "light"
     },
     "output_type": "display_data"
    }
   ],
   "source": [
    "scatter_data(x,y)\n",
    "a = -w[0]/w[1]\n",
    "xx = np.linspace(-10, -2)\n",
    "yy = a * xx  #+ b\n",
    "plt.plot(xx,yy)\n",
    "plt.show()"
   ]
  },
  {
   "cell_type": "code",
   "execution_count": null,
   "metadata": {},
   "outputs": [],
   "source": []
  },
  {
   "cell_type": "code",
   "execution_count": null,
   "metadata": {},
   "outputs": [],
   "source": []
  }
 ],
 "metadata": {
  "kernelspec": {
   "display_name": "Python 3",
   "language": "python",
   "name": "python3"
  },
  "language_info": {
   "codemirror_mode": {
    "name": "ipython",
    "version": 3
   },
   "file_extension": ".py",
   "mimetype": "text/x-python",
   "name": "python",
   "nbconvert_exporter": "python",
   "pygments_lexer": "ipython3",
   "version": "3.6.8"
  }
 },
 "nbformat": 4,
 "nbformat_minor": 2
}
